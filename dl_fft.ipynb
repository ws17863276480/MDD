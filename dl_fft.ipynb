{
 "cells": [
  {
   "cell_type": "code",
   "execution_count": 1,
   "metadata": {
    "pycharm": {
     "is_executing": false
    }
   },
   "outputs": [],
   "source": [
    "import pandas as pd\n",
    "import numpy as np\n",
    "import matplotlib.pyplot as plt\n",
    "import matplotlib.dates as md\n",
    "import os\n",
    "import mne\n",
    "import random\n",
    "from sklearn.metrics import classification_report"
   ]
  },
  {
   "cell_type": "code",
   "execution_count": 2,
   "metadata": {
    "pycharm": {
     "is_executing": false,
     "name": "#%%\n"
    }
   },
   "outputs": [
    {
     "name": "stdout",
     "text": [
      "Extracting EDF parameters from C:\\python\\study\\4월3주\\depression\\dataset\\EC\\MDD S1 EC.edf...\n",
      "EDF file detected\n",
      "Setting channel info structure...\n",
      "Creating raw.info structure...\n",
      "Extracting EDF parameters from C:\\python\\study\\4월3주\\depression\\dataset\\EC\\MDD S10 EC.edf...\n",
      "EDF file detected\n",
      "Setting channel info structure...\n",
      "Creating raw.info structure...\n",
      "Extracting EDF parameters from C:\\python\\study\\4월3주\\depression\\dataset\\EC\\MDD S11 EC.edf...\n",
      "EDF file detected\n",
      "Setting channel info structure...\n",
      "Creating raw.info structure...\n",
      "Extracting EDF parameters from C:\\python\\study\\4월3주\\depression\\dataset\\EC\\MDD S12 EC.edf...\n",
      "EDF file detected\n",
      "Setting channel info structure...\n",
      "Creating raw.info structure...\n",
      "Extracting EDF parameters from C:\\python\\study\\4월3주\\depression\\dataset\\EC\\MDD S13 EC.edf...\n",
      "EDF file detected\n",
      "Setting channel info structure...\n",
      "Creating raw.info structure...\n",
      "Extracting EDF parameters from C:\\python\\study\\4월3주\\depression\\dataset\\EC\\MDD S14 EC.edf...\n",
      "EDF file detected\n",
      "Setting channel info structure...\n",
      "Creating raw.info structure...\n",
      "Extracting EDF parameters from C:\\python\\study\\4월3주\\depression\\dataset\\EC\\MDD S15 EC.edf...\n",
      "EDF file detected\n",
      "Setting channel info structure...\n",
      "Creating raw.info structure...\n",
      "Extracting EDF parameters from C:\\python\\study\\4월3주\\depression\\dataset\\EC\\MDD S16 EC.edf...\n",
      "EDF file detected\n",
      "Setting channel info structure...\n",
      "Creating raw.info structure...\n",
      "Extracting EDF parameters from C:\\python\\study\\4월3주\\depression\\dataset\\EC\\MDD S17 EC.edf...\n",
      "EDF file detected\n",
      "Setting channel info structure...\n",
      "Creating raw.info structure...\n",
      "Extracting EDF parameters from C:\\python\\study\\4월3주\\depression\\dataset\\EC\\MDD S18 EC.edf...\n",
      "EDF file detected\n",
      "Setting channel info structure...\n",
      "Creating raw.info structure...\n",
      "Extracting EDF parameters from C:\\python\\study\\4월3주\\depression\\dataset\\EC\\MDD S19 EC.edf...\n",
      "EDF file detected\n",
      "Setting channel info structure...\n",
      "Creating raw.info structure...\n",
      "Extracting EDF parameters from C:\\python\\study\\4월3주\\depression\\dataset\\EC\\MDD S2 EC.edf...\n",
      "EDF file detected\n",
      "Setting channel info structure...\n",
      "Creating raw.info structure...\n",
      "Extracting EDF parameters from C:\\python\\study\\4월3주\\depression\\dataset\\EC\\MDD S20 EC.edf...\n",
      "EDF file detected\n",
      "Setting channel info structure...\n",
      "Creating raw.info structure...\n",
      "Extracting EDF parameters from C:\\python\\study\\4월3주\\depression\\dataset\\EC\\MDD S21 EC.edf...\n",
      "EDF file detected\n",
      "Setting channel info structure...\n",
      "Creating raw.info structure...\n",
      "Extracting EDF parameters from C:\\python\\study\\4월3주\\depression\\dataset\\EC\\MDD S22 EC.edf...\n",
      "EDF file detected\n",
      "Setting channel info structure...\n",
      "Creating raw.info structure...\n",
      "Extracting EDF parameters from C:\\python\\study\\4월3주\\depression\\dataset\\EC\\MDD S23 EC.edf...\n",
      "EDF file detected\n",
      "Setting channel info structure...\n",
      "Creating raw.info structure...\n",
      "Extracting EDF parameters from C:\\python\\study\\4월3주\\depression\\dataset\\EC\\MDD S24 EC.edf...\n",
      "EDF file detected\n",
      "Setting channel info structure...\n",
      "Creating raw.info structure...\n",
      "Extracting EDF parameters from C:\\python\\study\\4월3주\\depression\\dataset\\EC\\MDD S25 EC.edf...\n",
      "EDF file detected\n",
      "Setting channel info structure...\n",
      "Creating raw.info structure...\n",
      "Extracting EDF parameters from C:\\python\\study\\4월3주\\depression\\dataset\\EC\\MDD S26 EC.edf...\n",
      "EDF file detected\n",
      "Setting channel info structure...\n",
      "Creating raw.info structure...\n",
      "Extracting EDF parameters from C:\\python\\study\\4월3주\\depression\\dataset\\EC\\MDD S27 EC.edf...\n",
      "EDF file detected\n",
      "Setting channel info structure...\n",
      "Creating raw.info structure...\n",
      "Extracting EDF parameters from C:\\python\\study\\4월3주\\depression\\dataset\\EC\\MDD S28 EC.edf...\n",
      "EDF file detected\n",
      "Setting channel info structure...\n",
      "Creating raw.info structure...\n",
      "Extracting EDF parameters from C:\\python\\study\\4월3주\\depression\\dataset\\EC\\MDD S3 EC.edf...\n",
      "EDF file detected\n",
      "Setting channel info structure...\n",
      "Creating raw.info structure...\n",
      "Extracting EDF parameters from C:\\python\\study\\4월3주\\depression\\dataset\\EC\\MDD S4 EC.edf...\n",
      "EDF file detected\n",
      "Setting channel info structure...\n",
      "Creating raw.info structure...\n",
      "Extracting EDF parameters from C:\\python\\study\\4월3주\\depression\\dataset\\EC\\MDD S5 EC.edf...\n",
      "EDF file detected\n",
      "Setting channel info structure...\n",
      "Creating raw.info structure...\n",
      "Extracting EDF parameters from C:\\python\\study\\4월3주\\depression\\dataset\\EC\\MDD S6 EC.edf...\n",
      "EDF file detected\n",
      "Setting channel info structure...\n",
      "Creating raw.info structure...\n",
      "Extracting EDF parameters from C:\\python\\study\\4월3주\\depression\\dataset\\EC\\MDD S7 EC.edf...\n",
      "EDF file detected\n",
      "Setting channel info structure...\n",
      "Creating raw.info structure...\n",
      "Extracting EDF parameters from C:\\python\\study\\4월3주\\depression\\dataset\\EC\\MDD S8 EC.edf...\n",
      "EDF file detected\n",
      "Setting channel info structure...\n",
      "Creating raw.info structure...\n",
      "Extracting EDF parameters from C:\\python\\study\\4월3주\\depression\\dataset\\EC\\MDD S9 EC.edf...\n",
      "EDF file detected\n",
      "Setting channel info structure...\n",
      "Creating raw.info structure...\n",
      "Extracting EDF parameters from C:\\python\\study\\4월3주\\depression\\dataset\\EC\\MDD W29 EC.edf...\n",
      "EDF file detected\n",
      "Setting channel info structure...\n",
      "Creating raw.info structure...\n",
      "Extracting EDF parameters from C:\\python\\study\\4월3주\\depression\\dataset\\EC\\MDD W30 EC.edf...\n",
      "EDF file detected\n",
      "Setting channel info structure...\n",
      "Creating raw.info structure...\n",
      "Extracting EDF parameters from C:\\python\\study\\4월3주\\depression\\dataset\\EC\\S1 EC.edf...\n",
      "EDF file detected\n",
      "Setting channel info structure...\n",
      "Creating raw.info structure...\n",
      "Extracting EDF parameters from C:\\python\\study\\4월3주\\depression\\dataset\\EC\\S10  EC.edf...\n",
      "EDF file detected\n",
      "Setting channel info structure...\n",
      "Creating raw.info structure...\n",
      "Extracting EDF parameters from C:\\python\\study\\4월3주\\depression\\dataset\\EC\\S11  EC.edf...\n",
      "EDF file detected\n",
      "Setting channel info structure...\n",
      "Creating raw.info structure...\n",
      "Extracting EDF parameters from C:\\python\\study\\4월3주\\depression\\dataset\\EC\\S12  EC.edf...\n",
      "EDF file detected\n",
      "Setting channel info structure...\n",
      "Creating raw.info structure...\n",
      "Extracting EDF parameters from C:\\python\\study\\4월3주\\depression\\dataset\\EC\\S13  EC.edf...\n",
      "EDF file detected\n",
      "Setting channel info structure...\n",
      "Creating raw.info structure...\n",
      "Extracting EDF parameters from C:\\python\\study\\4월3주\\depression\\dataset\\EC\\S14  EC.edf...\n",
      "EDF file detected\n",
      "Setting channel info structure...\n",
      "Creating raw.info structure...\n",
      "Extracting EDF parameters from C:\\python\\study\\4월3주\\depression\\dataset\\EC\\S15  EC.edf...\n",
      "EDF file detected\n",
      "Setting channel info structure...\n",
      "Creating raw.info structure...\n",
      "Extracting EDF parameters from C:\\python\\study\\4월3주\\depression\\dataset\\EC\\S2 EC.edf...\n",
      "EDF file detected\n",
      "Setting channel info structure...\n",
      "Creating raw.info structure...\n",
      "Extracting EDF parameters from C:\\python\\study\\4월3주\\depression\\dataset\\EC\\S3  EC.edf...\n",
      "EDF file detected\n",
      "Setting channel info structure...\n",
      "Creating raw.info structure...\n",
      "Extracting EDF parameters from C:\\python\\study\\4월3주\\depression\\dataset\\EC\\S4  EC.edf...\n",
      "EDF file detected\n",
      "Setting channel info structure...\n",
      "Creating raw.info structure...\n",
      "Extracting EDF parameters from C:\\python\\study\\4월3주\\depression\\dataset\\EC\\S5  EC.edf...\n",
      "EDF file detected\n",
      "Setting channel info structure...\n",
      "Creating raw.info structure...\n",
      "Extracting EDF parameters from C:\\python\\study\\4월3주\\depression\\dataset\\EC\\S6  EC.edf...\n",
      "EDF file detected\n",
      "Setting channel info structure...\n",
      "Creating raw.info structure...\n",
      "Extracting EDF parameters from C:\\python\\study\\4월3주\\depression\\dataset\\EC\\S7  EC.edf...\n",
      "EDF file detected\n",
      "Setting channel info structure...\n",
      "Creating raw.info structure...\n",
      "Extracting EDF parameters from C:\\python\\study\\4월3주\\depression\\dataset\\EC\\S8  EC.edf...\n",
      "EDF file detected\n",
      "Setting channel info structure...\n",
      "Creating raw.info structure...\n",
      "Extracting EDF parameters from C:\\python\\study\\4월3주\\depression\\dataset\\EC\\S9  EC.edf...\n",
      "EDF file detected\n",
      "Setting channel info structure...\n",
      "Creating raw.info structure...\n"
     ],
     "output_type": "stream"
    }
   ],
   "source": [
    "MDD_dataset_Filenames = os.listdir('./data/MDD')\n",
    "H_dataset_Filenames = os.listdir('./data/H')\n",
    "MDD_dataset_list = []\n",
    "H_dataset_list = []\n",
    "\n",
    "for filename in MDD_dataset_Filenames:\n",
    "    data = mne.io.read_raw_edf('./dataset/EC/' + str(filename))\n",
    "    MDD_dataset_list.append(data)  \n",
    "    \n",
    "for filename in H_dataset_Filenames:\n",
    "    data = mne.io.read_raw_edf('./dataset/EC/' + str(filename))\n",
    "    H_dataset_list.append(data)  \n",
    "\n"
   ]
  },
  {
   "cell_type": "code",
   "execution_count": 3,
   "metadata": {
    "pycharm": {
     "is_executing": false,
     "name": "#%%\n"
    }
   },
   "outputs": [],
   "source": [
    "MDD_dataframe_list = [] #MDD 환자의 데이터프레임 리스트\n",
    "H_dataframe_list = [] #건강한 사람의 데이터프레임 리스트\n",
    "for raw in MDD_dataset_list:\n",
    "    raw_data = raw.get_data(return_times=True)\n",
    "    channels = raw.ch_names\n",
    "    T_data = np.transpose(raw_data[0])\n",
    "    time = np.transpose(raw_data[1])\n",
    "    temp = pd.DataFrame(T_data, columns = channels, index = time)\n",
    "    MDD_dataframe_list.append(temp)\n",
    "    \n",
    "for raw in H_dataset_list:\n",
    "    raw_data = raw.get_data(return_times=True)\n",
    "    channels = raw.ch_names\n",
    "    T_data = np.transpose(raw_data[0])\n",
    "    time = np.transpose(raw_data[1])\n",
    "    temp = pd.DataFrame(T_data, columns = channels, index = time)\n",
    "    H_dataframe_list.append(temp)\n",
    "\n",
    "MDD_dataframe_list[23].rename(columns = {'E F3-Ref': 'F3'}, inplace = True)"
   ]
  },
  {
   "cell_type": "code",
   "execution_count": 4,
   "metadata": {
    "pycharm": {
     "is_executing": false,
     "name": "#%%\n"
    }
   },
   "outputs": [],
   "source": [
    "X = {}\n",
    "y = []\n",
    "for i in range(len(MDD_dataframe_list)):\n",
    "    a = MDD_dataframe_list[i]\n",
    "    #데이터 클린징\n",
    "    a.F3 = a.F3[a.F3 > -0.0005]\n",
    "    a = a.fillna(method='ffill')\n",
    "    fft = np.fft.fft(a['F3'])\n",
    "    fft = np.abs(fft)\n",
    "    X[i] = fft\n",
    "    y.append(1)\n",
    "    \n",
    "for i in range(30, 30+len(H_dataframe_list)):\n",
    "    a = H_dataframe_list[30-i]\n",
    "    a.rename(columns = {'EEG F3-LE' : 'F3'}, inplace = True)\n",
    "    #데이터 클린징\n",
    "    a.F3 = a.F3[a.F3 > -0.0005]\n",
    "    a = a.fillna(method='ffill')\n",
    "    fft = np.fft.fft(a['F3'])\n",
    "    fft = np.abs(fft)\n",
    "    X[i] = fft\n",
    "    y.append(0)\n",
    "    \n",
    "X = pd.DataFrame.from_dict(X, orient='index')\n",
    "X['target'] = y"
   ]
  },
  {
   "cell_type": "code",
   "execution_count": 5,
   "metadata": {
    "pycharm": {
     "is_executing": false
    }
   },
   "outputs": [],
   "source": [
    "X = X.fillna(0)"
   ]
  },
  {
   "cell_type": "code",
   "execution_count": 6,
   "metadata": {
    "pycharm": {
     "name": "#%%\n",
     "is_executing": false
    }
   },
   "outputs": [],
   "source": [
    "# 타겟 컬럼과 특징 컬럼 정의\n",
    "\n",
    "target_col = 'target'\n",
    "target = X[target_col]\n",
    "features = X[X.columns.difference(['target'])]\n"
   ]
  },
  {
   "cell_type": "code",
   "execution_count": 7,
   "metadata": {
    "pycharm": {
     "is_executing": false,
     "name": "#%%\n"
    }
   },
   "outputs": [],
   "source": [
    "from sklearn.model_selection import train_test_split\n",
    "X_train, X_test, y_train, y_test = train_test_split(features, target, test_size=0.4)"
   ]
  },
  {
   "cell_type": "code",
   "execution_count": 8,
   "metadata": {
    "pycharm": {
     "is_executing": false,
     "name": "#%%\n"
    }
   },
   "outputs": [
    {
     "data": {
      "text/plain": "SVC(C=1.0, cache_size=200, class_weight=None, coef0=0.0,\n    decision_function_shape='ovr', degree=3, gamma='auto_deprecated',\n    kernel='linear', max_iter=-1, probability=False, random_state=0,\n    shrinking=True, tol=0.001, verbose=False)"
     },
     "metadata": {},
     "output_type": "execute_result",
     "execution_count": 8
    }
   ],
   "source": [
    "from sklearn.svm import SVC\n",
    "#SVM Model\n",
    "svm_linear = SVC(kernel='linear', random_state=0)\n",
    "svm_linear.fit(X_train, y_train)\n"
   ]
  },
  {
   "cell_type": "code",
   "execution_count": 9,
   "metadata": {
    "pycharm": {
     "is_executing": false,
     "name": "#%%\n"
    }
   },
   "outputs": [
    {
     "name": "stdout",
     "text": [
      "테스트 세트 예측 :  [1 1 1 1 1 1 1 1 1 1 1 1 1 1 1 1 1 1]\n",
      "테스트 세트 정확도 :  0.7777777777777778\n",
      "              precision    recall  f1-score   support\n",
      "\n",
      "           0       0.00      0.00      0.00         4\n",
      "           1       0.78      1.00      0.88        14\n",
      "\n",
      "    accuracy                           0.78        18\n",
      "   macro avg       0.39      0.50      0.44        18\n",
      "weighted avg       0.60      0.78      0.68        18\n",
      "\n"
     ],
     "output_type": "stream"
    },
    {
     "name": "stderr",
     "text": [
      "C:\\Users\\mws10\\Anaconda3\\lib\\site-packages\\sklearn\\metrics\\classification.py:1437: UndefinedMetricWarning: Precision and F-score are ill-defined and being set to 0.0 in labels with no predicted samples.\n",
      "  'precision', 'predicted', average, warn_for)\n"
     ],
     "output_type": "stream"
    }
   ],
   "source": [
    "#SVM 선형 평가\n",
    "print(\"테스트 세트 예측 : \", svm_linear.predict(X_test))\n",
    "print(\"테스트 세트 정확도 : \", svm_linear.score(X_test, y_test))\n",
    "\n",
    "y_pred = svm_linear.predict(X_test)\n",
    "print(classification_report(y_test, y_pred))\n"
   ]
  },
  {
   "cell_type": "code",
   "execution_count": 10,
   "metadata": {
    "pycharm": {
     "is_executing": false,
     "name": "#%%\n"
    }
   },
   "outputs": [
    {
     "name": "stderr",
     "text": [
      "Using TensorFlow backend.\n"
     ],
     "output_type": "stream"
    }
   ],
   "source": [
    "from keras import models\n",
    "from keras import layers\n",
    "from keras import backend as K\n",
    "\n",
    "def recall_m(y_true, y_pred):\n",
    "    true_positives = K.sum(K.round(K.clip(y_true * y_pred, 0, 1)))\n",
    "    possible_positives = K.sum(K.round(K.clip(y_true, 0, 1)))\n",
    "    recall = true_positives / (possible_positives + K.epsilon())\n",
    "    return recall\n",
    "\n",
    "def precision_m(y_true, y_pred):\n",
    "    true_positives = K.sum(K.round(K.clip(y_true * y_pred, 0, 1)))\n",
    "    predicted_positives = K.sum(K.round(K.clip(y_pred, 0, 1)))\n",
    "    precision = true_positives / (predicted_positives + K.epsilon())\n",
    "    return precision\n",
    "\n",
    "def f1_m(y_true, y_pred):\n",
    "    precision = precision_m(y_true, y_pred)\n",
    "    recall = recall_m(y_true, y_pred)\n",
    "    return 2*((precision*recall)/(precision+recall+K.epsilon()))\n"
   ]
  },
  {
   "cell_type": "code",
   "execution_count": 17,
   "metadata": {
    "pycharm": {
     "is_executing": false,
     "name": "#%%\n"
    }
   },
   "outputs": [
    {
     "name": "stdout",
     "text": [
      "Train on 21 samples, validate on 6 samples\n",
      "Epoch 1/20\n",
      "21/21 [==============================] - 2s 111ms/step - loss: 0.6931 - accuracy: 0.6190 - recall_m: 0.7692 - precision_m: 0.6667 - f1_m: 0.7143 - val_loss: 0.6587 - val_accuracy: 0.8333 - val_recall_m: 0.6667 - val_precision_m: 1.0000 - val_f1_m: 0.8000\n",
      "Epoch 2/20\n",
      "21/21 [==============================] - 1s 24ms/step - loss: 0.6434 - accuracy: 1.0000 - recall_m: 1.0000 - precision_m: 1.0000 - f1_m: 1.0000 - val_loss: 0.6021 - val_accuracy: 0.8333 - val_recall_m: 1.0000 - val_precision_m: 0.7500 - val_f1_m: 0.8571\n",
      "Epoch 3/20\n",
      "21/21 [==============================] - 0s 9ms/step - loss: 0.5423 - accuracy: 0.8571 - recall_m: 1.0000 - precision_m: 0.8125 - f1_m: 0.8966 - val_loss: 0.5163 - val_accuracy: 1.0000 - val_recall_m: 1.0000 - val_precision_m: 1.0000 - val_f1_m: 1.0000\n",
      "Epoch 4/20\n",
      "21/21 [==============================] - 0s 15ms/step - loss: 0.4639 - accuracy: 1.0000 - recall_m: 1.0000 - precision_m: 1.0000 - f1_m: 1.0000 - val_loss: 0.4623 - val_accuracy: 1.0000 - val_recall_m: 1.0000 - val_precision_m: 1.0000 - val_f1_m: 1.0000\n",
      "Epoch 5/20\n",
      "21/21 [==============================] - 0s 9ms/step - loss: 0.3978 - accuracy: 1.0000 - recall_m: 1.0000 - precision_m: 1.0000 - f1_m: 1.0000 - val_loss: 0.3806 - val_accuracy: 1.0000 - val_recall_m: 1.0000 - val_precision_m: 1.0000 - val_f1_m: 1.0000\n",
      "Epoch 6/20\n",
      "21/21 [==============================] - 0s 9ms/step - loss: 0.3457 - accuracy: 1.0000 - recall_m: 1.0000 - precision_m: 1.0000 - f1_m: 1.0000 - val_loss: 0.3839 - val_accuracy: 0.8333 - val_recall_m: 1.0000 - val_precision_m: 0.7500 - val_f1_m: 0.8571\n",
      "Epoch 7/20\n",
      "21/21 [==============================] - 0s 9ms/step - loss: 0.3082 - accuracy: 1.0000 - recall_m: 1.0000 - precision_m: 1.0000 - f1_m: 1.0000 - val_loss: 0.3043 - val_accuracy: 1.0000 - val_recall_m: 1.0000 - val_precision_m: 1.0000 - val_f1_m: 1.0000\n",
      "Epoch 8/20\n",
      "21/21 [==============================] - 0s 8ms/step - loss: 0.2817 - accuracy: 1.0000 - recall_m: 1.0000 - precision_m: 1.0000 - f1_m: 1.0000 - val_loss: 0.3171 - val_accuracy: 1.0000 - val_recall_m: 1.0000 - val_precision_m: 1.0000 - val_f1_m: 1.0000\n",
      "Epoch 9/20\n",
      "21/21 [==============================] - 0s 9ms/step - loss: 0.2440 - accuracy: 1.0000 - recall_m: 1.0000 - precision_m: 1.0000 - f1_m: 1.0000 - val_loss: 0.2475 - val_accuracy: 1.0000 - val_recall_m: 1.0000 - val_precision_m: 1.0000 - val_f1_m: 1.0000\n",
      "Epoch 10/20\n",
      "21/21 [==============================] - 0s 10ms/step - loss: 0.2111 - accuracy: 1.0000 - recall_m: 1.0000 - precision_m: 1.0000 - f1_m: 1.0000 - val_loss: 0.2419 - val_accuracy: 1.0000 - val_recall_m: 1.0000 - val_precision_m: 1.0000 - val_f1_m: 1.0000\n",
      "Epoch 11/20\n",
      "21/21 [==============================] - 0s 10ms/step - loss: 0.1859 - accuracy: 1.0000 - recall_m: 1.0000 - precision_m: 1.0000 - f1_m: 1.0000 - val_loss: 0.2072 - val_accuracy: 1.0000 - val_recall_m: 1.0000 - val_precision_m: 1.0000 - val_f1_m: 1.0000\n",
      "Epoch 12/20\n",
      "21/21 [==============================] - 0s 12ms/step - loss: 0.1649 - accuracy: 1.0000 - recall_m: 1.0000 - precision_m: 1.0000 - f1_m: 1.0000 - val_loss: 0.1972 - val_accuracy: 1.0000 - val_recall_m: 1.0000 - val_precision_m: 1.0000 - val_f1_m: 1.0000\n",
      "Epoch 13/20\n",
      "21/21 [==============================] - 0s 9ms/step - loss: 0.1469 - accuracy: 1.0000 - recall_m: 1.0000 - precision_m: 1.0000 - f1_m: 1.0000 - val_loss: 0.1744 - val_accuracy: 1.0000 - val_recall_m: 1.0000 - val_precision_m: 1.0000 - val_f1_m: 1.0000\n",
      "Epoch 14/20\n",
      "21/21 [==============================] - 0s 10ms/step - loss: 0.1309 - accuracy: 1.0000 - recall_m: 1.0000 - precision_m: 1.0000 - f1_m: 1.0000 - val_loss: 0.1668 - val_accuracy: 1.0000 - val_recall_m: 1.0000 - val_precision_m: 1.0000 - val_f1_m: 1.0000\n",
      "Epoch 15/20\n",
      "21/21 [==============================] - 0s 11ms/step - loss: 0.1172 - accuracy: 1.0000 - recall_m: 1.0000 - precision_m: 1.0000 - f1_m: 1.0000 - val_loss: 0.1480 - val_accuracy: 1.0000 - val_recall_m: 1.0000 - val_precision_m: 1.0000 - val_f1_m: 1.0000\n",
      "Epoch 16/20\n",
      "21/21 [==============================] - 0s 9ms/step - loss: 0.1051 - accuracy: 1.0000 - recall_m: 1.0000 - precision_m: 1.0000 - f1_m: 1.0000 - val_loss: 0.1446 - val_accuracy: 1.0000 - val_recall_m: 1.0000 - val_precision_m: 1.0000 - val_f1_m: 1.0000\n",
      "Epoch 17/20\n",
      "21/21 [==============================] - 0s 9ms/step - loss: 0.0945 - accuracy: 1.0000 - recall_m: 1.0000 - precision_m: 1.0000 - f1_m: 1.0000 - val_loss: 0.1266 - val_accuracy: 1.0000 - val_recall_m: 1.0000 - val_precision_m: 1.0000 - val_f1_m: 1.0000\n",
      "Epoch 18/20\n",
      "21/21 [==============================] - 0s 10ms/step - loss: 0.0851 - accuracy: 1.0000 - recall_m: 1.0000 - precision_m: 1.0000 - f1_m: 1.0000 - val_loss: 0.1267 - val_accuracy: 1.0000 - val_recall_m: 1.0000 - val_precision_m: 1.0000 - val_f1_m: 1.0000\n",
      "Epoch 19/20\n",
      "21/21 [==============================] - 0s 10ms/step - loss: 0.0769 - accuracy: 1.0000 - recall_m: 1.0000 - precision_m: 1.0000 - f1_m: 1.0000 - val_loss: 0.1093 - val_accuracy: 1.0000 - val_recall_m: 1.0000 - val_precision_m: 1.0000 - val_f1_m: 1.0000\n",
      "Epoch 20/20\n",
      "21/21 [==============================] - 0s 9ms/step - loss: 0.0694 - accuracy: 1.0000 - recall_m: 1.0000 - precision_m: 1.0000 - f1_m: 1.0000 - val_loss: 0.1109 - val_accuracy: 1.0000 - val_recall_m: 1.0000 - val_precision_m: 1.0000 - val_f1_m: 1.0000\n"
     ],
     "output_type": "stream"
    }
   ],
   "source": [
    "model = models.Sequential()\n",
    "model.add(layers.Dense(64, activation = 'relu', input_shape = (77312,)))\n",
    "model.add(layers.Dense(64, activation = 'relu'))\n",
    "model.add(layers.Dense(1, activation = 'sigmoid'))\n",
    "\n",
    "\n",
    "model.compile(optimizer='rmsprop',\n",
    "              loss='binary_crossentropy',\n",
    "              metrics=['accuracy', recall_m, precision_m, f1_m])\n",
    "\n",
    "history = model.fit(X_train,\n",
    "                    y_train,\n",
    "                    epochs=20,\n",
    "                    batch_size=512,\n",
    "                    validation_split = 0.2)"
   ]
  },
  {
   "cell_type": "code",
   "execution_count": 18,
   "metadata": {
    "pycharm": {
     "is_executing": false,
     "name": "#%%\n"
    }
   },
   "outputs": [
    {
     "name": "stdout",
     "text": [
      "18/18 [==============================] - 0s 4ms/step\n"
     ],
     "output_type": "stream"
    },
    {
     "data": {
      "text/plain": "[0.3218127489089966, 0.8888888955116272, 1.0, 0.875, 0.9333332777023315]"
     },
     "metadata": {},
     "output_type": "execute_result",
     "execution_count": 18
    }
   ],
   "source": [
    "results = model.evaluate(X_test, y_test)\n",
    "results"
   ]
  },
  {
   "cell_type": "code",
   "execution_count": 15,
   "metadata": {
    "pycharm": {
     "name": "#%%\n",
     "is_executing": false
    }
   },
   "outputs": [
    {
     "name": "stdout",
     "text": [
      "Model: \"sequential_3\"\n",
      "_________________________________________________________________\n",
      "Layer (type)                 Output Shape              Param #   \n",
      "=================================================================\n",
      "dense_7 (Dense)              (None, 64)                4948032   \n",
      "_________________________________________________________________\n",
      "dense_8 (Dense)              (None, 64)                4160      \n",
      "_________________________________________________________________\n",
      "dense_9 (Dense)              (None, 1)                 65        \n",
      "=================================================================\n",
      "Total params: 4,952,257\n",
      "Trainable params: 4,952,257\n",
      "Non-trainable params: 0\n",
      "_________________________________________________________________\n"
     ],
     "output_type": "stream"
    }
   ],
   "source": [
    "model.summary()"
   ]
  },
  {
   "cell_type": "code",
   "execution_count": 16,
   "metadata": {
    "pycharm": {
     "is_executing": false
    }
   },
   "outputs": [
    {
     "name": "stdout",
     "text": [
      "18/18 [==============================] - 0s 21ms/step\b\b\b\b\b\b\b\b\b\b\b\b\b\b\b\b\b\b\b\b\b\b\b\b\b\b\b\b\b\b\b\b\b\b\b\b\b\b\b\b\b\b\b\b\b\b\b\b\b\b\b\b\b\b\b\b\b\b\b\b\b\b\b\b\b\b\b\b\b\b\b\b\b\b\b\b\b\b\b\b\b\b\b\b\b\b\b\b\b\b\b\b\b\b\b\b\b\b\b\b\b\b\b\b\b\b\b\b\b\b\b\b\b\b\b\b\b\b\b\b\b\b\b\b\b\b\b\b\b\b\b\b\b\b\b\b\b\b\b\b\b\b\b\b\b\b\b\b\b\b\b\b\b\b\b\b\b\b\b\b\b\b\b\b\b\b\b\b\b\b\b\b\b\b\b\b\b\b\b\b\b\b\b\b\b\b\b\b\b\b\b\b\b\b\b\b\b\b\b\b\b\b\b\b\b\b\b\b\b\b\b\b\b\b\b\b\b\b\b\b\b\b\b\b\b\b\b\b\b\b\b\b\b\b\b\n",
      "mse[0.3928238523917066, 0.8888888955116272, 0.7777777314186096, 0.7777777314186096, 0.7777777314186096]\n"
     ],
     "output_type": "stream"
    }
   ],
   "source": [
    "mse = model.evaluate(X_test, y_test, batch_size=1)\n",
    "print(\"mse{}\".format(mse))"
   ]
  },
  {
   "cell_type": "code",
   "execution_count": null,
   "metadata": {
    "pycharm": {
     "is_executing": false
    }
   },
   "outputs": [],
   "source": []
  },
  {
   "cell_type": "code",
   "execution_count": null,
   "metadata": {
    "pycharm": {
     "is_executing": false
    }
   },
   "outputs": [],
   "source": []
  },
  {
   "cell_type": "code",
   "execution_count": null,
   "metadata": {
    "pycharm": {
     "is_executing": false
    }
   },
   "outputs": [],
   "source": []
  },
  {
   "cell_type": "code",
   "execution_count": null,
   "metadata": {
    "pycharm": {
     "is_executing": false
    }
   },
   "outputs": [],
   "source": []
  },
  {
   "cell_type": "code",
   "execution_count": null,
   "metadata": {
    "pycharm": {
     "is_executing": false
    }
   },
   "outputs": [],
   "source": []
  },
  {
   "cell_type": "code",
   "execution_count": null,
   "metadata": {
    "pycharm": {
     "is_executing": false
    }
   },
   "outputs": [],
   "source": []
  },
  {
   "cell_type": "code",
   "execution_count": null,
   "metadata": {
    "pycharm": {
     "is_executing": false
    }
   },
   "outputs": [],
   "source": []
  }
 ],
 "metadata": {
  "kernelspec": {
   "display_name": "Python 3",
   "language": "python",
   "name": "python3"
  },
  "language_info": {
   "codemirror_mode": {
    "name": "ipython",
    "version": 3
   },
   "file_extension": ".py",
   "mimetype": "text/x-python",
   "name": "python",
   "nbconvert_exporter": "python",
   "pygments_lexer": "ipython3",
   "version": "3.7.4"
  },
  "pycharm": {
   "stem_cell": {
    "cell_type": "raw",
    "source": [],
    "metadata": {
     "collapsed": false
    }
   }
  }
 },
 "nbformat": 4,
 "nbformat_minor": 1
}