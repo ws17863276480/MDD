{
 "cells": [
  {
   "cell_type": "code",
   "execution_count": 87,
   "metadata": {
    "pycharm": {
     "is_executing": false
    }
   },
   "outputs": [],
   "source": [
    "import pandas as pd\n",
    "import numpy as np\n",
    "import matplotlib.pyplot as plt\n",
    "import matplotlib.dates as md\n",
    "import os\n",
    "import mne\n",
    "import random\n",
    "from sklearn.metrics import classification_report"
   ]
  },
  {
   "cell_type": "code",
   "execution_count": 88,
   "metadata": {
    "pycharm": {
     "is_executing": false,
     "name": "#%%\n"
    }
   },
   "outputs": [
    {
     "name": "stdout",
     "text": [
      "Extracting EDF parameters from C:\\python\\study\\4월3주\\depression\\dataset\\EC\\MDD S1 EC.edf...\n",
      "EDF file detected\n",
      "Setting channel info structure...\n",
      "Creating raw.info structure...\n",
      "Extracting EDF parameters from C:\\python\\study\\4월3주\\depression\\dataset\\EC\\MDD S10 EC.edf...\n",
      "EDF file detected\n",
      "Setting channel info structure...\n",
      "Creating raw.info structure...\n",
      "Extracting EDF parameters from C:\\python\\study\\4월3주\\depression\\dataset\\EC\\MDD S11 EC.edf...\n",
      "EDF file detected\n",
      "Setting channel info structure...\n",
      "Creating raw.info structure...\n",
      "Extracting EDF parameters from C:\\python\\study\\4월3주\\depression\\dataset\\EC\\MDD S12 EC.edf...\n",
      "EDF file detected\n",
      "Setting channel info structure...\n",
      "Creating raw.info structure...\n",
      "Extracting EDF parameters from C:\\python\\study\\4월3주\\depression\\dataset\\EC\\MDD S13 EC.edf...\n",
      "EDF file detected\n",
      "Setting channel info structure...\n",
      "Creating raw.info structure...\n",
      "Extracting EDF parameters from C:\\python\\study\\4월3주\\depression\\dataset\\EC\\MDD S14 EC.edf...\n",
      "EDF file detected\n",
      "Setting channel info structure...\n",
      "Creating raw.info structure...\n",
      "Extracting EDF parameters from C:\\python\\study\\4월3주\\depression\\dataset\\EC\\MDD S15 EC.edf...\n",
      "EDF file detected\n",
      "Setting channel info structure...\n",
      "Creating raw.info structure...\n",
      "Extracting EDF parameters from C:\\python\\study\\4월3주\\depression\\dataset\\EC\\MDD S16 EC.edf...\n",
      "EDF file detected\n",
      "Setting channel info structure...\n",
      "Creating raw.info structure...\n",
      "Extracting EDF parameters from C:\\python\\study\\4월3주\\depression\\dataset\\EC\\MDD S17 EC.edf...\n",
      "EDF file detected\n",
      "Setting channel info structure...\n",
      "Creating raw.info structure...\n",
      "Extracting EDF parameters from C:\\python\\study\\4월3주\\depression\\dataset\\EC\\MDD S18 EC.edf...\n",
      "EDF file detected\n",
      "Setting channel info structure...\n",
      "Creating raw.info structure...\n",
      "Extracting EDF parameters from C:\\python\\study\\4월3주\\depression\\dataset\\EC\\MDD S19 EC.edf...\n",
      "EDF file detected\n",
      "Setting channel info structure...\n",
      "Creating raw.info structure...\n",
      "Extracting EDF parameters from C:\\python\\study\\4월3주\\depression\\dataset\\EC\\MDD S2 EC.edf...\n",
      "EDF file detected\n",
      "Setting channel info structure...\n",
      "Creating raw.info structure...\n",
      "Extracting EDF parameters from C:\\python\\study\\4월3주\\depression\\dataset\\EC\\MDD S20 EC.edf...\n",
      "EDF file detected\n",
      "Setting channel info structure...\n",
      "Creating raw.info structure...\n",
      "Extracting EDF parameters from C:\\python\\study\\4월3주\\depression\\dataset\\EC\\MDD S21 EC.edf...\n",
      "EDF file detected\n",
      "Setting channel info structure...\n",
      "Creating raw.info structure...\n",
      "Extracting EDF parameters from C:\\python\\study\\4월3주\\depression\\dataset\\EC\\MDD S22 EC.edf...\n",
      "EDF file detected\n",
      "Setting channel info structure...\n",
      "Creating raw.info structure...\n",
      "Extracting EDF parameters from C:\\python\\study\\4월3주\\depression\\dataset\\EC\\MDD S23 EC.edf...\n",
      "EDF file detected\n",
      "Setting channel info structure...\n",
      "Creating raw.info structure...\n",
      "Extracting EDF parameters from C:\\python\\study\\4월3주\\depression\\dataset\\EC\\MDD S24 EC.edf...\n",
      "EDF file detected\n",
      "Setting channel info structure...\n",
      "Creating raw.info structure...\n",
      "Extracting EDF parameters from C:\\python\\study\\4월3주\\depression\\dataset\\EC\\MDD S25 EC.edf...\n",
      "EDF file detected\n",
      "Setting channel info structure...\n",
      "Creating raw.info structure...\n",
      "Extracting EDF parameters from C:\\python\\study\\4월3주\\depression\\dataset\\EC\\MDD S26 EC.edf...\n",
      "EDF file detected\n",
      "Setting channel info structure...\n",
      "Creating raw.info structure...\n",
      "Extracting EDF parameters from C:\\python\\study\\4월3주\\depression\\dataset\\EC\\MDD S27 EC.edf...\n",
      "EDF file detected\n",
      "Setting channel info structure...\n",
      "Creating raw.info structure...\n",
      "Extracting EDF parameters from C:\\python\\study\\4월3주\\depression\\dataset\\EC\\MDD S28 EC.edf...\n",
      "EDF file detected\n",
      "Setting channel info structure...\n",
      "Creating raw.info structure...\n",
      "Extracting EDF parameters from C:\\python\\study\\4월3주\\depression\\dataset\\EC\\MDD S3 EC.edf...\n",
      "EDF file detected\n",
      "Setting channel info structure...\n",
      "Creating raw.info structure...\n",
      "Extracting EDF parameters from C:\\python\\study\\4월3주\\depression\\dataset\\EC\\MDD S4 EC.edf...\n",
      "EDF file detected\n",
      "Setting channel info structure...\n",
      "Creating raw.info structure...\n",
      "Extracting EDF parameters from C:\\python\\study\\4월3주\\depression\\dataset\\EC\\MDD S5 EC.edf...\n",
      "EDF file detected\n",
      "Setting channel info structure...\n",
      "Creating raw.info structure...\n",
      "Extracting EDF parameters from C:\\python\\study\\4월3주\\depression\\dataset\\EC\\MDD S6 EC.edf...\n",
      "EDF file detected\n",
      "Setting channel info structure...\n",
      "Creating raw.info structure...\n",
      "Extracting EDF parameters from C:\\python\\study\\4월3주\\depression\\dataset\\EC\\MDD S7 EC.edf...\n",
      "EDF file detected\n",
      "Setting channel info structure...\n",
      "Creating raw.info structure...\n",
      "Extracting EDF parameters from C:\\python\\study\\4월3주\\depression\\dataset\\EC\\MDD S8 EC.edf...\n",
      "EDF file detected\n",
      "Setting channel info structure...\n",
      "Creating raw.info structure...\n",
      "Extracting EDF parameters from C:\\python\\study\\4월3주\\depression\\dataset\\EC\\MDD S9 EC.edf...\n",
      "EDF file detected\n",
      "Setting channel info structure...\n",
      "Creating raw.info structure...\n",
      "Extracting EDF parameters from C:\\python\\study\\4월3주\\depression\\dataset\\EC\\MDD W29 EC.edf...\n",
      "EDF file detected\n",
      "Setting channel info structure...\n",
      "Creating raw.info structure...\n",
      "Extracting EDF parameters from C:\\python\\study\\4월3주\\depression\\dataset\\EC\\MDD W30 EC.edf...\n",
      "EDF file detected\n",
      "Setting channel info structure...\n",
      "Creating raw.info structure...\n",
      "Extracting EDF parameters from C:\\python\\study\\4월3주\\depression\\dataset\\EC\\S1 EC.edf...\n",
      "EDF file detected\n",
      "Setting channel info structure...\n",
      "Creating raw.info structure...\n",
      "Extracting EDF parameters from C:\\python\\study\\4월3주\\depression\\dataset\\EC\\S10  EC.edf...\n",
      "EDF file detected\n",
      "Setting channel info structure...\n",
      "Creating raw.info structure...\n",
      "Extracting EDF parameters from C:\\python\\study\\4월3주\\depression\\dataset\\EC\\S11  EC.edf...\n",
      "EDF file detected\n",
      "Setting channel info structure...\n",
      "Creating raw.info structure...\n",
      "Extracting EDF parameters from C:\\python\\study\\4월3주\\depression\\dataset\\EC\\S12  EC.edf...\n",
      "EDF file detected\n",
      "Setting channel info structure...\n",
      "Creating raw.info structure...\n",
      "Extracting EDF parameters from C:\\python\\study\\4월3주\\depression\\dataset\\EC\\S13  EC.edf...\n",
      "EDF file detected\n",
      "Setting channel info structure...\n",
      "Creating raw.info structure...\n",
      "Extracting EDF parameters from C:\\python\\study\\4월3주\\depression\\dataset\\EC\\S14  EC.edf...\n",
      "EDF file detected\n",
      "Setting channel info structure...\n",
      "Creating raw.info structure...\n",
      "Extracting EDF parameters from C:\\python\\study\\4월3주\\depression\\dataset\\EC\\S15  EC.edf...\n",
      "EDF file detected\n",
      "Setting channel info structure...\n",
      "Creating raw.info structure...\n",
      "Extracting EDF parameters from C:\\python\\study\\4월3주\\depression\\dataset\\EC\\S2 EC.edf...\n",
      "EDF file detected\n",
      "Setting channel info structure...\n",
      "Creating raw.info structure...\n",
      "Extracting EDF parameters from C:\\python\\study\\4월3주\\depression\\dataset\\EC\\S3  EC.edf...\n",
      "EDF file detected\n",
      "Setting channel info structure...\n",
      "Creating raw.info structure...\n",
      "Extracting EDF parameters from C:\\python\\study\\4월3주\\depression\\dataset\\EC\\S4  EC.edf...\n",
      "EDF file detected\n",
      "Setting channel info structure...\n",
      "Creating raw.info structure...\n",
      "Extracting EDF parameters from C:\\python\\study\\4월3주\\depression\\dataset\\EC\\S5  EC.edf...\n",
      "EDF file detected\n",
      "Setting channel info structure...\n",
      "Creating raw.info structure...\n",
      "Extracting EDF parameters from C:\\python\\study\\4월3주\\depression\\dataset\\EC\\S6  EC.edf...\n",
      "EDF file detected\n",
      "Setting channel info structure...\n",
      "Creating raw.info structure...\n",
      "Extracting EDF parameters from C:\\python\\study\\4월3주\\depression\\dataset\\EC\\S7  EC.edf...\n",
      "EDF file detected\n",
      "Setting channel info structure...\n",
      "Creating raw.info structure...\n",
      "Extracting EDF parameters from C:\\python\\study\\4월3주\\depression\\dataset\\EC\\S8  EC.edf...\n",
      "EDF file detected\n",
      "Setting channel info structure...\n",
      "Creating raw.info structure...\n",
      "Extracting EDF parameters from C:\\python\\study\\4월3주\\depression\\dataset\\EC\\S9  EC.edf...\n",
      "EDF file detected\n",
      "Setting channel info structure...\n",
      "Creating raw.info structure...\n"
     ],
     "output_type": "stream"
    }
   ],
   "source": [
    "MDD_dataset_Filenames = os.listdir('./data/MDD')\n",
    "H_dataset_Filenames = os.listdir('./data/H')\n",
    "MDD_dataset_list = []\n",
    "H_dataset_list = []\n",
    "\n",
    "for filename in MDD_dataset_Filenames:\n",
    "    data = mne.io.read_raw_edf('./dataset/EC/' + str(filename))\n",
    "    MDD_dataset_list.append(data)  \n",
    "    \n",
    "for filename in H_dataset_Filenames:\n",
    "    data = mne.io.read_raw_edf('./dataset/EC/' + str(filename))\n",
    "    H_dataset_list.append(data)  \n",
    "\n"
   ]
  },
  {
   "cell_type": "code",
   "execution_count": 89,
   "metadata": {
    "pycharm": {
     "is_executing": false,
     "name": "#%%\n"
    }
   },
   "outputs": [],
   "source": [
    "MDD_dataframe_list = [] #MDD 환자의 데이터프레임 리스트\n",
    "H_dataframe_list = [] #건강한 사람의 데이터프레임 리스트\n",
    "for raw in MDD_dataset_list:\n",
    "    raw_data = raw.get_data(return_times=True)\n",
    "    channels = raw.ch_names\n",
    "    T_data = np.transpose(raw_data[0])\n",
    "    time = np.transpose(raw_data[1])\n",
    "    temp = pd.DataFrame(T_data, columns = channels, index = time)\n",
    "    MDD_dataframe_list.append(temp)\n",
    "    \n",
    "for raw in H_dataset_list:\n",
    "    raw_data = raw.get_data(return_times=True)\n",
    "    channels = raw.ch_names\n",
    "    T_data = np.transpose(raw_data[0])\n",
    "    time = np.transpose(raw_data[1])\n",
    "    temp = pd.DataFrame(T_data, columns = channels, index = time)\n",
    "    H_dataframe_list.append(temp)\n",
    "\n",
    "MDD_dataframe_list[23].rename(columns = {'E F3-Ref': 'F3'}, inplace = True)"
   ]
  },
  {
   "cell_type": "code",
   "execution_count": 90,
   "metadata": {
    "pycharm": {
     "is_executing": false,
     "name": "#%%\n"
    }
   },
   "outputs": [],
   "source": [
    "X = {}\n",
    "y = []\n",
    "for i in range(len(MDD_dataframe_list)):\n",
    "    a = MDD_dataframe_list[i]\n",
    "    #데이터 클린징\n",
    "    a.F3 = a.F3[a.F3 > -0.0005]\n",
    "    a = a.fillna(method='ffill')\n",
    "    fft = np.fft.fft(a['F3'])\n",
    "    fft = np.abs(fft)\n",
    "    X[i] = fft\n",
    "    y.append(1)\n",
    "    \n",
    "for i in range(30, 30+len(H_dataframe_list)):\n",
    "    a = H_dataframe_list[30-i]\n",
    "    a.rename(columns = {'EEG F3-LE' : 'F3'}, inplace = True)\n",
    "    #데이터 클린징\n",
    "    a.F3 = a.F3[a.F3 > -0.0005]\n",
    "    a = a.fillna(method='ffill')\n",
    "    fft = np.fft.fft(a['F3'])\n",
    "    fft = np.abs(fft)\n",
    "    X[i] = fft\n",
    "    y.append(0)\n",
    "    \n",
    "X = pd.DataFrame.from_dict(X, orient='index')\n",
    "X['target'] = y"
   ]
  },
  {
   "cell_type": "code",
   "execution_count": 91,
   "metadata": {
    "pycharm": {
     "is_executing": false
    }
   },
   "outputs": [],
   "source": [
    "X = X.fillna(0)"
   ]
  },
  {
   "cell_type": "code",
   "execution_count": 92,
   "metadata": {
    "pycharm": {
     "name": "#%%\n",
     "is_executing": false
    }
   },
   "outputs": [],
   "source": [
    "# 타겟 컬럼과 특징 컬럼 정의\n",
    "\n",
    "target_col = 'target'\n",
    "target = X[target_col]\n",
    "features = X[X.columns.difference(['target'])]\n"
   ]
  },
  {
   "cell_type": "code",
   "execution_count": 93,
   "metadata": {
    "pycharm": {
     "is_executing": false,
     "name": "#%%\n"
    }
   },
   "outputs": [],
   "source": [
    "from sklearn.model_selection import train_test_split\n",
    "X_train, X_test, y_train, y_test = train_test_split(features, target, test_size=0.5)"
   ]
  },
  {
   "cell_type": "code",
   "execution_count": 94,
   "metadata": {
    "pycharm": {
     "is_executing": false,
     "name": "#%%\n"
    }
   },
   "outputs": [
    {
     "data": {
      "text/plain": "SVC(C=1.0, cache_size=200, class_weight=None, coef0=0.0,\n    decision_function_shape='ovr', degree=3, gamma='auto_deprecated',\n    kernel='linear', max_iter=-1, probability=False, random_state=0,\n    shrinking=True, tol=0.001, verbose=False)"
     },
     "metadata": {},
     "output_type": "execute_result",
     "execution_count": 94
    }
   ],
   "source": [
    "from sklearn.svm import SVC\n",
    "#SVM Model\n",
    "svm_linear = SVC(kernel='linear', random_state=0)\n",
    "svm_linear.fit(X_train, y_train)\n"
   ]
  },
  {
   "cell_type": "code",
   "execution_count": 95,
   "metadata": {
    "pycharm": {
     "is_executing": false,
     "name": "#%%\n"
    }
   },
   "outputs": [
    {
     "name": "stdout",
     "text": [
      "테스트 세트 예측 :  [1 1 1 1 1 1 0 1 1 1 1 1 1 1 1 1 1 1 1 1 1 1 1]\n",
      "테스트 세트 정확도 :  0.6956521739130435\n",
      "              precision    recall  f1-score   support\n",
      "\n",
      "           0       1.00      0.12      0.22         8\n",
      "           1       0.68      1.00      0.81        15\n",
      "\n",
      "    accuracy                           0.70        23\n",
      "   macro avg       0.84      0.56      0.52        23\n",
      "weighted avg       0.79      0.70      0.61        23\n",
      "\n"
     ],
     "output_type": "stream"
    }
   ],
   "source": [
    "#SVM 선형 평가\n",
    "print(\"테스트 세트 예측 : \", svm_linear.predict(X_test))\n",
    "print(\"테스트 세트 정확도 : \", svm_linear.score(X_test, y_test))\n",
    "\n",
    "y_pred = svm_linear.predict(X_test)\n",
    "print(classification_report(y_test, y_pred))\n"
   ]
  },
  {
   "cell_type": "code",
   "execution_count": 96,
   "metadata": {
    "pycharm": {
     "is_executing": false,
     "name": "#%%\n"
    }
   },
   "outputs": [],
   "source": [
    "from sklearn.metrics import roc_curve\n",
    "from keras import models\n",
    "from keras import layers\n",
    "from keras import backend as K\n",
    "\n",
    "def recall_m(y_true, y_pred):\n",
    "    true_positives = K.sum(K.round(K.clip(y_true * y_pred, 0, 1)))\n",
    "    possible_positives = K.sum(K.round(K.clip(y_true, 0, 1)))\n",
    "    recall = true_positives / (possible_positives + K.epsilon())\n",
    "    return recall\n",
    "\n",
    "def precision_m(y_true, y_pred):\n",
    "    true_positives = K.sum(K.round(K.clip(y_true * y_pred, 0, 1)))\n",
    "    predicted_positives = K.sum(K.round(K.clip(y_pred, 0, 1)))\n",
    "    precision = true_positives / (predicted_positives + K.epsilon())\n",
    "    return precision\n",
    "\n",
    "def f1_m(y_true, y_pred):\n",
    "    precision = precision_m(y_true, y_pred)\n",
    "    recall = recall_m(y_true, y_pred)\n",
    "    return 2*((precision*recall)/(precision+recall+K.epsilon()))\n"
   ]
  },
  {
   "cell_type": "code",
   "execution_count": 97,
   "metadata": {
    "pycharm": {
     "is_executing": false,
     "name": "#%%\n"
    }
   },
   "outputs": [
    {
     "name": "stdout",
     "text": [
      "Train on 17 samples, validate on 5 samples\n",
      "Epoch 1/10\n",
      "17/17 [==============================] - 7s 403ms/step - loss: 0.6928 - accuracy: 0.7059 - recall_m: 0.8182 - precision_m: 0.7500 - f1_m: 0.7826 - val_loss: 0.6019 - val_accuracy: 0.8000 - val_recall_m: 1.0000 - val_precision_m: 0.8000 - val_f1_m: 0.8889\n",
      "Epoch 2/10\n",
      "17/17 [==============================] - 1s 56ms/step - loss: 0.6042 - accuracy: 0.6471 - recall_m: 1.0000 - precision_m: 0.6471 - f1_m: 0.7857 - val_loss: 0.4779 - val_accuracy: 0.8000 - val_recall_m: 1.0000 - val_precision_m: 0.8000 - val_f1_m: 0.8889\n",
      "Epoch 3/10\n",
      "17/17 [==============================] - 0s 19ms/step - loss: 0.5144 - accuracy: 0.6471 - recall_m: 1.0000 - precision_m: 0.6471 - f1_m: 0.7857 - val_loss: 0.4348 - val_accuracy: 1.0000 - val_recall_m: 1.0000 - val_precision_m: 1.0000 - val_f1_m: 1.0000\n",
      "Epoch 4/10\n",
      "17/17 [==============================] - 0s 18ms/step - loss: 0.4637 - accuracy: 0.8824 - recall_m: 1.0000 - precision_m: 0.8462 - f1_m: 0.9167 - val_loss: 0.3425 - val_accuracy: 0.8000 - val_recall_m: 1.0000 - val_precision_m: 0.8000 - val_f1_m: 0.8889\n",
      "Epoch 5/10\n",
      "17/17 [==============================] - 0s 20ms/step - loss: 0.4374 - accuracy: 0.7059 - recall_m: 1.0000 - precision_m: 0.6875 - f1_m: 0.8148 - val_loss: 0.3538 - val_accuracy: 1.0000 - val_recall_m: 1.0000 - val_precision_m: 1.0000 - val_f1_m: 1.0000\n",
      "Epoch 6/10\n",
      "17/17 [==============================] - 0s 22ms/step - loss: 0.3948 - accuracy: 0.9412 - recall_m: 1.0000 - precision_m: 0.9167 - f1_m: 0.9565 - val_loss: 0.2562 - val_accuracy: 1.0000 - val_recall_m: 1.0000 - val_precision_m: 1.0000 - val_f1_m: 1.0000\n",
      "Epoch 7/10\n",
      "17/17 [==============================] - 0s 19ms/step - loss: 0.3578 - accuracy: 0.8824 - recall_m: 1.0000 - precision_m: 0.8462 - f1_m: 0.9167 - val_loss: 0.2788 - val_accuracy: 1.0000 - val_recall_m: 1.0000 - val_precision_m: 1.0000 - val_f1_m: 1.0000\n",
      "Epoch 8/10\n",
      "17/17 [==============================] - 0s 13ms/step - loss: 0.3311 - accuracy: 0.9412 - recall_m: 1.0000 - precision_m: 0.9167 - f1_m: 0.9565 - val_loss: 0.1971 - val_accuracy: 1.0000 - val_recall_m: 1.0000 - val_precision_m: 1.0000 - val_f1_m: 1.0000\n",
      "Epoch 9/10\n",
      "17/17 [==============================] - 0s 17ms/step - loss: 0.3023 - accuracy: 0.8824 - recall_m: 1.0000 - precision_m: 0.8462 - f1_m: 0.9167 - val_loss: 0.2132 - val_accuracy: 1.0000 - val_recall_m: 1.0000 - val_precision_m: 1.0000 - val_f1_m: 1.0000\n",
      "Epoch 10/10\n",
      "17/17 [==============================] - 0s 15ms/step - loss: 0.2768 - accuracy: 0.9412 - recall_m: 1.0000 - precision_m: 0.9167 - f1_m: 0.9565 - val_loss: 0.1593 - val_accuracy: 1.0000 - val_recall_m: 1.0000 - val_precision_m: 1.0000 - val_f1_m: 1.0000\n"
     ],
     "output_type": "stream"
    }
   ],
   "source": [
    "model = models.Sequential()\n",
    "model.add(layers.Dense(64, activation = 'relu', input_shape = (77312,)))\n",
    "model.add(layers.Dense(64, activation = 'relu'))\n",
    "model.add(layers.Dense(1, activation = 'sigmoid'))\n",
    "\n",
    "model.compile(optimizer='rmsprop',\n",
    "              loss='binary_crossentropy',\n",
    "              metrics=['accuracy', recall_m, precision_m, f1_m])\n",
    "\n",
    "history = model.fit(X_train,\n",
    "                    y_train,\n",
    "                    epochs=10,\n",
    "                    batch_size=128,\n",
    "                    validation_split = 0.2)"
   ]
  },
  {
   "cell_type": "code",
   "execution_count": 98,
   "metadata": {
    "pycharm": {
     "is_executing": false,
     "name": "#%%\n"
    }
   },
   "outputs": [
    {
     "name": "stdout",
     "text": [
      "23/23 [==============================] - 0s 11ms/step\n"
     ],
     "output_type": "stream"
    },
    {
     "data": {
      "text/plain": "[0.5780936479568481,\n 0.9130434989929199,\n 1.0,\n 0.8823529481887817,\n 0.9374999403953552]"
     },
     "metadata": {},
     "output_type": "execute_result",
     "execution_count": 98
    }
   ],
   "source": [
    "results = model.evaluate(X_test, y_test)\n",
    "results"
   ]
  },
  {
   "cell_type": "code",
   "execution_count": 99,
   "metadata": {
    "pycharm": {
     "name": "#%%\n",
     "is_executing": false
    }
   },
   "outputs": [
    {
     "name": "stdout",
     "text": [
      "Model: \"sequential_45\"\n",
      "_________________________________________________________________\n",
      "Layer (type)                 Output Shape              Param #   \n",
      "=================================================================\n",
      "dense_133 (Dense)            (None, 64)                4948032   \n",
      "_________________________________________________________________\n",
      "dense_134 (Dense)            (None, 64)                4160      \n",
      "_________________________________________________________________\n",
      "dense_135 (Dense)            (None, 1)                 65        \n",
      "=================================================================\n",
      "Total params: 4,952,257\n",
      "Trainable params: 4,952,257\n",
      "Non-trainable params: 0\n",
      "_________________________________________________________________\n"
     ],
     "output_type": "stream"
    }
   ],
   "source": [
    "model.summary()"
   ]
  },
  {
   "cell_type": "code",
   "execution_count": 100,
   "metadata": {
    "pycharm": {
     "is_executing": false
    }
   },
   "outputs": [
    {
     "name": "stdout",
     "text": [
      "23/23 [==============================] - 1s 46ms/step\b\b\b\b\b\b\b\b\b\b\b\b\b\b\b\b\b\b\b\b\b\b\b\b\b\b\b\b\b\b\b\b\b\b\b\b\b\b\b\b\b\b\b\b\b\b\b\b\b\b\b\b\b\b\b\b\b\b\b\b\b\b\b\b\b\b\b\b\b\b\b\b\b\b\b\b\b\b\b\b\b\b\b\b\b\b\b\b\b\b\b\b\b\b\b\b\b\b\b\b\b\b\b\b\b\b\b\b\b\b\b\b\b\b\b\b\b\b\b\b\b\b\b\b\b\b\b\b\b\b\b\b\b\b\b\b\b\b\b\b\b\b\b\b\b\b\b\b\b\b\b\b\b\b\b\b\b\b\b\b\b\b\b\b\b\b\b\b\b\b\b\b\b\b\b\b\b\b\b\b\b\b\b\b\b\b\b\b\b\b\b\b\b\b\b\b\b\b\b\b\b\b\b\b\b\b\b\b\b\b\b\b\b\b\b\b\b\b\b\b\b\b\b\b\b\b\b\b\b\b\b\b\b\b\b\b\b\b\b\b\b\b\b\b\b\b\b\b\b\b\b\b\b\b\b\b\b\b\b\b\b\b\b\b\b\b\b\b\b\b\b\b\b\b\b\b\b\b\b\b\b\b\b\b\b\b\b\b\b\b\b\b\b\b\b\b\b\b\b\b\b\b\b\b\b\b\b\b\b\b\b\b\b\b\b\b\b\b\b\b\b\b\b\b\b\b\b\b\b\b\b\b\b\b\b\b\b\b\b\b\b\b\b\b\b\b\b\b\b\b\b\b\b\b\b\b\b\b\b\b\b\b\b\b\b\b\b\b\b\b\b\b\b\b\b\b\b\b\b - ETA: 0s\b\b\b\b\b\b\b\b\b\b\b\b\b\b\b\b\b\b\b\b\b\b\b\b\b\b\b\b\b\b\b\b\b\b\b\b\b\b\b\b\b\b\b\b\b\b\b\b\b\b\b\b\b\b\b\b\b\b\b\b\b\b\b\b\b\b\b\b\b\b\b\b\b\b\b\b\b\b\b\b\b\b\b\b\b\b\b\b\b\b\b\b\b\b\b\b\b\b\b\b\b\b\b\b\b\b\b\b\b\b\b\b\b\b\b\b\b\b\b\b\b\b\b\b\b\b\b\b\b\b\b\b\b\b\b\b\b\b\b\b\b\b\b\b\b\b\b\b\b\b\b\b\b\b\b\b\b\b\b\b\b\b\b\b\b\b\b\b\b\b\b\b\b\b\b\b\b\b\b\b\b\b\b\b\b\b\b\b\b\b\b\b\b\b\b\b\b\b\b\b\b\b\b\b\b\b\b\b\b\b\b\b\b\b\b\b\b\b\b\b\b\b\b\b\b\b\b\b\b\b\b\b\b\b\b\b\b\b\b\b\n",
      "mse[0.5780934561043978, 0.9130434989929199, 0.6521738767623901, 0.6521738767623901, 0.6521738767623901]\n"
     ],
     "output_type": "stream"
    }
   ],
   "source": [
    "mse = model.evaluate(X_test, y_test, batch_size=1)\n",
    "print(\"mse{}\".format(mse))\n"
   ]
  },
  {
   "cell_type": "code",
   "execution_count": 101,
   "metadata": {
    "pycharm": {
     "is_executing": false
    }
   },
   "outputs": [
    {
     "name": "stdout",
     "text": [
      "[0.    0.125 0.125 1.   ] [0. 0. 1. 1.]\n"
     ],
     "output_type": "stream"
    }
   ],
   "source": [
    "from sklearn.metrics import roc_curve\n",
    "y_pred_keras = model.predict(X_test).ravel()\n",
    "fpr_keras, tpr_keras, thresholds_keras = roc_curve(y_test, y_pred_keras)\n",
    "print(fpr_keras, tpr_keras)\n"
   ]
  },
  {
   "cell_type": "code",
   "execution_count": 102,
   "metadata": {
    "pycharm": {
     "is_executing": false
    }
   },
   "outputs": [
    {
     "name": "stdout",
     "text": [
      "0.875\n"
     ],
     "output_type": "stream"
    }
   ],
   "source": [
    "from sklearn.metrics import auc\n",
    "auc_keras = auc(fpr_keras, tpr_keras)\n",
    "print(auc_keras)"
   ]
  },
  {
   "cell_type": "code",
   "execution_count": 103,
   "metadata": {
    "pycharm": {
     "is_executing": false
    }
   },
   "outputs": [
    {
     "data": {
      "text/plain": "<Figure size 432x288 with 1 Axes>",
      "image/png": "[encoded data removed]"
     },
     "metadata": {
      "needs_background": "light"
     },
     "output_type": "display_data"
    }
   ],
   "source": [
    "plt.figure(1)\n",
    "plt.plot([0, 1], [0, 1], 'k--')\n",
    "plt.plot(fpr_keras, tpr_keras, label='Keras (area = {:.3f})'.format(auc_keras))\n",
    "plt.xlabel('False positive rate')\n",
    "plt.ylabel('True positive rate')\n",
    "plt.title('ROC curve')\n",
    "plt.legend(loc='best')\n",
    "plt.show()\n"
   ]
  },
  {
   "cell_type": "code",
   "execution_count": 104,
   "outputs": [
    {
     "name": "stdout",
     "text": [
      "accuracy: 100.00%\n",
      "recall_m: 100.00%\n",
      "precision_m: 100.00%\n",
      "f1_m: 100.00%\n",
      "\n",
      "\n",
      "accuracy: 88.89%\n",
      "recall_m: 100.00%\n",
      "precision_m: 83.33%\n",
      "f1_m: 90.91%\n",
      "\n",
      "\n",
      "accuracy: 88.89%\n",
      "recall_m: 100.00%\n",
      "precision_m: 83.33%\n",
      "f1_m: 90.91%\n",
      "\n",
      "\n",
      "accuracy: 88.89%\n",
      "recall_m: 100.00%\n",
      "precision_m: 85.71%\n",
      "f1_m: 92.31%\n",
      "\n",
      "\n",
      "accuracy: 100.00%\n",
      "recall_m: 100.00%\n",
      "precision_m: 100.00%\n",
      "f1_m: 100.00%\n",
      "\n",
      "\n",
      "93.33% (+/- 5.44%)\n",
      "1.00% (+/- 0.00%)\n",
      "0.90% (+/- 0.08%)\n",
      "0.95% (+/- 0.04%)\n"
     ],
     "output_type": "stream"
    }
   ],
   "source": [
    "\n",
    "accuracy_scores = []\n",
    "prec_scores = []\n",
    "rec_scores = []\n",
    "f1_scores = []\n",
    "\n",
    "from sklearn.model_selection import KFold\n",
    "kfold = KFold(n_splits=5, shuffle=True, random_state=3)\n",
    "for train, test in kfold.split(features, target):\n",
    "    k_model = models.Sequential()\n",
    "    k_model.add(layers.Dense(64, activation = 'relu', input_shape = (77312,)))\n",
    "    k_model.add(layers.Dense(64, activation = 'relu'))\n",
    "    k_model.add(layers.Dense(1, activation = 'sigmoid'))\n",
    "    \n",
    "    k_model.compile(optimizer='rmsprop',\n",
    "              loss='binary_crossentropy',\n",
    "              metrics=['accuracy', recall_m, precision_m, f1_m])\n",
    "    \n",
    "    k_model.fit(features.loc[train], target.loc[train], epochs=10, batch_size=512, verbose=0)\n",
    "    \n",
    "    scores = k_model.evaluate(features.loc[test], target.loc[test], verbose=0)\n",
    "    \n",
    "    print(\"%s: %.2f%%\" % (k_model.metrics_names[1], scores[1]*100))\n",
    "    print(\"%s: %.2f%%\" % (k_model.metrics_names[2], scores[2]*100))\n",
    "    print(\"%s: %.2f%%\" % (k_model.metrics_names[3], scores[3]*100))\n",
    "    print(\"%s: %.2f%%\" % (k_model.metrics_names[4], scores[4]*100))\n",
    "    print(\"\\n\")\n",
    "    accuracy_scores.append(scores[1] * 100)\n",
    "    prec_scores.append(scores[2])\n",
    "    rec_scores.append(scores[3])\n",
    "    f1_scores.append(scores[4])\n",
    "    \n",
    "print(\"%.2f%% (+/- %.2f%%)\" % (np.mean(accuracy_scores), np.std(accuracy_scores)))\n",
    "print(\"%.2f%% (+/- %.2f%%)\" % (np.mean(prec_scores), np.std(prec_scores)))\n",
    "print(\"%.2f%% (+/- %.2f%%)\" % (np.mean(rec_scores), np.std(rec_scores)))\n",
    "print(\"%.2f%% (+/- %.2f%%)\" % (np.mean(f1_scores), np.std(f1_scores)))"
   ],
   "metadata": {
    "collapsed": false,
    "pycharm": {
     "name": "#%%\n",
     "is_executing": false
    }
   }
  },
  {
   "cell_type": "code",
   "execution_count": 105,
   "outputs": [
    {
     "data": {
      "text/plain": "(45, 77312)"
     },
     "metadata": {},
     "output_type": "execute_result",
     "execution_count": 105
    }
   ],
   "source": [
    "features.shape"
   ],
   "metadata": {
    "collapsed": false,
    "pycharm": {
     "name": "#%%\n",
     "is_executing": false
    }
   }
  },
  {
   "cell_type": "code",
   "execution_count": 105,
   "outputs": [],
   "source": [],
   "metadata": {
    "collapsed": false,
    "pycharm": {
     "name": "#%%\n",
     "is_executing": false
    }
   }
  },
  {
   "cell_type": "code",
   "execution_count": 105,
   "outputs": [],
   "source": [
    "\n"
   ],
   "metadata": {
    "collapsed": false,
    "pycharm": {
     "name": "#%%\n",
     "is_executing": false
    }
   }
  }
 ],
 "metadata": {
  "kernelspec": {
   "display_name": "Python 3",
   "language": "python",
   "name": "python3"
  },
  "language_info": {
   "codemirror_mode": {
    "name": "ipython",
    "version": 3
   },
   "file_extension": ".py",
   "mimetype": "text/x-python",
   "name": "python",
   "nbconvert_exporter": "python",
   "pygments_lexer": "ipython3",
   "version": "3.7.4"
  },
  "pycharm": {
   "stem_cell": {
    "cell_type": "raw",
    "source": [],
    "metadata": {
     "collapsed": false
    }
   }
  }
 },
 "nbformat": 4,
 "nbformat_minor": 1
}