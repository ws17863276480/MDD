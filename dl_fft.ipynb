{
 "cells": [
  {
   "cell_type": "code",
   "execution_count": 48,
   "metadata": {
    "pycharm": {
     "is_executing": false
    }
   },
   "outputs": [],
   "source": [
    "import pandas as pd\n",
    "import numpy as np\n",
    "import matplotlib.pyplot as plt\n",
    "import matplotlib.dates as md\n",
    "import os\n",
    "import mne\n",
    "import random\n",
    "from sklearn.metrics import classification_report"
   ]
  },
  {
   "cell_type": "code",
   "execution_count": 49,
   "metadata": {
    "pycharm": {
     "is_executing": false,
     "name": "#%%\n"
    }
   },
   "outputs": [
    {
     "name": "stdout",
     "text": [
      "Extracting EDF parameters from C:\\python\\study\\4월3주\\depression\\dataset\\EC\\MDD S1 EC.edf...\n",
      "EDF file detected\n",
      "Setting channel info structure...\n",
      "Creating raw.info structure...\n",
      "Extracting EDF parameters from C:\\python\\study\\4월3주\\depression\\dataset\\EC\\MDD S10 EC.edf...\n",
      "EDF file detected\n",
      "Setting channel info structure...\n",
      "Creating raw.info structure...\n",
      "Extracting EDF parameters from C:\\python\\study\\4월3주\\depression\\dataset\\EC\\MDD S11 EC.edf...\n",
      "EDF file detected\n",
      "Setting channel info structure...\n",
      "Creating raw.info structure...\n",
      "Extracting EDF parameters from C:\\python\\study\\4월3주\\depression\\dataset\\EC\\MDD S12 EC.edf...\n",
      "EDF file detected\n",
      "Setting channel info structure...\n",
      "Creating raw.info structure...\n",
      "Extracting EDF parameters from C:\\python\\study\\4월3주\\depression\\dataset\\EC\\MDD S13 EC.edf...\n",
      "EDF file detected\n",
      "Setting channel info structure...\n",
      "Creating raw.info structure...\n",
      "Extracting EDF parameters from C:\\python\\study\\4월3주\\depression\\dataset\\EC\\MDD S14 EC.edf...\n",
      "EDF file detected\n",
      "Setting channel info structure...\n",
      "Creating raw.info structure...\n",
      "Extracting EDF parameters from C:\\python\\study\\4월3주\\depression\\dataset\\EC\\MDD S15 EC.edf...\n",
      "EDF file detected\n",
      "Setting channel info structure...\n",
      "Creating raw.info structure...\n",
      "Extracting EDF parameters from C:\\python\\study\\4월3주\\depression\\dataset\\EC\\MDD S16 EC.edf...\n",
      "EDF file detected\n",
      "Setting channel info structure...\n",
      "Creating raw.info structure...\n",
      "Extracting EDF parameters from C:\\python\\study\\4월3주\\depression\\dataset\\EC\\MDD S17 EC.edf...\n",
      "EDF file detected\n",
      "Setting channel info structure...\n",
      "Creating raw.info structure...\n",
      "Extracting EDF parameters from C:\\python\\study\\4월3주\\depression\\dataset\\EC\\MDD S18 EC.edf...\n",
      "EDF file detected\n",
      "Setting channel info structure...\n",
      "Creating raw.info structure...\n",
      "Extracting EDF parameters from C:\\python\\study\\4월3주\\depression\\dataset\\EC\\MDD S19 EC.edf...\n",
      "EDF file detected\n",
      "Setting channel info structure...\n",
      "Creating raw.info structure...\n",
      "Extracting EDF parameters from C:\\python\\study\\4월3주\\depression\\dataset\\EC\\MDD S2 EC.edf...\n",
      "EDF file detected\n",
      "Setting channel info structure...\n",
      "Creating raw.info structure...\n",
      "Extracting EDF parameters from C:\\python\\study\\4월3주\\depression\\dataset\\EC\\MDD S20 EC.edf...\n",
      "EDF file detected\n",
      "Setting channel info structure...\n",
      "Creating raw.info structure...\n",
      "Extracting EDF parameters from C:\\python\\study\\4월3주\\depression\\dataset\\EC\\MDD S21 EC.edf...\n",
      "EDF file detected\n",
      "Setting channel info structure...\n",
      "Creating raw.info structure...\n",
      "Extracting EDF parameters from C:\\python\\study\\4월3주\\depression\\dataset\\EC\\MDD S22 EC.edf...\n",
      "EDF file detected\n",
      "Setting channel info structure...\n",
      "Creating raw.info structure...\n",
      "Extracting EDF parameters from C:\\python\\study\\4월3주\\depression\\dataset\\EC\\MDD S23 EC.edf...\n",
      "EDF file detected\n",
      "Setting channel info structure...\n",
      "Creating raw.info structure...\n",
      "Extracting EDF parameters from C:\\python\\study\\4월3주\\depression\\dataset\\EC\\MDD S24 EC.edf...\n",
      "EDF file detected\n",
      "Setting channel info structure...\n",
      "Creating raw.info structure...\n",
      "Extracting EDF parameters from C:\\python\\study\\4월3주\\depression\\dataset\\EC\\MDD S25 EC.edf...\n",
      "EDF file detected\n",
      "Setting channel info structure...\n",
      "Creating raw.info structure...\n",
      "Extracting EDF parameters from C:\\python\\study\\4월3주\\depression\\dataset\\EC\\MDD S26 EC.edf...\n",
      "EDF file detected\n",
      "Setting channel info structure...\n",
      "Creating raw.info structure...\n",
      "Extracting EDF parameters from C:\\python\\study\\4월3주\\depression\\dataset\\EC\\MDD S27 EC.edf...\n",
      "EDF file detected\n",
      "Setting channel info structure...\n",
      "Creating raw.info structure...\n",
      "Extracting EDF parameters from C:\\python\\study\\4월3주\\depression\\dataset\\EC\\MDD S28 EC.edf...\n",
      "EDF file detected\n",
      "Setting channel info structure...\n",
      "Creating raw.info structure...\n",
      "Extracting EDF parameters from C:\\python\\study\\4월3주\\depression\\dataset\\EC\\MDD S3 EC.edf...\n",
      "EDF file detected\n",
      "Setting channel info structure...\n",
      "Creating raw.info structure...\n",
      "Extracting EDF parameters from C:\\python\\study\\4월3주\\depression\\dataset\\EC\\MDD S4 EC.edf...\n",
      "EDF file detected\n",
      "Setting channel info structure...\n",
      "Creating raw.info structure...\n",
      "Extracting EDF parameters from C:\\python\\study\\4월3주\\depression\\dataset\\EC\\MDD S5 EC.edf...\n",
      "EDF file detected\n",
      "Setting channel info structure...\n",
      "Creating raw.info structure...\n",
      "Extracting EDF parameters from C:\\python\\study\\4월3주\\depression\\dataset\\EC\\MDD S6 EC.edf...\n",
      "EDF file detected\n",
      "Setting channel info structure...\n",
      "Creating raw.info structure...\n",
      "Extracting EDF parameters from C:\\python\\study\\4월3주\\depression\\dataset\\EC\\MDD S7 EC.edf...\n",
      "EDF file detected\n",
      "Setting channel info structure...\n",
      "Creating raw.info structure...\n",
      "Extracting EDF parameters from C:\\python\\study\\4월3주\\depression\\dataset\\EC\\MDD S8 EC.edf...\n",
      "EDF file detected\n",
      "Setting channel info structure...\n",
      "Creating raw.info structure...\n",
      "Extracting EDF parameters from C:\\python\\study\\4월3주\\depression\\dataset\\EC\\MDD S9 EC.edf...\n",
      "EDF file detected\n",
      "Setting channel info structure...\n",
      "Creating raw.info structure...\n",
      "Extracting EDF parameters from C:\\python\\study\\4월3주\\depression\\dataset\\EC\\MDD W29 EC.edf...\n",
      "EDF file detected\n",
      "Setting channel info structure...\n",
      "Creating raw.info structure...\n",
      "Extracting EDF parameters from C:\\python\\study\\4월3주\\depression\\dataset\\EC\\MDD W30 EC.edf...\n",
      "EDF file detected\n",
      "Setting channel info structure...\n",
      "Creating raw.info structure...\n",
      "Extracting EDF parameters from C:\\python\\study\\4월3주\\depression\\dataset\\EC\\S1 EC.edf...\n",
      "EDF file detected\n",
      "Setting channel info structure...\n",
      "Creating raw.info structure...\n",
      "Extracting EDF parameters from C:\\python\\study\\4월3주\\depression\\dataset\\EC\\S10  EC.edf...\n",
      "EDF file detected\n",
      "Setting channel info structure...\n",
      "Creating raw.info structure...\n",
      "Extracting EDF parameters from C:\\python\\study\\4월3주\\depression\\dataset\\EC\\S11  EC.edf...\n",
      "EDF file detected\n",
      "Setting channel info structure...\n",
      "Creating raw.info structure...\n",
      "Extracting EDF parameters from C:\\python\\study\\4월3주\\depression\\dataset\\EC\\S12  EC.edf...\n",
      "EDF file detected\n",
      "Setting channel info structure...\n",
      "Creating raw.info structure...\n",
      "Extracting EDF parameters from C:\\python\\study\\4월3주\\depression\\dataset\\EC\\S13  EC.edf...\n",
      "EDF file detected\n",
      "Setting channel info structure...\n",
      "Creating raw.info structure...\n",
      "Extracting EDF parameters from C:\\python\\study\\4월3주\\depression\\dataset\\EC\\S14  EC.edf...\n",
      "EDF file detected\n",
      "Setting channel info structure...\n",
      "Creating raw.info structure...\n",
      "Extracting EDF parameters from C:\\python\\study\\4월3주\\depression\\dataset\\EC\\S15  EC.edf...\n",
      "EDF file detected\n",
      "Setting channel info structure...\n",
      "Creating raw.info structure...\n",
      "Extracting EDF parameters from C:\\python\\study\\4월3주\\depression\\dataset\\EC\\S2 EC.edf...\n",
      "EDF file detected\n",
      "Setting channel info structure...\n",
      "Creating raw.info structure...\n",
      "Extracting EDF parameters from C:\\python\\study\\4월3주\\depression\\dataset\\EC\\S3  EC.edf...\n",
      "EDF file detected\n",
      "Setting channel info structure...\n",
      "Creating raw.info structure...\n",
      "Extracting EDF parameters from C:\\python\\study\\4월3주\\depression\\dataset\\EC\\S4  EC.edf...\n",
      "EDF file detected\n",
      "Setting channel info structure...\n",
      "Creating raw.info structure...\n",
      "Extracting EDF parameters from C:\\python\\study\\4월3주\\depression\\dataset\\EC\\S5  EC.edf...\n",
      "EDF file detected\n",
      "Setting channel info structure...\n",
      "Creating raw.info structure...\n",
      "Extracting EDF parameters from C:\\python\\study\\4월3주\\depression\\dataset\\EC\\S6  EC.edf...\n",
      "EDF file detected\n",
      "Setting channel info structure...\n",
      "Creating raw.info structure...\n",
      "Extracting EDF parameters from C:\\python\\study\\4월3주\\depression\\dataset\\EC\\S7  EC.edf...\n",
      "EDF file detected\n",
      "Setting channel info structure...\n",
      "Creating raw.info structure...\n",
      "Extracting EDF parameters from C:\\python\\study\\4월3주\\depression\\dataset\\EC\\S8  EC.edf...\n",
      "EDF file detected\n",
      "Setting channel info structure...\n",
      "Creating raw.info structure...\n",
      "Extracting EDF parameters from C:\\python\\study\\4월3주\\depression\\dataset\\EC\\S9  EC.edf...\n",
      "EDF file detected\n",
      "Setting channel info structure...\n",
      "Creating raw.info structure...\n"
     ],
     "output_type": "stream"
    }
   ],
   "source": [
    "MDD_dataset_Filenames = os.listdir('./data/MDD')\n",
    "H_dataset_Filenames = os.listdir('./data/H')\n",
    "MDD_dataset_list = []\n",
    "H_dataset_list = []\n",
    "\n",
    "for filename in MDD_dataset_Filenames:\n",
    "    data = mne.io.read_raw_edf('./dataset/EC/' + str(filename))\n",
    "    MDD_dataset_list.append(data)  \n",
    "    \n",
    "for filename in H_dataset_Filenames:\n",
    "    data = mne.io.read_raw_edf('./dataset/EC/' + str(filename))\n",
    "    H_dataset_list.append(data)  \n",
    "\n"
   ]
  },
  {
   "cell_type": "code",
   "execution_count": 50,
   "metadata": {
    "pycharm": {
     "is_executing": false,
     "name": "#%%\n"
    }
   },
   "outputs": [],
   "source": [
    "MDD_dataframe_list = [] #MDD 환자의 데이터프레임 리스트\n",
    "H_dataframe_list = [] #건강한 사람의 데이터프레임 리스트\n",
    "for raw in MDD_dataset_list:\n",
    "    raw_data = raw.get_data(return_times=True)\n",
    "    channels = raw.ch_names\n",
    "    T_data = np.transpose(raw_data[0])\n",
    "    time = np.transpose(raw_data[1])\n",
    "    temp = pd.DataFrame(T_data, columns = channels, index = time)\n",
    "    MDD_dataframe_list.append(temp)\n",
    "    \n",
    "for raw in H_dataset_list:\n",
    "    raw_data = raw.get_data(return_times=True)\n",
    "    channels = raw.ch_names\n",
    "    T_data = np.transpose(raw_data[0])\n",
    "    time = np.transpose(raw_data[1])\n",
    "    temp = pd.DataFrame(T_data, columns = channels, index = time)\n",
    "    H_dataframe_list.append(temp)\n",
    "\n",
    "MDD_dataframe_list[23].rename(columns = {'E F3-Ref': 'F3'}, inplace = True)"
   ]
  },
  {
   "cell_type": "code",
   "execution_count": 51,
   "metadata": {
    "pycharm": {
     "is_executing": false,
     "name": "#%%\n"
    }
   },
   "outputs": [],
   "source": [
    "X = {}\n",
    "y = []\n",
    "for i in range(len(MDD_dataframe_list)):\n",
    "    a = MDD_dataframe_list[i]\n",
    "    #데이터 클린징\n",
    "    a.F3 = a.F3[a.F3 > -0.0005]\n",
    "    a = a.fillna(method='ffill')\n",
    "    fft = np.fft.fft(a['F3'])\n",
    "    fft = np.abs(fft)\n",
    "    X[i] = fft\n",
    "    y.append(1)\n",
    "    \n",
    "for i in range(30, 30+len(H_dataframe_list)):\n",
    "    a = H_dataframe_list[30-i]\n",
    "    a.rename(columns = {'EEG F3-LE' : 'F3'}, inplace = True)\n",
    "    #데이터 클린징\n",
    "    a.F3 = a.F3[a.F3 > -0.0005]\n",
    "    a = a.fillna(method='ffill')\n",
    "    fft = np.fft.fft(a['F3'])\n",
    "    fft = np.abs(fft)\n",
    "    X[i] = fft\n",
    "    y.append(0)\n",
    "    \n",
    "X = pd.DataFrame.from_dict(X, orient='index')\n",
    "X['target'] = y"
   ]
  },
  {
   "cell_type": "code",
   "execution_count": 52,
   "metadata": {
    "pycharm": {
     "is_executing": false
    }
   },
   "outputs": [],
   "source": [
    "X = X.fillna(0)"
   ]
  },
  {
   "cell_type": "code",
   "execution_count": 53,
   "metadata": {
    "pycharm": {
     "name": "#%%\n",
     "is_executing": false
    }
   },
   "outputs": [],
   "source": [
    "# 타겟 컬럼과 특징 컬럼 정의\n",
    "\n",
    "target_col = 'target'\n",
    "target = X[target_col]\n",
    "features = X[X.columns.difference(['target'])]\n"
   ]
  },
  {
   "cell_type": "code",
   "execution_count": 54,
   "metadata": {
    "pycharm": {
     "is_executing": false,
     "name": "#%%\n"
    }
   },
   "outputs": [],
   "source": [
    "from sklearn.model_selection import train_test_split\n",
    "X_train, X_test, y_train, y_test = train_test_split(features, target, test_size=0.5)"
   ]
  },
  {
   "cell_type": "code",
   "execution_count": 55,
   "metadata": {
    "pycharm": {
     "is_executing": false,
     "name": "#%%\n"
    }
   },
   "outputs": [
    {
     "data": {
      "text/plain": "SVC(C=1.0, cache_size=200, class_weight=None, coef0=0.0,\n    decision_function_shape='ovr', degree=3, gamma='auto_deprecated',\n    kernel='linear', max_iter=-1, probability=False, random_state=0,\n    shrinking=True, tol=0.001, verbose=False)"
     },
     "metadata": {},
     "output_type": "execute_result",
     "execution_count": 55
    }
   ],
   "source": [
    "from sklearn.svm import SVC\n",
    "#SVM Model\n",
    "svm_linear = SVC(kernel='linear', random_state=0)\n",
    "svm_linear.fit(X_train, y_train)\n"
   ]
  },
  {
   "cell_type": "code",
   "execution_count": 56,
   "metadata": {
    "pycharm": {
     "is_executing": false,
     "name": "#%%\n"
    }
   },
   "outputs": [
    {
     "name": "stdout",
     "text": [
      "테스트 세트 예측 :  [0 1 1 1 1 1 1 1 1 1 1 1 1 1 1 1 1 1 1 0 1 1 1]\n",
      "테스트 세트 정확도 :  0.7391304347826086\n",
      "              precision    recall  f1-score   support\n",
      "\n",
      "           0       1.00      0.25      0.40         8\n",
      "           1       0.71      1.00      0.83        15\n",
      "\n",
      "    accuracy                           0.74        23\n",
      "   macro avg       0.86      0.62      0.62        23\n",
      "weighted avg       0.81      0.74      0.68        23\n",
      "\n"
     ],
     "output_type": "stream"
    }
   ],
   "source": [
    "#SVM 선형 평가\n",
    "print(\"테스트 세트 예측 : \", svm_linear.predict(X_test))\n",
    "print(\"테스트 세트 정확도 : \", svm_linear.score(X_test, y_test))\n",
    "\n",
    "y_pred = svm_linear.predict(X_test)\n",
    "print(classification_report(y_test, y_pred))\n"
   ]
  },
  {
   "cell_type": "code",
   "execution_count": 57,
   "metadata": {
    "pycharm": {
     "is_executing": false,
     "name": "#%%\n"
    }
   },
   "outputs": [],
   "source": [
    "from sklearn.metrics import roc_curve\n",
    "from keras import models\n",
    "from keras import layers\n",
    "from keras import backend as K\n",
    "\n",
    "def recall_m(y_true, y_pred):\n",
    "    true_positives = K.sum(K.round(K.clip(y_true * y_pred, 0, 1)))\n",
    "    possible_positives = K.sum(K.round(K.clip(y_true, 0, 1)))\n",
    "    recall = true_positives / (possible_positives + K.epsilon())\n",
    "    return recall\n",
    "\n",
    "def precision_m(y_true, y_pred):\n",
    "    true_positives = K.sum(K.round(K.clip(y_true * y_pred, 0, 1)))\n",
    "    predicted_positives = K.sum(K.round(K.clip(y_pred, 0, 1)))\n",
    "    precision = true_positives / (predicted_positives + K.epsilon())\n",
    "    return precision\n",
    "\n",
    "def f1_m(y_true, y_pred):\n",
    "    precision = precision_m(y_true, y_pred)\n",
    "    recall = recall_m(y_true, y_pred)\n",
    "    return 2*((precision*recall)/(precision+recall+K.epsilon()))\n"
   ]
  },
  {
   "cell_type": "code",
   "execution_count": 58,
   "metadata": {
    "pycharm": {
     "is_executing": false,
     "name": "#%%\n"
    }
   },
   "outputs": [
    {
     "name": "stdout",
     "text": [
      "Train on 17 samples, validate on 5 samples\n",
      "Epoch 1/10\n",
      "17/17 [==============================] - 3s 162ms/step - loss: 0.6931 - accuracy: 0.4118 - recall_m: 0.3333 - precision_m: 0.6667 - f1_m: 0.4444 - val_loss: 0.6590 - val_accuracy: 0.6000 - val_recall_m: 1.0000 - val_precision_m: 0.6000 - val_f1_m: 0.7500\n",
      "Epoch 2/10\n",
      "17/17 [==============================] - 0s 19ms/step - loss: 0.6163 - accuracy: 0.7059 - recall_m: 1.0000 - precision_m: 0.7059 - f1_m: 0.8276 - val_loss: 0.6175 - val_accuracy: 0.6000 - val_recall_m: 1.0000 - val_precision_m: 0.6000 - val_f1_m: 0.7500\n",
      "Epoch 3/10\n",
      "17/17 [==============================] - 1s 33ms/step - loss: 0.5244 - accuracy: 0.7059 - recall_m: 1.0000 - precision_m: 0.7059 - f1_m: 0.8276 - val_loss: 0.5374 - val_accuracy: 0.6000 - val_recall_m: 1.0000 - val_precision_m: 0.6000 - val_f1_m: 0.7500\n",
      "Epoch 4/10\n",
      "17/17 [==============================] - 0s 16ms/step - loss: 0.4432 - accuracy: 0.7647 - recall_m: 1.0000 - precision_m: 0.7500 - f1_m: 0.8571 - val_loss: 0.4952 - val_accuracy: 0.6000 - val_recall_m: 1.0000 - val_precision_m: 0.6000 - val_f1_m: 0.7500\n",
      "Epoch 5/10\n",
      "17/17 [==============================] - 0s 16ms/step - loss: 0.3839 - accuracy: 0.8235 - recall_m: 1.0000 - precision_m: 0.8000 - f1_m: 0.8889 - val_loss: 0.4346 - val_accuracy: 0.8000 - val_recall_m: 1.0000 - val_precision_m: 0.7500 - val_f1_m: 0.8571\n",
      "Epoch 6/10\n",
      "17/17 [==============================] - 0s 15ms/step - loss: 0.3402 - accuracy: 1.0000 - recall_m: 1.0000 - precision_m: 1.0000 - f1_m: 1.0000 - val_loss: 0.4325 - val_accuracy: 0.8000 - val_recall_m: 1.0000 - val_precision_m: 0.7500 - val_f1_m: 0.8571\n",
      "Epoch 7/10\n",
      "17/17 [==============================] - 0s 21ms/step - loss: 0.2961 - accuracy: 0.8824 - recall_m: 1.0000 - precision_m: 0.8571 - f1_m: 0.9231 - val_loss: 0.3546 - val_accuracy: 0.8000 - val_recall_m: 1.0000 - val_precision_m: 0.7500 - val_f1_m: 0.8571\n",
      "Epoch 8/10\n",
      "17/17 [==============================] - 0s 13ms/step - loss: 0.2587 - accuracy: 1.0000 - recall_m: 1.0000 - precision_m: 1.0000 - f1_m: 1.0000 - val_loss: 0.3669 - val_accuracy: 0.8000 - val_recall_m: 1.0000 - val_precision_m: 0.7500 - val_f1_m: 0.8571\n",
      "Epoch 9/10\n",
      "17/17 [==============================] - 0s 14ms/step - loss: 0.2299 - accuracy: 1.0000 - recall_m: 1.0000 - precision_m: 1.0000 - f1_m: 1.0000 - val_loss: 0.3035 - val_accuracy: 0.8000 - val_recall_m: 1.0000 - val_precision_m: 0.7500 - val_f1_m: 0.8571\n",
      "Epoch 10/10\n",
      "17/17 [==============================] - 0s 12ms/step - loss: 0.2030 - accuracy: 1.0000 - recall_m: 1.0000 - precision_m: 1.0000 - f1_m: 1.0000 - val_loss: 0.3150 - val_accuracy: 0.8000 - val_recall_m: 1.0000 - val_precision_m: 0.7500 - val_f1_m: 0.8571\n"
     ],
     "output_type": "stream"
    }
   ],
   "source": [
    "model = models.Sequential()\n",
    "model.add(layers.Dense(64, activation = 'relu', input_shape = (77312,)))\n",
    "model.add(layers.Dense(64, activation = 'relu'))\n",
    "model.add(layers.Dense(1, activation = 'sigmoid'))\n",
    "\n",
    "model.compile(optimizer='rmsprop',\n",
    "              loss='binary_crossentropy',\n",
    "              metrics=['accuracy', recall_m, precision_m, f1_m])\n",
    "\n",
    "history = model.fit(X_train,\n",
    "                    y_train,\n",
    "                    epochs=10,\n",
    "                    batch_size=512,\n",
    "                    validation_split = 0.2)"
   ]
  },
  {
   "cell_type": "code",
   "execution_count": 59,
   "metadata": {
    "pycharm": {
     "is_executing": false,
     "name": "#%%\n"
    }
   },
   "outputs": [
    {
     "name": "stdout",
     "text": [
      "23/23 [==============================] - 0s 8ms/step\n"
     ],
     "output_type": "stream"
    },
    {
     "data": {
      "text/plain": "[0.536504328250885,\n 0.8695651888847351,\n 1.0,\n 0.8333333134651184,\n 0.9090908169746399]"
     },
     "metadata": {},
     "output_type": "execute_result",
     "execution_count": 59
    }
   ],
   "source": [
    "results = model.evaluate(X_test, y_test)\n",
    "results"
   ]
  },
  {
   "cell_type": "code",
   "execution_count": 60,
   "metadata": {
    "pycharm": {
     "name": "#%%\n",
     "is_executing": false
    }
   },
   "outputs": [
    {
     "name": "stdout",
     "text": [
      "Model: \"sequential_7\"\n",
      "_________________________________________________________________\n",
      "Layer (type)                 Output Shape              Param #   \n",
      "=================================================================\n",
      "dense_19 (Dense)             (None, 64)                4948032   \n",
      "_________________________________________________________________\n",
      "dense_20 (Dense)             (None, 64)                4160      \n",
      "_________________________________________________________________\n",
      "dense_21 (Dense)             (None, 1)                 65        \n",
      "=================================================================\n",
      "Total params: 4,952,257\n",
      "Trainable params: 4,952,257\n",
      "Non-trainable params: 0\n",
      "_________________________________________________________________\n"
     ],
     "output_type": "stream"
    }
   ],
   "source": [
    "model.summary()"
   ]
  },
  {
   "cell_type": "code",
   "execution_count": 61,
   "metadata": {
    "pycharm": {
     "is_executing": false
    }
   },
   "outputs": [
    {
     "name": "stdout",
     "text": [
      "23/23 [==============================] - 0s 17ms/step\b\b\b\b\b\b\b\b\b\b\b\b\b\b\b\b\b\b\b\b\b\b\b\b\b\b\b\b\b\b\b\b\b\b\b\b\b\b\b\b\b\b\b\b\b\b\b\b\b\b\b\b\b\b\b\b\b\b\b\b\b\b\b\b\b\b\b\b\b\b\b\b\b\b\b\b\b\b\b\b\b\b\b\b\b\b\b\b\b\b\b\b\b\b\b\b\b\b\b\b\b\b\b\b\b\b\b\b\b\b\b\b\b\b\b\b\b\b\b\b\b\b\b\b\b\b\b\b\b\b\b\b\b\b\b\b\b\b\b\b\b\b\b\b\b\b\b\b\b\b\b\b\b\b\b\b\b\b\b\b\b\b\b\b\b\b\b\b\b\b\b\b\b\b\b\b\b\b\b\b\b\b\b\b\b\b\b\b\b\b\b\b\b\b\b\b\b\b\b\b\b\b\b\b\b\b\b\b\b\b\b\b\b\b\b\b\b\b\b\b\b\b\b\b\b\b\b\b\b\b\b\b\b\b\b\b\b\b\b\b\b\b\b\b\b\b\b\b\b\b\b\b\b\b\b\b\b\b\b\b\b\b\b\b\b\b\b\b\b\b\b\b\b\b\b\b\b\b\b\b\b\b\b\n",
      "mse[0.5365040961491025, 0.8695651888847351, 0.6521738767623901, 0.6521738767623901, 0.6521738767623901]\n"
     ],
     "output_type": "stream"
    }
   ],
   "source": [
    "mse = model.evaluate(X_test, y_test, batch_size=1)\n",
    "print(\"mse{}\".format(mse))\n"
   ]
  },
  {
   "cell_type": "code",
   "execution_count": 62,
   "metadata": {
    "pycharm": {
     "is_executing": false
    }
   },
   "outputs": [
    {
     "name": "stdout",
     "text": [
      "[0.    0.125 0.125 0.25  0.25  0.375 0.375 1.   ] [0.         0.         0.6        0.6        0.93333333 0.93333333\n",
      " 1.         1.        ]\n"
     ],
     "output_type": "stream"
    }
   ],
   "source": [
    "from sklearn.metrics import roc_curve\n",
    "y_pred_keras = model.predict(X_test).ravel()\n",
    "fpr_keras, tpr_keras, thresholds_keras = roc_curve(y_test, y_pred_keras)\n",
    "print(fpr_keras, tpr_keras)\n"
   ]
  },
  {
   "cell_type": "code",
   "execution_count": 63,
   "metadata": {
    "pycharm": {
     "is_executing": false
    }
   },
   "outputs": [
    {
     "name": "stdout",
     "text": [
      "0.8166666666666667\n"
     ],
     "output_type": "stream"
    }
   ],
   "source": [
    "from sklearn.metrics import auc\n",
    "auc_keras = auc(fpr_keras, tpr_keras)\n",
    "print(auc_keras)"
   ]
  },
  {
   "cell_type": "code",
   "execution_count": 64,
   "metadata": {
    "pycharm": {
     "is_executing": false
    }
   },
   "outputs": [
    {
     "data": {
      "text/plain": "<Figure size 432x288 with 1 Axes>",
      "image/png": "[encoded data removed]"
     },
     "metadata": {
      "needs_background": "light"
     },
     "output_type": "display_data"
    }
   ],
   "source": [
    "plt.figure(1)\n",
    "plt.plot([0, 1], [0, 1], 'k--')\n",
    "plt.plot(fpr_keras, tpr_keras, label='Keras (area = {:.3f})'.format(auc_keras))\n",
    "plt.xlabel('False positive rate')\n",
    "plt.ylabel('True positive rate')\n",
    "plt.title('ROC curve')\n",
    "plt.legend(loc='best')\n",
    "plt.show()\n"
   ]
  }
 ],
 "metadata": {
  "kernelspec": {
   "display_name": "Python 3",
   "language": "python",
   "name": "python3"
  },
  "language_info": {
   "codemirror_mode": {
    "name": "ipython",
    "version": 3
   },
   "file_extension": ".py",
   "mimetype": "text/x-python",
   "name": "python",
   "nbconvert_exporter": "python",
   "pygments_lexer": "ipython3",
   "version": "3.7.4"
  },
  "pycharm": {
   "stem_cell": {
    "cell_type": "raw",
    "source": [],
    "metadata": {
     "collapsed": false
    }
   }
  }
 },
 "nbformat": 4,
 "nbformat_minor": 1
}