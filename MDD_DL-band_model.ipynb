{
 "cells": [
  {
   "cell_type": "code",
   "execution_count": 1,
   "metadata": {
    "collapsed": false,
    "jupyter": {
     "outputs_hidden": false
    },
    "pycharm": {
     "is_executing": false,
     "name": "#%%\n"
    }
   },
   "outputs": [
    {
     "name": "stderr",
     "output_type": "stream",
     "text": [
      "\n",
      "Bad key \"text.kerning_factor\" on line 4 in\n",
      "C:\\Users\\GC\\Anaconda3\\envs\\ark\\lib\\site-packages\\matplotlib\\mpl-data\\stylelib\\_classic_test_patch.mplstyle.\n",
      "You probably need to get an updated matplotlibrc file from\n",
      "https://github.com/matplotlib/matplotlib/blob/v3.1.3/matplotlibrc.template\n",
      "or from the matplotlib source distribution\n"
     ]
    }
   ],
   "source": [
    "import pandas as pd\n",
    "import numpy as np\n",
    "import matplotlib.pyplot as plt\n",
    "import matplotlib.dates as md\n",
    "import os\n",
    "import mne\n",
    "import random\n",
    "from sklearn.metrics import classification_report\n",
    "from numpy import zeros, newaxis\n",
    "from scipy import signal\n",
    "from scipy import fftpack"
   ]
  },
  {
   "cell_type": "code",
   "execution_count": 2,
   "metadata": {
    "collapsed": false,
    "jupyter": {
     "outputs_hidden": false
    },
    "pycharm": {
     "is_executing": false,
     "name": "#%%\n"
    }
   },
   "outputs": [],
   "source": [
    "MDD_dataset_Filenames = os.listdir('./full_dataset/MDD/EC/')\n",
    "H_dataset_Filenames = os.listdir('./full_dataset/H/EC/')\n",
    "\n",
    "MDD_dataset_list = []\n",
    "H_dataset_list = []\n",
    "\n",
    "for filename in MDD_dataset_Filenames:\n",
    "    data = mne.io.read_raw_edf('./full_dataset/MDD/EC/' + str(filename), verbose=0)\n",
    "    MDD_dataset_list.append(data)  \n",
    "    \n",
    "for filename in H_dataset_Filenames:\n",
    "    data = mne.io.read_raw_edf('./full_dataset/H/EC/' + str(filename), verbose=0)\n",
    "    H_dataset_list.append(data)  \n"
   ]
  },
  {
   "cell_type": "code",
   "execution_count": 3,
   "metadata": {
    "collapsed": false,
    "jupyter": {
     "outputs_hidden": false
    },
    "pycharm": {
     "is_executing": false,
     "name": "#%%\n"
    }
   },
   "outputs": [
    {
     "data": {
      "text/html": [
       "<div>\n",
       "<style scoped>\n",
       "    .dataframe tbody tr th:only-of-type {\n",
       "        vertical-align: middle;\n",
       "    }\n",
       "\n",
       "    .dataframe tbody tr th {\n",
       "        vertical-align: top;\n",
       "    }\n",
       "\n",
       "    .dataframe thead th {\n",
       "        text-align: right;\n",
       "    }\n",
       "</style>\n",
       "<table border=\"1\" class=\"dataframe\">\n",
       "  <thead>\n",
       "    <tr style=\"text-align: right;\">\n",
       "      <th></th>\n",
       "      <th>EEG Fp1-LE</th>\n",
       "      <th>EEG F3-LE</th>\n",
       "      <th>EEG C3-LE</th>\n",
       "      <th>EEG P3-LE</th>\n",
       "      <th>EEG O1-LE</th>\n",
       "      <th>EEG F7-LE</th>\n",
       "      <th>EEG T3-LE</th>\n",
       "      <th>EEG T5-LE</th>\n",
       "      <th>EEG Fz-LE</th>\n",
       "      <th>EEG Fp2-LE</th>\n",
       "      <th>EEG F4-LE</th>\n",
       "      <th>EEG C4-LE</th>\n",
       "      <th>EEG P4-LE</th>\n",
       "      <th>EEG O2-LE</th>\n",
       "      <th>EEG F8-LE</th>\n",
       "      <th>EEG T4-LE</th>\n",
       "      <th>EEG T6-LE</th>\n",
       "      <th>EEG Cz-LE</th>\n",
       "      <th>EEG Pz-LE</th>\n",
       "      <th>EEG A2-A1</th>\n",
       "    </tr>\n",
       "  </thead>\n",
       "  <tbody>\n",
       "    <tr>\n",
       "      <th>0.000000</th>\n",
       "      <td>3.850294e-06</td>\n",
       "      <td>-0.000002</td>\n",
       "      <td>-0.000002</td>\n",
       "      <td>-5.500420e-07</td>\n",
       "      <td>-1.650126e-06</td>\n",
       "      <td>-7.450568e-06</td>\n",
       "      <td>4.500343e-07</td>\n",
       "      <td>-2.450187e-06</td>\n",
       "      <td>2.750210e-06</td>\n",
       "      <td>4.550347e-06</td>\n",
       "      <td>5.000381e-08</td>\n",
       "      <td>3.550271e-06</td>\n",
       "      <td>0.000007</td>\n",
       "      <td>2.500191e-07</td>\n",
       "      <td>5.450416e-06</td>\n",
       "      <td>0.000006</td>\n",
       "      <td>0.000003</td>\n",
       "      <td>2.500191e-07</td>\n",
       "      <td>0.000003</td>\n",
       "      <td>2.450187e-06</td>\n",
       "    </tr>\n",
       "    <tr>\n",
       "      <th>0.003906</th>\n",
       "      <td>2.250172e-06</td>\n",
       "      <td>-0.000004</td>\n",
       "      <td>-0.000001</td>\n",
       "      <td>3.500267e-07</td>\n",
       "      <td>-1.500114e-07</td>\n",
       "      <td>-7.750591e-06</td>\n",
       "      <td>-1.150088e-06</td>\n",
       "      <td>-2.450187e-06</td>\n",
       "      <td>4.500343e-07</td>\n",
       "      <td>2.650202e-06</td>\n",
       "      <td>-2.550195e-06</td>\n",
       "      <td>3.750286e-06</td>\n",
       "      <td>0.000008</td>\n",
       "      <td>2.050156e-06</td>\n",
       "      <td>8.550652e-06</td>\n",
       "      <td>0.000007</td>\n",
       "      <td>0.000004</td>\n",
       "      <td>-5.500420e-07</td>\n",
       "      <td>0.000006</td>\n",
       "      <td>2.050156e-06</td>\n",
       "    </tr>\n",
       "    <tr>\n",
       "      <th>0.007812</th>\n",
       "      <td>-5.000381e-08</td>\n",
       "      <td>-0.000005</td>\n",
       "      <td>-0.000002</td>\n",
       "      <td>8.500649e-07</td>\n",
       "      <td>5.500420e-07</td>\n",
       "      <td>-5.250401e-06</td>\n",
       "      <td>-2.650202e-06</td>\n",
       "      <td>-2.250172e-06</td>\n",
       "      <td>-2.250172e-06</td>\n",
       "      <td>5.000381e-08</td>\n",
       "      <td>-4.950378e-06</td>\n",
       "      <td>2.950225e-06</td>\n",
       "      <td>0.000008</td>\n",
       "      <td>3.450263e-06</td>\n",
       "      <td>8.950683e-06</td>\n",
       "      <td>0.000008</td>\n",
       "      <td>0.000005</td>\n",
       "      <td>-1.750134e-06</td>\n",
       "      <td>0.000006</td>\n",
       "      <td>2.350179e-06</td>\n",
       "    </tr>\n",
       "    <tr>\n",
       "      <th>0.011719</th>\n",
       "      <td>-2.350179e-06</td>\n",
       "      <td>-0.000005</td>\n",
       "      <td>-0.000002</td>\n",
       "      <td>1.050080e-06</td>\n",
       "      <td>9.500725e-07</td>\n",
       "      <td>-2.050156e-06</td>\n",
       "      <td>-3.750286e-06</td>\n",
       "      <td>-2.050156e-06</td>\n",
       "      <td>-4.450340e-06</td>\n",
       "      <td>-2.250172e-06</td>\n",
       "      <td>-5.950454e-06</td>\n",
       "      <td>2.350179e-06</td>\n",
       "      <td>0.000007</td>\n",
       "      <td>4.250324e-06</td>\n",
       "      <td>6.750515e-06</td>\n",
       "      <td>0.000006</td>\n",
       "      <td>0.000005</td>\n",
       "      <td>-2.750210e-06</td>\n",
       "      <td>0.000005</td>\n",
       "      <td>3.250248e-06</td>\n",
       "    </tr>\n",
       "    <tr>\n",
       "      <th>0.015625</th>\n",
       "      <td>-3.650278e-06</td>\n",
       "      <td>-0.000005</td>\n",
       "      <td>-0.000002</td>\n",
       "      <td>9.500725e-07</td>\n",
       "      <td>1.150088e-06</td>\n",
       "      <td>-1.500114e-07</td>\n",
       "      <td>-4.550347e-06</td>\n",
       "      <td>-1.650126e-06</td>\n",
       "      <td>-5.450416e-06</td>\n",
       "      <td>-3.450263e-06</td>\n",
       "      <td>-5.350408e-06</td>\n",
       "      <td>2.450187e-06</td>\n",
       "      <td>0.000005</td>\n",
       "      <td>4.750362e-06</td>\n",
       "      <td>3.250248e-06</td>\n",
       "      <td>0.000003</td>\n",
       "      <td>0.000006</td>\n",
       "      <td>-3.150240e-06</td>\n",
       "      <td>0.000003</td>\n",
       "      <td>4.450340e-06</td>\n",
       "    </tr>\n",
       "    <tr>\n",
       "      <th>...</th>\n",
       "      <td>...</td>\n",
       "      <td>...</td>\n",
       "      <td>...</td>\n",
       "      <td>...</td>\n",
       "      <td>...</td>\n",
       "      <td>...</td>\n",
       "      <td>...</td>\n",
       "      <td>...</td>\n",
       "      <td>...</td>\n",
       "      <td>...</td>\n",
       "      <td>...</td>\n",
       "      <td>...</td>\n",
       "      <td>...</td>\n",
       "      <td>...</td>\n",
       "      <td>...</td>\n",
       "      <td>...</td>\n",
       "      <td>...</td>\n",
       "      <td>...</td>\n",
       "      <td>...</td>\n",
       "      <td>...</td>\n",
       "    </tr>\n",
       "    <tr>\n",
       "      <th>119.980469</th>\n",
       "      <td>-1.350103e-06</td>\n",
       "      <td>0.000004</td>\n",
       "      <td>0.000003</td>\n",
       "      <td>5.500420e-07</td>\n",
       "      <td>1.150088e-06</td>\n",
       "      <td>2.650202e-06</td>\n",
       "      <td>2.150164e-06</td>\n",
       "      <td>7.500572e-07</td>\n",
       "      <td>3.450263e-06</td>\n",
       "      <td>1.850141e-06</td>\n",
       "      <td>3.050233e-06</td>\n",
       "      <td>4.500343e-07</td>\n",
       "      <td>0.000002</td>\n",
       "      <td>4.150317e-06</td>\n",
       "      <td>6.350484e-06</td>\n",
       "      <td>0.000006</td>\n",
       "      <td>0.000004</td>\n",
       "      <td>1.450111e-06</td>\n",
       "      <td>0.000002</td>\n",
       "      <td>1.950149e-06</td>\n",
       "    </tr>\n",
       "    <tr>\n",
       "      <th>119.984375</th>\n",
       "      <td>-1.050080e-06</td>\n",
       "      <td>0.000003</td>\n",
       "      <td>0.000004</td>\n",
       "      <td>1.950149e-06</td>\n",
       "      <td>2.150164e-06</td>\n",
       "      <td>2.450187e-06</td>\n",
       "      <td>3.050233e-06</td>\n",
       "      <td>2.050156e-06</td>\n",
       "      <td>2.050156e-06</td>\n",
       "      <td>7.500572e-07</td>\n",
       "      <td>2.250172e-06</td>\n",
       "      <td>-1.650126e-06</td>\n",
       "      <td>0.000002</td>\n",
       "      <td>3.950301e-06</td>\n",
       "      <td>4.750362e-06</td>\n",
       "      <td>0.000007</td>\n",
       "      <td>0.000004</td>\n",
       "      <td>5.000381e-08</td>\n",
       "      <td>0.000003</td>\n",
       "      <td>1.650126e-06</td>\n",
       "    </tr>\n",
       "    <tr>\n",
       "      <th>119.988281</th>\n",
       "      <td>4.500343e-07</td>\n",
       "      <td>0.000002</td>\n",
       "      <td>0.000005</td>\n",
       "      <td>3.950301e-06</td>\n",
       "      <td>2.650202e-06</td>\n",
       "      <td>2.450187e-06</td>\n",
       "      <td>5.250401e-06</td>\n",
       "      <td>3.350256e-06</td>\n",
       "      <td>1.750134e-06</td>\n",
       "      <td>5.000381e-08</td>\n",
       "      <td>2.850217e-06</td>\n",
       "      <td>-1.250095e-06</td>\n",
       "      <td>0.000004</td>\n",
       "      <td>3.850294e-06</td>\n",
       "      <td>2.350179e-06</td>\n",
       "      <td>0.000007</td>\n",
       "      <td>0.000005</td>\n",
       "      <td>1.500114e-07</td>\n",
       "      <td>0.000005</td>\n",
       "      <td>1.050080e-06</td>\n",
       "    </tr>\n",
       "    <tr>\n",
       "      <th>119.992188</th>\n",
       "      <td>2.050156e-06</td>\n",
       "      <td>0.000002</td>\n",
       "      <td>0.000007</td>\n",
       "      <td>6.050462e-06</td>\n",
       "      <td>2.650202e-06</td>\n",
       "      <td>2.550195e-06</td>\n",
       "      <td>7.550576e-06</td>\n",
       "      <td>4.650355e-06</td>\n",
       "      <td>2.250172e-06</td>\n",
       "      <td>-2.500191e-07</td>\n",
       "      <td>4.250324e-06</td>\n",
       "      <td>1.550118e-06</td>\n",
       "      <td>0.000006</td>\n",
       "      <td>3.750286e-06</td>\n",
       "      <td>4.500343e-07</td>\n",
       "      <td>0.000008</td>\n",
       "      <td>0.000006</td>\n",
       "      <td>1.550118e-06</td>\n",
       "      <td>0.000007</td>\n",
       "      <td>6.500496e-07</td>\n",
       "    </tr>\n",
       "    <tr>\n",
       "      <th>119.996094</th>\n",
       "      <td>2.850217e-06</td>\n",
       "      <td>0.000002</td>\n",
       "      <td>0.000008</td>\n",
       "      <td>8.050614e-06</td>\n",
       "      <td>2.150164e-06</td>\n",
       "      <td>2.650202e-06</td>\n",
       "      <td>9.450721e-06</td>\n",
       "      <td>5.850446e-06</td>\n",
       "      <td>2.850217e-06</td>\n",
       "      <td>5.000381e-08</td>\n",
       "      <td>5.350408e-06</td>\n",
       "      <td>5.250401e-06</td>\n",
       "      <td>0.000008</td>\n",
       "      <td>3.750286e-06</td>\n",
       "      <td>-1.500114e-07</td>\n",
       "      <td>0.000007</td>\n",
       "      <td>0.000007</td>\n",
       "      <td>3.550271e-06</td>\n",
       "      <td>0.000009</td>\n",
       "      <td>5.500420e-07</td>\n",
       "    </tr>\n",
       "  </tbody>\n",
       "</table>\n",
       "<p>30720 rows × 20 columns</p>\n",
       "</div>"
      ],
      "text/plain": [
       "              EEG Fp1-LE  EEG F3-LE  EEG C3-LE     EEG P3-LE     EEG O1-LE  \\\n",
       "0.000000    3.850294e-06  -0.000002  -0.000002 -5.500420e-07 -1.650126e-06   \n",
       "0.003906    2.250172e-06  -0.000004  -0.000001  3.500267e-07 -1.500114e-07   \n",
       "0.007812   -5.000381e-08  -0.000005  -0.000002  8.500649e-07  5.500420e-07   \n",
       "0.011719   -2.350179e-06  -0.000005  -0.000002  1.050080e-06  9.500725e-07   \n",
       "0.015625   -3.650278e-06  -0.000005  -0.000002  9.500725e-07  1.150088e-06   \n",
       "...                  ...        ...        ...           ...           ...   \n",
       "119.980469 -1.350103e-06   0.000004   0.000003  5.500420e-07  1.150088e-06   \n",
       "119.984375 -1.050080e-06   0.000003   0.000004  1.950149e-06  2.150164e-06   \n",
       "119.988281  4.500343e-07   0.000002   0.000005  3.950301e-06  2.650202e-06   \n",
       "119.992188  2.050156e-06   0.000002   0.000007  6.050462e-06  2.650202e-06   \n",
       "119.996094  2.850217e-06   0.000002   0.000008  8.050614e-06  2.150164e-06   \n",
       "\n",
       "               EEG F7-LE     EEG T3-LE     EEG T5-LE     EEG Fz-LE  \\\n",
       "0.000000   -7.450568e-06  4.500343e-07 -2.450187e-06  2.750210e-06   \n",
       "0.003906   -7.750591e-06 -1.150088e-06 -2.450187e-06  4.500343e-07   \n",
       "0.007812   -5.250401e-06 -2.650202e-06 -2.250172e-06 -2.250172e-06   \n",
       "0.011719   -2.050156e-06 -3.750286e-06 -2.050156e-06 -4.450340e-06   \n",
       "0.015625   -1.500114e-07 -4.550347e-06 -1.650126e-06 -5.450416e-06   \n",
       "...                  ...           ...           ...           ...   \n",
       "119.980469  2.650202e-06  2.150164e-06  7.500572e-07  3.450263e-06   \n",
       "119.984375  2.450187e-06  3.050233e-06  2.050156e-06  2.050156e-06   \n",
       "119.988281  2.450187e-06  5.250401e-06  3.350256e-06  1.750134e-06   \n",
       "119.992188  2.550195e-06  7.550576e-06  4.650355e-06  2.250172e-06   \n",
       "119.996094  2.650202e-06  9.450721e-06  5.850446e-06  2.850217e-06   \n",
       "\n",
       "              EEG Fp2-LE     EEG F4-LE     EEG C4-LE  EEG P4-LE     EEG O2-LE  \\\n",
       "0.000000    4.550347e-06  5.000381e-08  3.550271e-06   0.000007  2.500191e-07   \n",
       "0.003906    2.650202e-06 -2.550195e-06  3.750286e-06   0.000008  2.050156e-06   \n",
       "0.007812    5.000381e-08 -4.950378e-06  2.950225e-06   0.000008  3.450263e-06   \n",
       "0.011719   -2.250172e-06 -5.950454e-06  2.350179e-06   0.000007  4.250324e-06   \n",
       "0.015625   -3.450263e-06 -5.350408e-06  2.450187e-06   0.000005  4.750362e-06   \n",
       "...                  ...           ...           ...        ...           ...   \n",
       "119.980469  1.850141e-06  3.050233e-06  4.500343e-07   0.000002  4.150317e-06   \n",
       "119.984375  7.500572e-07  2.250172e-06 -1.650126e-06   0.000002  3.950301e-06   \n",
       "119.988281  5.000381e-08  2.850217e-06 -1.250095e-06   0.000004  3.850294e-06   \n",
       "119.992188 -2.500191e-07  4.250324e-06  1.550118e-06   0.000006  3.750286e-06   \n",
       "119.996094  5.000381e-08  5.350408e-06  5.250401e-06   0.000008  3.750286e-06   \n",
       "\n",
       "               EEG F8-LE  EEG T4-LE  EEG T6-LE     EEG Cz-LE  EEG Pz-LE  \\\n",
       "0.000000    5.450416e-06   0.000006   0.000003  2.500191e-07   0.000003   \n",
       "0.003906    8.550652e-06   0.000007   0.000004 -5.500420e-07   0.000006   \n",
       "0.007812    8.950683e-06   0.000008   0.000005 -1.750134e-06   0.000006   \n",
       "0.011719    6.750515e-06   0.000006   0.000005 -2.750210e-06   0.000005   \n",
       "0.015625    3.250248e-06   0.000003   0.000006 -3.150240e-06   0.000003   \n",
       "...                  ...        ...        ...           ...        ...   \n",
       "119.980469  6.350484e-06   0.000006   0.000004  1.450111e-06   0.000002   \n",
       "119.984375  4.750362e-06   0.000007   0.000004  5.000381e-08   0.000003   \n",
       "119.988281  2.350179e-06   0.000007   0.000005  1.500114e-07   0.000005   \n",
       "119.992188  4.500343e-07   0.000008   0.000006  1.550118e-06   0.000007   \n",
       "119.996094 -1.500114e-07   0.000007   0.000007  3.550271e-06   0.000009   \n",
       "\n",
       "               EEG A2-A1  \n",
       "0.000000    2.450187e-06  \n",
       "0.003906    2.050156e-06  \n",
       "0.007812    2.350179e-06  \n",
       "0.011719    3.250248e-06  \n",
       "0.015625    4.450340e-06  \n",
       "...                  ...  \n",
       "119.980469  1.950149e-06  \n",
       "119.984375  1.650126e-06  \n",
       "119.988281  1.050080e-06  \n",
       "119.992188  6.500496e-07  \n",
       "119.996094  5.500420e-07  \n",
       "\n",
       "[30720 rows x 20 columns]"
      ]
     },
     "execution_count": 3,
     "metadata": {},
     "output_type": "execute_result"
    }
   ],
   "source": [
    "MDD_dataframe = [] #MDD 환자의 데이터프레임 리스트\n",
    "H_dataframe = [] #건강한 사람의 데이터프레임 리스트\n",
    "y = []\n",
    "for raw in MDD_dataset_list:\n",
    "    raw_data = raw.get_data(return_times=True)\n",
    "    channels = raw.ch_names\n",
    "    T_data = np.transpose(raw_data[0])\n",
    "    time = np.transpose(raw_data[1])\n",
    "    temp = pd.DataFrame(T_data, columns = channels, index = time)\n",
    "    MDD_dataframe.append(temp.iloc[:30720]) #256 * 120 = 2min\n",
    "    y.append(1)\n",
    "    \n",
    "for raw in H_dataset_list:\n",
    "    raw_data = raw.get_data(return_times=True)\n",
    "    channels = raw.ch_names\n",
    "    T_data = np.transpose(raw_data[0])\n",
    "    time = np.transpose(raw_data[1])\n",
    "    temp = pd.DataFrame(temp)\n",
    "    H_dataframe.append(temp.iloc[:30720]) #256 * 120 = 2min\n",
    "    y.append(0)\n",
    "y = np.asarray(y)    \n",
    "MDD_dataframe[0]"
   ]
  },
  {
   "cell_type": "code",
   "execution_count": 4,
   "metadata": {},
   "outputs": [],
   "source": [
    "#MDD[26]환자 열 개수 조정\n",
    "MDD_dataframe[26] = MDD_dataframe[26][MDD_dataframe[0].columns]"
   ]
  },
  {
   "cell_type": "code",
   "execution_count": 5,
   "metadata": {
    "collapsed": false,
    "jupyter": {
     "outputs_hidden": false
    },
    "pycharm": {
     "is_executing": false,
     "name": "#%%\n"
    }
   },
   "outputs": [],
   "source": [
    "low_pass_filter = signal.firwin(101, cutoff=32, fs=256, pass_zero='lowpass')\n",
    "high_pass_filter = signal.firwin(101, cutoff=0.5, fs=256, pass_zero='highpass')"
   ]
  },
  {
   "cell_type": "code",
   "execution_count": 6,
   "metadata": {},
   "outputs": [],
   "source": [
    "for j in range(0, len(MDD_dataframe)):\n",
    "    col = list(MDD_dataframe[j].columns)\n",
    "    for i in range(0, len(col)):\n",
    "        clear_eeg = signal.lfilter(low_pass_filter, [1.0], MDD_dataframe[j][col[i]])\n",
    "        clear_eeg = signal.lfilter(high_pass_filter, [1.0], clear_eeg)\n",
    "        MDD_dataframe[j][col[i]] = clear_eeg"
   ]
  },
  {
   "cell_type": "code",
   "execution_count": 7,
   "metadata": {},
   "outputs": [
    {
     "name": "stderr",
     "output_type": "stream",
     "text": [
      "C:\\Users\\GC\\Anaconda3\\envs\\ark\\lib\\site-packages\\ipykernel_launcher.py:6: SettingWithCopyWarning: \n",
      "A value is trying to be set on a copy of a slice from a DataFrame.\n",
      "Try using .loc[row_indexer,col_indexer] = value instead\n",
      "\n",
      "See the caveats in the documentation: https://pandas.pydata.org/pandas-docs/stable/user_guide/indexing.html#returning-a-view-versus-a-copy\n",
      "  \n"
     ]
    }
   ],
   "source": [
    "for j in range(0, len(H_dataframe)):\n",
    "    col = list(H_dataframe[j].columns)\n",
    "    for i in range(0, len(col)):\n",
    "        clear_eeg = signal.lfilter(low_pass_filter, [1.0], H_dataframe[j][col[i]])\n",
    "        clear_eeg = signal.lfilter(high_pass_filter, [1.0], clear_eeg)\n",
    "        H_dataframe[j][col[i]] = clear_eeg"
   ]
  },
  {
   "cell_type": "code",
   "execution_count": 8,
   "metadata": {},
   "outputs": [],
   "source": [
    "all_dataframe = MDD_dataframe + H_dataframe\n"
   ]
  },
  {
   "cell_type": "code",
   "execution_count": 9,
   "metadata": {},
   "outputs": [],
   "source": [
    "delta_pass_filter =  signal.firwin(101, cutoff=[0.5,4], fs=256, pass_zero='bandpass')\n",
    "theta_pass_filter =  signal.firwin(101, cutoff=[4,8], fs=256, pass_zero='bandpass')\n",
    "alpha_pass_filter =  signal.firwin(101, cutoff=[8,13], fs=256, pass_zero='bandpass')\n",
    "beta_pass_filter =  signal.firwin(101, cutoff=[13,30], fs=256, pass_zero='bandpass')\n",
    "from sklearn.preprocessing import MinMaxScaler\n",
    "\n",
    "def band_power(channel):\n",
    "    df = pd.DataFrame()\n",
    "    df['delta'] = signal.lfilter(delta_pass_filter, [1.0], channel)\n",
    "    df['theta'] = signal.lfilter(theta_pass_filter, [1.0], channel)\n",
    "    df['alpha'] = signal.lfilter(alpha_pass_filter, [1.0], channel)\n",
    "    df['beta'] = signal.lfilter(beta_pass_filter, [1.0], channel)\n",
    "    \n",
    "    return df\n"
   ]
  },
  {
   "cell_type": "code",
   "execution_count": 10,
   "metadata": {},
   "outputs": [],
   "source": [
    "def eeg_band_power_seperate(input_dataframe, train):\n",
    "    global scaler\n",
    "    X = np.zeros((1,20,4,30720))\n",
    "    for dataframe in input_dataframe:\n",
    "        columns = list(dataframe.columns)\n",
    "        band_power_list = np.zeros((1,4,30720))\n",
    "        #band_power_list = band_power_list[newaxis,:,:]\n",
    "        for i in range(len(columns)):\n",
    "            ch = band_power(dataframe[dataframe.columns[i]])\n",
    "            if train == 1:\n",
    "                scaler = MinMaxScaler().fit(ch)\n",
    "            ch = scaler.fit_transform(ch) #Min-Max\n",
    "            ch = np.asarray(ch)\n",
    "            band_power_list = np.vstack([band_power_list, ch.T[newaxis,:,:]])\n",
    "        band_power_list = band_power_list[1:]\n",
    "        X = np.vstack([X, band_power_list[newaxis,:,:,:]])\n",
    "        #print(X.shape, end=\"/\")\n",
    "    return X"
   ]
  },
  {
   "cell_type": "code",
   "execution_count": 11,
   "metadata": {},
   "outputs": [
    {
     "name": "stderr",
     "output_type": "stream",
     "text": [
      "Using TensorFlow backend.\n"
     ]
    }
   ],
   "source": [
    "from sklearn.metrics import roc_curve\n",
    "from keras import models\n",
    "from keras import layers\n",
    "from keras import backend as K\n",
    "\n",
    "def recall_m(y_true, y_pred):\n",
    "    true_positives = K.sum(K.round(K.clip(y_true * y_pred, 0, 1)))\n",
    "    possible_positives = K.sum(K.round(K.clip(y_true, 0, 1)))\n",
    "    recall = true_positives / (possible_positives + K.epsilon())\n",
    "    return recall\n",
    "\n",
    "def precision_m(y_true, y_pred):\n",
    "    true_positives = K.sum(K.round(K.clip(y_true * y_pred, 0, 1)))\n",
    "    predicted_positives = K.sum(K.round(K.clip(y_pred, 0, 1)))\n",
    "    precision = true_positives / (predicted_positives + K.epsilon())\n",
    "    return precision\n",
    "\n",
    "def f1_m(y_true, y_pred):\n",
    "    precision = precision_m(y_true, y_pred)\n",
    "    recall = recall_m(y_true, y_pred)\n",
    "    return 2*((precision*recall)/(precision+recall+K.epsilon()))"
   ]
  },
  {
   "cell_type": "code",
   "execution_count": 12,
   "metadata": {},
   "outputs": [],
   "source": [
    "def index_to_list(list, index):\n",
    "    return [list[i] for i in index]"
   ]
  },
  {
   "cell_type": "code",
   "execution_count": 13,
   "metadata": {},
   "outputs": [
    {
     "name": "stderr",
     "output_type": "stream",
     "text": [
      "C:\\Users\\GC\\Anaconda3\\envs\\ark\\lib\\site-packages\\ipykernel_launcher.py:30: UserWarning: Update your `Conv2D` call to the Keras 2 API: `Conv2D(64, (4, 4), activation=\"relu\", input_shape=(20, 4, 30..., padding=\"same\")`\n"
     ]
    },
    {
     "name": "stdout",
     "output_type": "stream",
     "text": [
      "accuracy: 100.00%\n",
      "recall_m: 100.00%\n",
      "precision_m: 100.00%\n",
      "f1_m: 100.00%\n",
      "\n",
      "\n"
     ]
    },
    {
     "name": "stderr",
     "output_type": "stream",
     "text": [
      "C:\\Users\\GC\\Anaconda3\\envs\\ark\\lib\\site-packages\\ipykernel_launcher.py:30: UserWarning: Update your `Conv2D` call to the Keras 2 API: `Conv2D(64, (4, 4), activation=\"relu\", input_shape=(20, 4, 30..., padding=\"same\")`\n"
     ]
    },
    {
     "name": "stdout",
     "output_type": "stream",
     "text": [
      "accuracy: 100.00%\n",
      "recall_m: 100.00%\n",
      "precision_m: 100.00%\n",
      "f1_m: 100.00%\n",
      "\n",
      "\n"
     ]
    },
    {
     "name": "stderr",
     "output_type": "stream",
     "text": [
      "C:\\Users\\GC\\Anaconda3\\envs\\ark\\lib\\site-packages\\ipykernel_launcher.py:30: UserWarning: Update your `Conv2D` call to the Keras 2 API: `Conv2D(64, (4, 4), activation=\"relu\", input_shape=(20, 4, 30..., padding=\"same\")`\n"
     ]
    },
    {
     "name": "stdout",
     "output_type": "stream",
     "text": [
      "accuracy: 100.00%\n",
      "recall_m: 100.00%\n",
      "precision_m: 100.00%\n",
      "f1_m: 100.00%\n",
      "\n",
      "\n"
     ]
    },
    {
     "name": "stderr",
     "output_type": "stream",
     "text": [
      "C:\\Users\\GC\\Anaconda3\\envs\\ark\\lib\\site-packages\\ipykernel_launcher.py:30: UserWarning: Update your `Conv2D` call to the Keras 2 API: `Conv2D(64, (4, 4), activation=\"relu\", input_shape=(20, 4, 30..., padding=\"same\")`\n"
     ]
    },
    {
     "name": "stdout",
     "output_type": "stream",
     "text": [
      "accuracy: 100.00%\n",
      "recall_m: 100.00%\n",
      "precision_m: 100.00%\n",
      "f1_m: 100.00%\n",
      "\n",
      "\n"
     ]
    },
    {
     "name": "stderr",
     "output_type": "stream",
     "text": [
      "C:\\Users\\GC\\Anaconda3\\envs\\ark\\lib\\site-packages\\ipykernel_launcher.py:30: UserWarning: Update your `Conv2D` call to the Keras 2 API: `Conv2D(64, (4, 4), activation=\"relu\", input_shape=(20, 4, 30..., padding=\"same\")`\n"
     ]
    },
    {
     "name": "stdout",
     "output_type": "stream",
     "text": [
      "accuracy: 100.00%\n",
      "recall_m: 100.00%\n",
      "precision_m: 100.00%\n",
      "f1_m: 100.00%\n",
      "\n",
      "\n"
     ]
    },
    {
     "name": "stderr",
     "output_type": "stream",
     "text": [
      "C:\\Users\\GC\\Anaconda3\\envs\\ark\\lib\\site-packages\\ipykernel_launcher.py:30: UserWarning: Update your `Conv2D` call to the Keras 2 API: `Conv2D(64, (4, 4), activation=\"relu\", input_shape=(20, 4, 30..., padding=\"same\")`\n"
     ]
    },
    {
     "name": "stdout",
     "output_type": "stream",
     "text": [
      "accuracy: 100.00%\n",
      "recall_m: 100.00%\n",
      "precision_m: 100.00%\n",
      "f1_m: 100.00%\n",
      "\n",
      "\n"
     ]
    },
    {
     "name": "stderr",
     "output_type": "stream",
     "text": [
      "C:\\Users\\GC\\Anaconda3\\envs\\ark\\lib\\site-packages\\ipykernel_launcher.py:30: UserWarning: Update your `Conv2D` call to the Keras 2 API: `Conv2D(64, (4, 4), activation=\"relu\", input_shape=(20, 4, 30..., padding=\"same\")`\n"
     ]
    },
    {
     "name": "stdout",
     "output_type": "stream",
     "text": [
      "accuracy: 100.00%\n",
      "recall_m: 100.00%\n",
      "precision_m: 100.00%\n",
      "f1_m: 100.00%\n",
      "\n",
      "\n"
     ]
    },
    {
     "name": "stderr",
     "output_type": "stream",
     "text": [
      "C:\\Users\\GC\\Anaconda3\\envs\\ark\\lib\\site-packages\\ipykernel_launcher.py:30: UserWarning: Update your `Conv2D` call to the Keras 2 API: `Conv2D(64, (4, 4), activation=\"relu\", input_shape=(20, 4, 30..., padding=\"same\")`\n"
     ]
    },
    {
     "name": "stdout",
     "output_type": "stream",
     "text": [
      "accuracy: 83.33%\n",
      "recall_m: 50.00%\n",
      "precision_m: 100.00%\n",
      "f1_m: 66.67%\n",
      "\n",
      "\n"
     ]
    },
    {
     "name": "stderr",
     "output_type": "stream",
     "text": [
      "C:\\Users\\GC\\Anaconda3\\envs\\ark\\lib\\site-packages\\ipykernel_launcher.py:30: UserWarning: Update your `Conv2D` call to the Keras 2 API: `Conv2D(64, (4, 4), activation=\"relu\", input_shape=(20, 4, 30..., padding=\"same\")`\n"
     ]
    },
    {
     "name": "stdout",
     "output_type": "stream",
     "text": [
      "accuracy: 100.00%\n",
      "recall_m: 100.00%\n",
      "precision_m: 100.00%\n",
      "f1_m: 100.00%\n",
      "\n",
      "\n"
     ]
    },
    {
     "name": "stderr",
     "output_type": "stream",
     "text": [
      "C:\\Users\\GC\\Anaconda3\\envs\\ark\\lib\\site-packages\\ipykernel_launcher.py:30: UserWarning: Update your `Conv2D` call to the Keras 2 API: `Conv2D(64, (4, 4), activation=\"relu\", input_shape=(20, 4, 30..., padding=\"same\")`\n"
     ]
    },
    {
     "name": "stdout",
     "output_type": "stream",
     "text": [
      "accuracy: 100.00%\n",
      "recall_m: 100.00%\n",
      "precision_m: 100.00%\n",
      "f1_m: 100.00%\n",
      "\n",
      "\n",
      "98.33 (+/- 5.00%)\n",
      "0.95 (+/- 0.15%)\n",
      "1.00 (+/- 0.00%)\n",
      "0.97 (+/- 0.10%)\n"
     ]
    }
   ],
   "source": [
    "accuracy_scores = []\n",
    "prec_scores = []\n",
    "rec_scores = []\n",
    "f1_scores = []\n",
    "import keras.backend.tensorflow_backend as Keras_GPU\n",
    "from sklearn.model_selection import KFold\n",
    "\n",
    "kfold = KFold(n_splits=10, shuffle=True, random_state=3)\n",
    "\n",
    "for i in range(1):\n",
    "    for train, test in kfold.split(all_dataframe, y):\n",
    "        X_train = index_to_list(all_dataframe, train)\n",
    "        y_train = y[train]\n",
    "        X_test = index_to_list(all_dataframe, test)\n",
    "        y_test = y[test]\n",
    "\n",
    "\n",
    "        X_train = eeg_band_power_seperate(X_train, 1)\n",
    "        X_test = eeg_band_power_seperate(X_test, 0)\n",
    "\n",
    "        X_train = X_train[1:]\n",
    "        X_test = X_test[1:]\n",
    "\n",
    "        model = models.Sequential()\n",
    "\n",
    "        #1\n",
    "        model.add(layers.Conv2D(64, 4, 4,\n",
    "                        border_mode='same',\n",
    "                        activation='relu',\n",
    "                        input_shape=(20,4,30720)))\n",
    "        model.add(layers.Dropout(0.5))\n",
    "        model.add(layers.MaxPooling2D(pool_size=(2,2),padding = 'same'))\n",
    "\n",
    "        ##-- layer 4\n",
    "        model.add(layers.Flatten())\n",
    "        model.add(layers.Dense(64, activation='relu'))\n",
    "        model.add(layers.Dense(256, activation='relu'))\n",
    "        model.add(layers.Dense(128, activation='relu'))\n",
    "\n",
    "        model.add(layers.Dense(1, activation='sigmoid'))\n",
    "\n",
    "\n",
    "        model.compile(optimizer='Adam',\n",
    "                      loss='binary_crossentropy',\n",
    "                      metrics=['accuracy', recall_m, precision_m, f1_m])\n",
    "\n",
    "        model.fit(X_train, y_train, epochs=100, batch_size=128, verbose=0)\n",
    "\n",
    "        scores = model.evaluate(X_test, y_test, verbose=0)\n",
    "\n",
    "        print(\"%s: %.2f%%\" % (model.metrics_names[1], scores[1]*100))\n",
    "        print(\"%s: %.2f%%\" % (model.metrics_names[2], scores[2]*100))\n",
    "        print(\"%s: %.2f%%\" % (model.metrics_names[3], scores[3]*100))\n",
    "        print(\"%s: %.2f%%\" % (model.metrics_names[4], scores[4]*100))\n",
    "        print(\"\\n\")\n",
    "        accuracy_scores.append(scores[1] * 100)\n",
    "        prec_scores.append(scores[2])\n",
    "        rec_scores.append(scores[3])\n",
    "        f1_scores.append(scores[4])\n",
    "    \n",
    "print(\"%.2f (+/- %.2f%%)\" % (np.mean(accuracy_scores), np.std(accuracy_scores)))\n",
    "print(\"%.2f (+/- %.2f%%)\" % (np.mean(prec_scores), np.std(prec_scores)))\n",
    "print(\"%.2f (+/- %.2f%%)\" % (np.mean(rec_scores), np.std(rec_scores)))\n",
    "print(\"%.2f (+/- %.2f%%)\" % (np.mean(f1_scores), np.std(f1_scores)))\n",
    "    \n",
    "    \n",
    "    \n",
    "    \n",
    "    \n",
    "    "
   ]
  },
  {
   "cell_type": "code",
   "execution_count": 14,
   "metadata": {},
   "outputs": [
    {
     "name": "stdout",
     "output_type": "stream",
     "text": [
      "Model: \"sequential_10\"\n",
      "_________________________________________________________________\n",
      "Layer (type)                 Output Shape              Param #   \n",
      "=================================================================\n",
      "conv2d_10 (Conv2D)           (None, 20, 4, 64)         31457344  \n",
      "_________________________________________________________________\n",
      "dropout_10 (Dropout)         (None, 20, 4, 64)         0         \n",
      "_________________________________________________________________\n",
      "max_pooling2d_10 (MaxPooling (None, 10, 2, 64)         0         \n",
      "_________________________________________________________________\n",
      "flatten_10 (Flatten)         (None, 1280)              0         \n",
      "_________________________________________________________________\n",
      "dense_37 (Dense)             (None, 64)                81984     \n",
      "_________________________________________________________________\n",
      "dense_38 (Dense)             (None, 256)               16640     \n",
      "_________________________________________________________________\n",
      "dense_39 (Dense)             (None, 128)               32896     \n",
      "_________________________________________________________________\n",
      "dense_40 (Dense)             (None, 1)                 129       \n",
      "=================================================================\n",
      "Total params: 31,588,993\n",
      "Trainable params: 31,588,993\n",
      "Non-trainable params: 0\n",
      "_________________________________________________________________\n"
     ]
    }
   ],
   "source": [
    "model.summary()"
   ]
  },
  {
   "cell_type": "code",
   "execution_count": 28,
   "metadata": {},
   "outputs": [
    {
     "name": "stdout",
     "output_type": "stream",
     "text": [
      "[name: \"/device:CPU:0\"\n",
      "device_type: \"CPU\"\n",
      "memory_limit: 268435456\n",
      "locality {\n",
      "}\n",
      "incarnation: 9009326768182994620\n",
      ", name: \"/device:GPU:0\"\n",
      "device_type: \"GPU\"\n",
      "memory_limit: 4830199808\n",
      "locality {\n",
      "  bus_id: 1\n",
      "  links {\n",
      "  }\n",
      "}\n",
      "incarnation: 1955104519803623833\n",
      "physical_device_desc: \"device: 0, name: GeForce RTX 2060, pci bus id: 0000:01:00.0, compute capability: 7.5\"\n",
      "]\n"
     ]
    }
   ],
   "source": [
    "from tensorflow.python.client import device_lib\n",
    "\n",
    "print(device_lib.list_local_devices())\n",
    "\n"
   ]
  },
  {
   "cell_type": "code",
   "execution_count": null,
   "metadata": {},
   "outputs": [],
   "source": []
  }
 ],
 "metadata": {
  "kernelspec": {
   "display_name": "Python 3",
   "language": "python",
   "name": "python3"
  },
  "language_info": {
   "codemirror_mode": {
    "name": "ipython",
    "version": 3
   },
   "file_extension": ".py",
   "mimetype": "text/x-python",
   "name": "python",
   "nbconvert_exporter": "python",
   "pygments_lexer": "ipython3",
   "version": "3.7.3"
  },
  "pycharm": {
   "stem_cell": {
    "cell_type": "raw",
    "metadata": {
     "collapsed": false
    },
    "source": []
   }
  }
 },
 "nbformat": 4,
 "nbformat_minor": 4
}
