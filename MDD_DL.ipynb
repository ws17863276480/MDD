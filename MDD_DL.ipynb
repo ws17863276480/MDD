{
 "cells": [
  {
   "cell_type": "code",
   "execution_count": null,
   "metadata": {
    "collapsed": true,
    "jupyter": {
     "outputs_hidden": true
    }
   },
   "outputs": [],
   "source": []
  },
  {
   "cell_type": "code",
   "execution_count": 11,
   "metadata": {
    "collapsed": false,
    "jupyter": {
     "outputs_hidden": false
    },
    "pycharm": {
     "is_executing": false,
     "name": "#%%\n"
    }
   },
   "outputs": [],
   "source": [
    "import pandas as pd\n",
    "import numpy as np\n",
    "import matplotlib.pyplot as plt\n",
    "import matplotlib.dates as md\n",
    "import os\n",
    "import mne\n",
    "import random\n",
    "from sklearn.metrics import classification_report\n",
    "from numpy import zeros, newaxis\n",
    "from scipy import signal"
   ]
  },
  {
   "cell_type": "code",
   "execution_count": 2,
   "metadata": {
    "collapsed": false,
    "jupyter": {
     "outputs_hidden": false
    },
    "pycharm": {
     "is_executing": false,
     "name": "#%%\n"
    }
   },
   "outputs": [
    {
     "name": "stdout",
     "output_type": "stream",
     "text": [
      "Extracting EDF parameters from c:\\python\\MDD\\full_dataset\\MDD\\EC\\MDD S1 EC.edf...\n",
      "EDF file detected\n",
      "Setting channel info structure...\n",
      "Creating raw.info structure...\n",
      "Extracting EDF parameters from c:\\python\\MDD\\full_dataset\\MDD\\EC\\MDD S2  EC.edf...\n",
      "EDF file detected\n",
      "Setting channel info structure...\n",
      "Creating raw.info structure...\n",
      "Extracting EDF parameters from c:\\python\\MDD\\full_dataset\\MDD\\EC\\MDD S3 EC.edf...\n",
      "EDF file detected\n",
      "Setting channel info structure...\n",
      "Creating raw.info structure...\n",
      "Extracting EDF parameters from c:\\python\\MDD\\full_dataset\\H\\EC\\H S1 EC.edf...\n",
      "EDF file detected\n",
      "Setting channel info structure...\n",
      "Creating raw.info structure...\n",
      "Extracting EDF parameters from c:\\python\\MDD\\full_dataset\\H\\EC\\H S2 EC.edf...\n",
      "EDF file detected\n",
      "Setting channel info structure...\n",
      "Creating raw.info structure...\n"
     ]
    }
   ],
   "source": [
    "MDD_dataset_Filenames = ['MDD S1 EC.edf', 'MDD S2  EC.edf', 'MDD S3 EC.edf']\n",
    "H_dataset_Filenames = ['H S1 EC.edf', 'H S2 EC.edf']\n",
    "\n",
    "MDD_dataset_list = []\n",
    "H_dataset_list = []\n",
    "\n",
    "for filename in MDD_dataset_Filenames:\n",
    "    data = mne.io.read_raw_edf('./full_dataset/MDD/EC/' + str(filename))\n",
    "    MDD_dataset_list.append(data)  \n",
    "    \n",
    "for filename in H_dataset_Filenames:\n",
    "    data = mne.io.read_raw_edf('./full_dataset/H/EC/' + str(filename))\n",
    "    H_dataset_list.append(data)  "
   ]
  },
  {
   "cell_type": "code",
   "execution_count": 3,
   "metadata": {},
   "outputs": [
    {
     "data": {
      "text/plain": [
       "['EEG Fp1-LE',\n",
       " 'EEG F3-LE',\n",
       " 'EEG C3-LE',\n",
       " 'EEG P3-LE',\n",
       " 'EEG O1-LE',\n",
       " 'EEG F7-LE',\n",
       " 'EEG T3-LE',\n",
       " 'EEG T5-LE',\n",
       " 'EEG Fz-LE',\n",
       " 'EEG Fp2-LE',\n",
       " 'EEG F4-LE',\n",
       " 'EEG C4-LE',\n",
       " 'EEG P4-LE',\n",
       " 'EEG O2-LE',\n",
       " 'EEG F8-LE',\n",
       " 'EEG T4-LE',\n",
       " 'EEG T6-LE',\n",
       " 'EEG Cz-LE',\n",
       " 'EEG Pz-LE',\n",
       " 'EEG A2-A1']"
      ]
     },
     "execution_count": 3,
     "metadata": {},
     "output_type": "execute_result"
    }
   ],
   "source": [
    "MDD_dataset_list[0].ch_names"
   ]
  },
  {
   "cell_type": "code",
   "execution_count": 4,
   "metadata": {
    "collapsed": false,
    "jupyter": {
     "outputs_hidden": false
    },
    "pycharm": {
     "is_executing": false,
     "name": "#%%\n"
    }
   },
   "outputs": [],
   "source": [
    "MDD_dataframe = [] #MDD 환자의 데이터프레임 리스트\n",
    "H_dataframe = [] #건강한 사람의 데이터프레임 리스트\n",
    "y = []\n",
    "for raw in MDD_dataset_list:\n",
    "    raw_data = raw.get_data(return_times=True)\n",
    "    channels = raw.ch_names\n",
    "    T_data = np.transpose(raw_data[0])\n",
    "    time = np.transpose(raw_data[1])\n",
    "    temp = pd.DataFrame(T_data, columns = channels, index = time)\n",
    "    MDD_dataframe.append(temp[['EEG Fp1-LE', 'EEG F3-LE', 'EEG F7-LE', 'EEG Fz-LE', 'EEG Fp2-LE', 'EEG F4-LE', 'EEG F8-LE']])\n",
    "    y.append(1)\n",
    "    \n",
    "for raw in H_dataset_list:\n",
    "    raw_data = raw.get_data(return_times=True)\n",
    "    channels = raw.ch_names\n",
    "    T_data = np.transpose(raw_data[0])\n",
    "    time = np.transpose(raw_data[1])\n",
    "    temp = pd.DataFrame(T_data, columns = channels, index = time)\n",
    "    H_dataframe.append(temp[['EEG Fp1-LE', 'EEG F3-LE', 'EEG F7-LE', 'EEG Fz-LE', 'EEG Fp2-LE', 'EEG F4-LE', 'EEG F8-LE']])\n",
    "    y.append(0)"
   ]
  },
  {
   "cell_type": "code",
   "execution_count": 5,
   "metadata": {
    "collapsed": false,
    "jupyter": {
     "outputs_hidden": false
    },
    "pycharm": {
     "is_executing": false,
     "name": "#%%\n"
    }
   },
   "outputs": [
    {
     "ename": "SyntaxError",
     "evalue": "unexpected EOF while parsing (<ipython-input-5-4f91bce91e5c>, line 4)",
     "output_type": "error",
     "traceback": [
      "\u001b[1;36m  File \u001b[1;32m\"<ipython-input-5-4f91bce91e5c>\"\u001b[1;36m, line \u001b[1;32m4\u001b[0m\n\u001b[1;33m    \u001b[0m\n\u001b[1;37m    ^\u001b[0m\n\u001b[1;31mSyntaxError\u001b[0m\u001b[1;31m:\u001b[0m unexpected EOF while parsing\n"
     ]
    }
   ],
   "source": [
    "for df in MDD_dataframe:\n",
    "    col = list(df.columns)\n",
    "    for c in col:\n",
    "        "
   ]
  },
  {
   "cell_type": "code",
   "execution_count": 35,
   "metadata": {},
   "outputs": [],
   "source": [
    "f,t,z = scipy.signal.stft(MDD_dataframe[1]['EEG Fp1-LE'])"
   ]
  },
  {
   "cell_type": "code",
   "execution_count": 36,
   "metadata": {},
   "outputs": [
    {
     "data": {
      "text/plain": [
       "(array([0.        , 0.00390625, 0.0078125 , 0.01171875, 0.015625  ,\n",
       "        0.01953125, 0.0234375 , 0.02734375, 0.03125   , 0.03515625,\n",
       "        0.0390625 , 0.04296875, 0.046875  , 0.05078125, 0.0546875 ,\n",
       "        0.05859375, 0.0625    , 0.06640625, 0.0703125 , 0.07421875,\n",
       "        0.078125  , 0.08203125, 0.0859375 , 0.08984375, 0.09375   ,\n",
       "        0.09765625, 0.1015625 , 0.10546875, 0.109375  , 0.11328125,\n",
       "        0.1171875 , 0.12109375, 0.125     , 0.12890625, 0.1328125 ,\n",
       "        0.13671875, 0.140625  , 0.14453125, 0.1484375 , 0.15234375,\n",
       "        0.15625   , 0.16015625, 0.1640625 , 0.16796875, 0.171875  ,\n",
       "        0.17578125, 0.1796875 , 0.18359375, 0.1875    , 0.19140625,\n",
       "        0.1953125 , 0.19921875, 0.203125  , 0.20703125, 0.2109375 ,\n",
       "        0.21484375, 0.21875   , 0.22265625, 0.2265625 , 0.23046875,\n",
       "        0.234375  , 0.23828125, 0.2421875 , 0.24609375, 0.25      ,\n",
       "        0.25390625, 0.2578125 , 0.26171875, 0.265625  , 0.26953125,\n",
       "        0.2734375 , 0.27734375, 0.28125   , 0.28515625, 0.2890625 ,\n",
       "        0.29296875, 0.296875  , 0.30078125, 0.3046875 , 0.30859375,\n",
       "        0.3125    , 0.31640625, 0.3203125 , 0.32421875, 0.328125  ,\n",
       "        0.33203125, 0.3359375 , 0.33984375, 0.34375   , 0.34765625,\n",
       "        0.3515625 , 0.35546875, 0.359375  , 0.36328125, 0.3671875 ,\n",
       "        0.37109375, 0.375     , 0.37890625, 0.3828125 , 0.38671875,\n",
       "        0.390625  , 0.39453125, 0.3984375 , 0.40234375, 0.40625   ,\n",
       "        0.41015625, 0.4140625 , 0.41796875, 0.421875  , 0.42578125,\n",
       "        0.4296875 , 0.43359375, 0.4375    , 0.44140625, 0.4453125 ,\n",
       "        0.44921875, 0.453125  , 0.45703125, 0.4609375 , 0.46484375,\n",
       "        0.46875   , 0.47265625, 0.4765625 , 0.48046875, 0.484375  ,\n",
       "        0.48828125, 0.4921875 , 0.49609375, 0.5       ]),\n",
       " array([    0.,   128.,   256.,   384.,   512.,   640.,   768.,   896.,\n",
       "         1024.,  1152.,  1280.,  1408.,  1536.,  1664.,  1792.,  1920.,\n",
       "         2048.,  2176.,  2304.,  2432.,  2560.,  2688.,  2816.,  2944.,\n",
       "         3072.,  3200.,  3328.,  3456.,  3584.,  3712.,  3840.,  3968.,\n",
       "         4096.,  4224.,  4352.,  4480.,  4608.,  4736.,  4864.,  4992.,\n",
       "         5120.,  5248.,  5376.,  5504.,  5632.,  5760.,  5888.,  6016.,\n",
       "         6144.,  6272.,  6400.,  6528.,  6656.,  6784.,  6912.,  7040.,\n",
       "         7168.,  7296.,  7424.,  7552.,  7680.,  7808.,  7936.,  8064.,\n",
       "         8192.,  8320.,  8448.,  8576.,  8704.,  8832.,  8960.,  9088.,\n",
       "         9216.,  9344.,  9472.,  9600.,  9728.,  9856.,  9984., 10112.,\n",
       "        10240., 10368., 10496., 10624., 10752., 10880., 11008., 11136.,\n",
       "        11264., 11392., 11520., 11648., 11776., 11904., 12032., 12160.,\n",
       "        12288., 12416., 12544., 12672., 12800., 12928., 13056., 13184.,\n",
       "        13312., 13440., 13568., 13696., 13824., 13952., 14080., 14208.,\n",
       "        14336., 14464., 14592., 14720., 14848., 14976., 15104., 15232.,\n",
       "        15360., 15488., 15616., 15744., 15872., 16000., 16128., 16256.,\n",
       "        16384., 16512., 16640., 16768., 16896., 17024., 17152., 17280.,\n",
       "        17408., 17536., 17664., 17792., 17920., 18048., 18176., 18304.,\n",
       "        18432., 18560., 18688., 18816., 18944., 19072., 19200., 19328.,\n",
       "        19456., 19584., 19712., 19840., 19968., 20096., 20224., 20352.,\n",
       "        20480., 20608., 20736., 20864., 20992., 21120., 21248., 21376.,\n",
       "        21504., 21632., 21760., 21888., 22016., 22144., 22272., 22400.,\n",
       "        22528., 22656., 22784., 22912., 23040., 23168., 23296., 23424.,\n",
       "        23552., 23680., 23808., 23936., 24064., 24192., 24320., 24448.,\n",
       "        24576., 24704., 24832., 24960., 25088., 25216., 25344., 25472.,\n",
       "        25600., 25728., 25856., 25984., 26112., 26240., 26368., 26496.,\n",
       "        26624., 26752., 26880., 27008., 27136., 27264., 27392., 27520.,\n",
       "        27648., 27776., 27904., 28032., 28160., 28288., 28416., 28544.,\n",
       "        28672., 28800., 28928., 29056., 29184., 29312., 29440., 29568.,\n",
       "        29696., 29824., 29952., 30080., 30208., 30336., 30464., 30592.,\n",
       "        30720., 30848., 30976., 31104., 31232., 31360., 31488., 31616.,\n",
       "        31744., 31872., 32000., 32128., 32256., 32384., 32512., 32640.,\n",
       "        32768., 32896., 33024., 33152., 33280., 33408., 33536., 33664.,\n",
       "        33792., 33920., 34048., 34176., 34304., 34432., 34560., 34688.,\n",
       "        34816., 34944., 35072., 35200., 35328., 35456., 35584., 35712.,\n",
       "        35840., 35968., 36096., 36224., 36352., 36480., 36608., 36736.,\n",
       "        36864., 36992., 37120., 37248., 37376., 37504., 37632., 37760.,\n",
       "        37888., 38016., 38144., 38272., 38400., 38528., 38656., 38784.,\n",
       "        38912., 39040., 39168., 39296., 39424., 39552., 39680., 39808.,\n",
       "        39936., 40064., 40192., 40320., 40448., 40576., 40704., 40832.,\n",
       "        40960., 41088., 41216., 41344., 41472., 41600., 41728., 41856.,\n",
       "        41984., 42112., 42240., 42368., 42496., 42624., 42752., 42880.,\n",
       "        43008., 43136., 43264., 43392., 43520., 43648., 43776., 43904.,\n",
       "        44032., 44160., 44288., 44416., 44544., 44672., 44800., 44928.,\n",
       "        45056., 45184., 45312., 45440., 45568., 45696., 45824., 45952.,\n",
       "        46080., 46208., 46336., 46464., 46592., 46720., 46848., 46976.,\n",
       "        47104., 47232., 47360., 47488., 47616., 47744., 47872., 48000.,\n",
       "        48128., 48256., 48384., 48512., 48640., 48768., 48896., 49024.,\n",
       "        49152., 49280., 49408., 49536., 49664., 49792., 49920., 50048.,\n",
       "        50176., 50304., 50432., 50560., 50688., 50816., 50944., 51072.,\n",
       "        51200., 51328., 51456., 51584., 51712., 51840., 51968., 52096.,\n",
       "        52224., 52352., 52480., 52608., 52736., 52864., 52992., 53120.,\n",
       "        53248., 53376., 53504., 53632., 53760., 53888., 54016., 54144.,\n",
       "        54272., 54400., 54528., 54656., 54784., 54912., 55040., 55168.,\n",
       "        55296., 55424., 55552., 55680., 55808., 55936., 56064., 56192.,\n",
       "        56320., 56448., 56576., 56704., 56832., 56960., 57088., 57216.,\n",
       "        57344., 57472., 57600., 57728., 57856., 57984., 58112., 58240.,\n",
       "        58368., 58496., 58624., 58752., 58880., 59008., 59136., 59264.,\n",
       "        59392., 59520., 59648., 59776., 59904., 60032., 60160., 60288.,\n",
       "        60416., 60544., 60672., 60800., 60928., 61056., 61184., 61312.,\n",
       "        61440., 61568., 61696., 61824., 61952., 62080., 62208., 62336.,\n",
       "        62464., 62592., 62720., 62848., 62976., 63104., 63232., 63360.,\n",
       "        63488., 63616., 63744., 63872., 64000., 64128., 64256., 64384.,\n",
       "        64512., 64640., 64768., 64896., 65024., 65152., 65280., 65408.,\n",
       "        65536., 65664., 65792., 65920., 66048., 66176., 66304., 66432.,\n",
       "        66560., 66688., 66816., 66944., 67072., 67200., 67328., 67456.,\n",
       "        67584., 67712., 67840., 67968., 68096., 68224., 68352., 68480.,\n",
       "        68608., 68736., 68864., 68992., 69120., 69248., 69376., 69504.,\n",
       "        69632., 69760., 69888., 70016., 70144., 70272., 70400., 70528.,\n",
       "        70656., 70784., 70912., 71040., 71168., 71296., 71424., 71552.,\n",
       "        71680., 71808., 71936., 72064., 72192., 72320., 72448., 72576.,\n",
       "        72704., 72832., 72960., 73088., 73216., 73344., 73472., 73600.,\n",
       "        73728., 73856., 73984., 74112., 74240., 74368., 74496., 74624.,\n",
       "        74752., 74880., 75008., 75136., 75264., 75392., 75520., 75648.,\n",
       "        75776., 75904., 76032.]),\n",
       " array([[-1.20010198e-06+0.00000000e+00j,  1.92075001e-07+0.00000000e+00j,\n",
       "          8.96464442e-07+0.00000000e+00j, ...,\n",
       "         -1.69990550e-07+0.00000000e+00j, -9.11972132e-08+0.00000000e+00j,\n",
       "         -3.28900026e-08+0.00000000e+00j],\n",
       "        [ 1.14855951e-06-1.10740944e-06j, -1.15422173e-06-2.65211237e-06j,\n",
       "         -2.48506115e-06-9.14314583e-08j, ...,\n",
       "          4.27011042e-07+5.04568178e-07j,  8.34685380e-07-1.75428539e-07j,\n",
       "          4.81419397e-07-2.20641615e-07j],\n",
       "        [ 3.96575119e-07+2.14936856e-06j,  1.37315088e-06+3.75807906e-06j,\n",
       "          2.75895067e-06+6.22829960e-07j, ...,\n",
       "         -8.72713819e-08-4.91171862e-07j, -2.23463791e-06+8.46077814e-07j,\n",
       "         -6.59966908e-07-4.85059906e-07j],\n",
       "        ...,\n",
       "        [ 9.34675140e-09-5.35003529e-10j, -1.99844313e-09-1.66241868e-09j,\n",
       "         -3.64715494e-09-8.09140025e-10j, ...,\n",
       "         -1.48966513e-09+1.33330911e-09j, -8.71198506e-10+3.08104089e-09j,\n",
       "         -3.16720769e-08+2.08757410e-09j],\n",
       "        [-1.08750279e-08-1.03302607e-09j, -9.83478173e-11+9.66013902e-10j,\n",
       "          2.12907406e-09+1.23702449e-09j, ...,\n",
       "          3.05444139e-10-4.54041024e-10j,  2.82847549e-09-3.20353959e-10j,\n",
       "          3.34074329e-08-2.25929307e-09j],\n",
       "        [ 1.22645192e-08+0.00000000e+00j,  2.62823117e-09+0.00000000e+00j,\n",
       "         -7.10103821e-10+0.00000000e+00j, ...,\n",
       "         -1.60167221e-10+0.00000000e+00j, -4.17814068e-09+0.00000000e+00j,\n",
       "         -3.47094163e-08+0.00000000e+00j]]))"
      ]
     },
     "execution_count": 36,
     "metadata": {},
     "output_type": "execute_result"
    }
   ],
   "source": [
    "f, t, z"
   ]
  },
  {
   "cell_type": "code",
   "execution_count": 37,
   "metadata": {},
   "outputs": [
    {
     "ename": "NameError",
     "evalue": "name 'b' is not defined",
     "output_type": "error",
     "traceback": [
      "\u001b[1;31m---------------------------------------------------------------------------\u001b[0m",
      "\u001b[1;31mNameError\u001b[0m                                 Traceback (most recent call last)",
      "\u001b[1;32m<ipython-input-37-1ba22290102d>\u001b[0m in \u001b[0;36m<module>\u001b[1;34m\u001b[0m\n\u001b[1;32m----> 1\u001b[1;33m \u001b[0mb\u001b[0m\u001b[1;33m[\u001b[0m\u001b[1;33m:\u001b[0m\u001b[1;33m,\u001b[0m\u001b[1;33m:\u001b[0m\u001b[1;36m75000\u001b[0m\u001b[1;33m]\u001b[0m\u001b[1;33m\u001b[0m\u001b[1;33m\u001b[0m\u001b[0m\n\u001b[0m",
      "\u001b[1;31mNameError\u001b[0m: name 'b' is not defined"
     ]
    }
   ],
   "source": [
    "b[:,:75000]"
   ]
  },
  {
   "cell_type": "code",
   "execution_count": 41,
   "metadata": {},
   "outputs": [
    {
     "data": {
      "text/plain": [
       "(0.0, 0.1)"
      ]
     },
     "execution_count": 41,
     "metadata": {},
     "output_type": "execute_result"
    },
    {
     "data": {
      "image/png": "[encoded data removed]",
      "text/plain": [
       "<Figure size 432x288 with 1 Axes>"
      ]
     },
     "metadata": {
      "needs_background": "light"
     },
     "output_type": "display_data"
    }
   ],
   "source": [
    "plt.pcolormesh(t, f, np.abs(z))\n",
    "plt.ylim(0,0.1)"
   ]
  },
  {
   "cell_type": "code",
   "execution_count": null,
   "metadata": {},
   "outputs": [],
   "source": []
  },
  {
   "cell_type": "code",
   "execution_count": null,
   "metadata": {},
   "outputs": [],
   "source": [
    "all_df = np.array(MDD_dataframe[0].T)[newaxis,:,:45000]\n",
    "\n",
    "for i in range(1, len(MDD_dataframe)):\n",
    "    b = np.array(MDD_dataframe[i].T)\n",
    "    print(b.shape)\n",
    "    print(all_df.shape)\n",
    "    all_df = np.vstack([all_df, b[newaxis,:,:45000]])\n",
    "    \n",
    "\n",
    "all_df.shape"
   ]
  }
 ],
 "metadata": {
  "kernelspec": {
   "display_name": "Python 3",
   "language": "python",
   "name": "python3"
  },
  "language_info": {
   "codemirror_mode": {
    "name": "ipython",
    "version": 3
   },
   "file_extension": ".py",
   "mimetype": "text/x-python",
   "name": "python",
   "nbconvert_exporter": "python",
   "pygments_lexer": "ipython3",
   "version": "3.7.3"
  },
  "pycharm": {
   "stem_cell": {
    "cell_type": "raw",
    "metadata": {
     "collapsed": false
    },
    "source": []
   }
  }
 },
 "nbformat": 4,
 "nbformat_minor": 4
}
