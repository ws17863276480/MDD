{
 "cells": [
  {
   "cell_type": "code",
   "execution_count": 1,
   "metadata": {
    "collapsed": false,
    "jupyter": {
     "outputs_hidden": false
    },
    "pycharm": {
     "is_executing": false,
     "name": "#%%\n"
    }
   },
   "outputs": [
    {
     "name": "stderr",
     "output_type": "stream",
     "text": [
      "\n",
      "Bad key \"text.kerning_factor\" on line 4 in\n",
      "C:\\Users\\GC\\Anaconda3\\envs\\ark\\lib\\site-packages\\matplotlib\\mpl-data\\stylelib\\_classic_test_patch.mplstyle.\n",
      "You probably need to get an updated matplotlibrc file from\n",
      "https://github.com/matplotlib/matplotlib/blob/v3.1.3/matplotlibrc.template\n",
      "or from the matplotlib source distribution\n"
     ]
    }
   ],
   "source": [
    "import pandas as pd\n",
    "import numpy as np\n",
    "import matplotlib.pyplot as plt\n",
    "import matplotlib.dates as md\n",
    "import os\n",
    "import mne\n",
    "import random\n",
    "from sklearn.metrics import classification_report\n",
    "from numpy import zeros, newaxis\n",
    "from scipy import signal\n",
    "from scipy import fftpack"
   ]
  },
  {
   "cell_type": "code",
   "execution_count": 2,
   "metadata": {
    "collapsed": false,
    "jupyter": {
     "outputs_hidden": false
    },
    "pycharm": {
     "is_executing": false,
     "name": "#%%\n"
    }
   },
   "outputs": [],
   "source": [
    "MDD_dataset_Filenames = os.listdir('./full_dataset/MDD/EC/')\n",
    "H_dataset_Filenames = os.listdir('./full_dataset/H/EC/')\n",
    "\n",
    "MDD_dataset_list = []\n",
    "H_dataset_list = []\n",
    "\n",
    "for filename in MDD_dataset_Filenames:\n",
    "    data = mne.io.read_raw_edf('./full_dataset/MDD/EC/' + str(filename), verbose=0)\n",
    "    MDD_dataset_list.append(data)  \n",
    "    \n",
    "for filename in H_dataset_Filenames:\n",
    "    data = mne.io.read_raw_edf('./full_dataset/H/EC/' + str(filename), verbose=0)\n",
    "    H_dataset_list.append(data)  \n"
   ]
  },
  {
   "cell_type": "code",
   "execution_count": 3,
   "metadata": {
    "collapsed": false,
    "jupyter": {
     "outputs_hidden": false
    },
    "pycharm": {
     "is_executing": false,
     "name": "#%%\n"
    }
   },
   "outputs": [
    {
     "data": {
      "text/html": [
       "<div>\n",
       "<style scoped>\n",
       "    .dataframe tbody tr th:only-of-type {\n",
       "        vertical-align: middle;\n",
       "    }\n",
       "\n",
       "    .dataframe tbody tr th {\n",
       "        vertical-align: top;\n",
       "    }\n",
       "\n",
       "    .dataframe thead th {\n",
       "        text-align: right;\n",
       "    }\n",
       "</style>\n",
       "<table border=\"1\" class=\"dataframe\">\n",
       "  <thead>\n",
       "    <tr style=\"text-align: right;\">\n",
       "      <th></th>\n",
       "      <th>EEG Fp1-LE</th>\n",
       "      <th>EEG F3-LE</th>\n",
       "      <th>EEG C3-LE</th>\n",
       "      <th>EEG P3-LE</th>\n",
       "      <th>EEG O1-LE</th>\n",
       "      <th>EEG F7-LE</th>\n",
       "      <th>EEG T3-LE</th>\n",
       "      <th>EEG T5-LE</th>\n",
       "      <th>EEG Fz-LE</th>\n",
       "      <th>EEG Fp2-LE</th>\n",
       "      <th>EEG F4-LE</th>\n",
       "      <th>EEG C4-LE</th>\n",
       "      <th>EEG P4-LE</th>\n",
       "      <th>EEG O2-LE</th>\n",
       "      <th>EEG F8-LE</th>\n",
       "      <th>EEG T4-LE</th>\n",
       "      <th>EEG T6-LE</th>\n",
       "      <th>EEG Cz-LE</th>\n",
       "      <th>EEG Pz-LE</th>\n",
       "      <th>EEG A2-A1</th>\n",
       "    </tr>\n",
       "  </thead>\n",
       "  <tbody>\n",
       "    <tr>\n",
       "      <th>0.000000</th>\n",
       "      <td>3.850294e-06</td>\n",
       "      <td>-0.000002</td>\n",
       "      <td>-0.000002</td>\n",
       "      <td>-5.500420e-07</td>\n",
       "      <td>-1.650126e-06</td>\n",
       "      <td>-7.450568e-06</td>\n",
       "      <td>4.500343e-07</td>\n",
       "      <td>-2.450187e-06</td>\n",
       "      <td>2.750210e-06</td>\n",
       "      <td>4.550347e-06</td>\n",
       "      <td>5.000381e-08</td>\n",
       "      <td>3.550271e-06</td>\n",
       "      <td>0.000007</td>\n",
       "      <td>2.500191e-07</td>\n",
       "      <td>5.450416e-06</td>\n",
       "      <td>0.000006</td>\n",
       "      <td>0.000003</td>\n",
       "      <td>2.500191e-07</td>\n",
       "      <td>0.000003</td>\n",
       "      <td>2.450187e-06</td>\n",
       "    </tr>\n",
       "    <tr>\n",
       "      <th>0.003906</th>\n",
       "      <td>2.250172e-06</td>\n",
       "      <td>-0.000004</td>\n",
       "      <td>-0.000001</td>\n",
       "      <td>3.500267e-07</td>\n",
       "      <td>-1.500114e-07</td>\n",
       "      <td>-7.750591e-06</td>\n",
       "      <td>-1.150088e-06</td>\n",
       "      <td>-2.450187e-06</td>\n",
       "      <td>4.500343e-07</td>\n",
       "      <td>2.650202e-06</td>\n",
       "      <td>-2.550195e-06</td>\n",
       "      <td>3.750286e-06</td>\n",
       "      <td>0.000008</td>\n",
       "      <td>2.050156e-06</td>\n",
       "      <td>8.550652e-06</td>\n",
       "      <td>0.000007</td>\n",
       "      <td>0.000004</td>\n",
       "      <td>-5.500420e-07</td>\n",
       "      <td>0.000006</td>\n",
       "      <td>2.050156e-06</td>\n",
       "    </tr>\n",
       "    <tr>\n",
       "      <th>0.007812</th>\n",
       "      <td>-5.000381e-08</td>\n",
       "      <td>-0.000005</td>\n",
       "      <td>-0.000002</td>\n",
       "      <td>8.500649e-07</td>\n",
       "      <td>5.500420e-07</td>\n",
       "      <td>-5.250401e-06</td>\n",
       "      <td>-2.650202e-06</td>\n",
       "      <td>-2.250172e-06</td>\n",
       "      <td>-2.250172e-06</td>\n",
       "      <td>5.000381e-08</td>\n",
       "      <td>-4.950378e-06</td>\n",
       "      <td>2.950225e-06</td>\n",
       "      <td>0.000008</td>\n",
       "      <td>3.450263e-06</td>\n",
       "      <td>8.950683e-06</td>\n",
       "      <td>0.000008</td>\n",
       "      <td>0.000005</td>\n",
       "      <td>-1.750134e-06</td>\n",
       "      <td>0.000006</td>\n",
       "      <td>2.350179e-06</td>\n",
       "    </tr>\n",
       "    <tr>\n",
       "      <th>0.011719</th>\n",
       "      <td>-2.350179e-06</td>\n",
       "      <td>-0.000005</td>\n",
       "      <td>-0.000002</td>\n",
       "      <td>1.050080e-06</td>\n",
       "      <td>9.500725e-07</td>\n",
       "      <td>-2.050156e-06</td>\n",
       "      <td>-3.750286e-06</td>\n",
       "      <td>-2.050156e-06</td>\n",
       "      <td>-4.450340e-06</td>\n",
       "      <td>-2.250172e-06</td>\n",
       "      <td>-5.950454e-06</td>\n",
       "      <td>2.350179e-06</td>\n",
       "      <td>0.000007</td>\n",
       "      <td>4.250324e-06</td>\n",
       "      <td>6.750515e-06</td>\n",
       "      <td>0.000006</td>\n",
       "      <td>0.000005</td>\n",
       "      <td>-2.750210e-06</td>\n",
       "      <td>0.000005</td>\n",
       "      <td>3.250248e-06</td>\n",
       "    </tr>\n",
       "    <tr>\n",
       "      <th>0.015625</th>\n",
       "      <td>-3.650278e-06</td>\n",
       "      <td>-0.000005</td>\n",
       "      <td>-0.000002</td>\n",
       "      <td>9.500725e-07</td>\n",
       "      <td>1.150088e-06</td>\n",
       "      <td>-1.500114e-07</td>\n",
       "      <td>-4.550347e-06</td>\n",
       "      <td>-1.650126e-06</td>\n",
       "      <td>-5.450416e-06</td>\n",
       "      <td>-3.450263e-06</td>\n",
       "      <td>-5.350408e-06</td>\n",
       "      <td>2.450187e-06</td>\n",
       "      <td>0.000005</td>\n",
       "      <td>4.750362e-06</td>\n",
       "      <td>3.250248e-06</td>\n",
       "      <td>0.000003</td>\n",
       "      <td>0.000006</td>\n",
       "      <td>-3.150240e-06</td>\n",
       "      <td>0.000003</td>\n",
       "      <td>4.450340e-06</td>\n",
       "    </tr>\n",
       "    <tr>\n",
       "      <th>...</th>\n",
       "      <td>...</td>\n",
       "      <td>...</td>\n",
       "      <td>...</td>\n",
       "      <td>...</td>\n",
       "      <td>...</td>\n",
       "      <td>...</td>\n",
       "      <td>...</td>\n",
       "      <td>...</td>\n",
       "      <td>...</td>\n",
       "      <td>...</td>\n",
       "      <td>...</td>\n",
       "      <td>...</td>\n",
       "      <td>...</td>\n",
       "      <td>...</td>\n",
       "      <td>...</td>\n",
       "      <td>...</td>\n",
       "      <td>...</td>\n",
       "      <td>...</td>\n",
       "      <td>...</td>\n",
       "      <td>...</td>\n",
       "    </tr>\n",
       "    <tr>\n",
       "      <th>119.980469</th>\n",
       "      <td>-1.350103e-06</td>\n",
       "      <td>0.000004</td>\n",
       "      <td>0.000003</td>\n",
       "      <td>5.500420e-07</td>\n",
       "      <td>1.150088e-06</td>\n",
       "      <td>2.650202e-06</td>\n",
       "      <td>2.150164e-06</td>\n",
       "      <td>7.500572e-07</td>\n",
       "      <td>3.450263e-06</td>\n",
       "      <td>1.850141e-06</td>\n",
       "      <td>3.050233e-06</td>\n",
       "      <td>4.500343e-07</td>\n",
       "      <td>0.000002</td>\n",
       "      <td>4.150317e-06</td>\n",
       "      <td>6.350484e-06</td>\n",
       "      <td>0.000006</td>\n",
       "      <td>0.000004</td>\n",
       "      <td>1.450111e-06</td>\n",
       "      <td>0.000002</td>\n",
       "      <td>1.950149e-06</td>\n",
       "    </tr>\n",
       "    <tr>\n",
       "      <th>119.984375</th>\n",
       "      <td>-1.050080e-06</td>\n",
       "      <td>0.000003</td>\n",
       "      <td>0.000004</td>\n",
       "      <td>1.950149e-06</td>\n",
       "      <td>2.150164e-06</td>\n",
       "      <td>2.450187e-06</td>\n",
       "      <td>3.050233e-06</td>\n",
       "      <td>2.050156e-06</td>\n",
       "      <td>2.050156e-06</td>\n",
       "      <td>7.500572e-07</td>\n",
       "      <td>2.250172e-06</td>\n",
       "      <td>-1.650126e-06</td>\n",
       "      <td>0.000002</td>\n",
       "      <td>3.950301e-06</td>\n",
       "      <td>4.750362e-06</td>\n",
       "      <td>0.000007</td>\n",
       "      <td>0.000004</td>\n",
       "      <td>5.000381e-08</td>\n",
       "      <td>0.000003</td>\n",
       "      <td>1.650126e-06</td>\n",
       "    </tr>\n",
       "    <tr>\n",
       "      <th>119.988281</th>\n",
       "      <td>4.500343e-07</td>\n",
       "      <td>0.000002</td>\n",
       "      <td>0.000005</td>\n",
       "      <td>3.950301e-06</td>\n",
       "      <td>2.650202e-06</td>\n",
       "      <td>2.450187e-06</td>\n",
       "      <td>5.250401e-06</td>\n",
       "      <td>3.350256e-06</td>\n",
       "      <td>1.750134e-06</td>\n",
       "      <td>5.000381e-08</td>\n",
       "      <td>2.850217e-06</td>\n",
       "      <td>-1.250095e-06</td>\n",
       "      <td>0.000004</td>\n",
       "      <td>3.850294e-06</td>\n",
       "      <td>2.350179e-06</td>\n",
       "      <td>0.000007</td>\n",
       "      <td>0.000005</td>\n",
       "      <td>1.500114e-07</td>\n",
       "      <td>0.000005</td>\n",
       "      <td>1.050080e-06</td>\n",
       "    </tr>\n",
       "    <tr>\n",
       "      <th>119.992188</th>\n",
       "      <td>2.050156e-06</td>\n",
       "      <td>0.000002</td>\n",
       "      <td>0.000007</td>\n",
       "      <td>6.050462e-06</td>\n",
       "      <td>2.650202e-06</td>\n",
       "      <td>2.550195e-06</td>\n",
       "      <td>7.550576e-06</td>\n",
       "      <td>4.650355e-06</td>\n",
       "      <td>2.250172e-06</td>\n",
       "      <td>-2.500191e-07</td>\n",
       "      <td>4.250324e-06</td>\n",
       "      <td>1.550118e-06</td>\n",
       "      <td>0.000006</td>\n",
       "      <td>3.750286e-06</td>\n",
       "      <td>4.500343e-07</td>\n",
       "      <td>0.000008</td>\n",
       "      <td>0.000006</td>\n",
       "      <td>1.550118e-06</td>\n",
       "      <td>0.000007</td>\n",
       "      <td>6.500496e-07</td>\n",
       "    </tr>\n",
       "    <tr>\n",
       "      <th>119.996094</th>\n",
       "      <td>2.850217e-06</td>\n",
       "      <td>0.000002</td>\n",
       "      <td>0.000008</td>\n",
       "      <td>8.050614e-06</td>\n",
       "      <td>2.150164e-06</td>\n",
       "      <td>2.650202e-06</td>\n",
       "      <td>9.450721e-06</td>\n",
       "      <td>5.850446e-06</td>\n",
       "      <td>2.850217e-06</td>\n",
       "      <td>5.000381e-08</td>\n",
       "      <td>5.350408e-06</td>\n",
       "      <td>5.250401e-06</td>\n",
       "      <td>0.000008</td>\n",
       "      <td>3.750286e-06</td>\n",
       "      <td>-1.500114e-07</td>\n",
       "      <td>0.000007</td>\n",
       "      <td>0.000007</td>\n",
       "      <td>3.550271e-06</td>\n",
       "      <td>0.000009</td>\n",
       "      <td>5.500420e-07</td>\n",
       "    </tr>\n",
       "  </tbody>\n",
       "</table>\n",
       "<p>30720 rows × 20 columns</p>\n",
       "</div>"
      ],
      "text/plain": [
       "              EEG Fp1-LE  EEG F3-LE  EEG C3-LE     EEG P3-LE     EEG O1-LE  \\\n",
       "0.000000    3.850294e-06  -0.000002  -0.000002 -5.500420e-07 -1.650126e-06   \n",
       "0.003906    2.250172e-06  -0.000004  -0.000001  3.500267e-07 -1.500114e-07   \n",
       "0.007812   -5.000381e-08  -0.000005  -0.000002  8.500649e-07  5.500420e-07   \n",
       "0.011719   -2.350179e-06  -0.000005  -0.000002  1.050080e-06  9.500725e-07   \n",
       "0.015625   -3.650278e-06  -0.000005  -0.000002  9.500725e-07  1.150088e-06   \n",
       "...                  ...        ...        ...           ...           ...   \n",
       "119.980469 -1.350103e-06   0.000004   0.000003  5.500420e-07  1.150088e-06   \n",
       "119.984375 -1.050080e-06   0.000003   0.000004  1.950149e-06  2.150164e-06   \n",
       "119.988281  4.500343e-07   0.000002   0.000005  3.950301e-06  2.650202e-06   \n",
       "119.992188  2.050156e-06   0.000002   0.000007  6.050462e-06  2.650202e-06   \n",
       "119.996094  2.850217e-06   0.000002   0.000008  8.050614e-06  2.150164e-06   \n",
       "\n",
       "               EEG F7-LE     EEG T3-LE     EEG T5-LE     EEG Fz-LE  \\\n",
       "0.000000   -7.450568e-06  4.500343e-07 -2.450187e-06  2.750210e-06   \n",
       "0.003906   -7.750591e-06 -1.150088e-06 -2.450187e-06  4.500343e-07   \n",
       "0.007812   -5.250401e-06 -2.650202e-06 -2.250172e-06 -2.250172e-06   \n",
       "0.011719   -2.050156e-06 -3.750286e-06 -2.050156e-06 -4.450340e-06   \n",
       "0.015625   -1.500114e-07 -4.550347e-06 -1.650126e-06 -5.450416e-06   \n",
       "...                  ...           ...           ...           ...   \n",
       "119.980469  2.650202e-06  2.150164e-06  7.500572e-07  3.450263e-06   \n",
       "119.984375  2.450187e-06  3.050233e-06  2.050156e-06  2.050156e-06   \n",
       "119.988281  2.450187e-06  5.250401e-06  3.350256e-06  1.750134e-06   \n",
       "119.992188  2.550195e-06  7.550576e-06  4.650355e-06  2.250172e-06   \n",
       "119.996094  2.650202e-06  9.450721e-06  5.850446e-06  2.850217e-06   \n",
       "\n",
       "              EEG Fp2-LE     EEG F4-LE     EEG C4-LE  EEG P4-LE     EEG O2-LE  \\\n",
       "0.000000    4.550347e-06  5.000381e-08  3.550271e-06   0.000007  2.500191e-07   \n",
       "0.003906    2.650202e-06 -2.550195e-06  3.750286e-06   0.000008  2.050156e-06   \n",
       "0.007812    5.000381e-08 -4.950378e-06  2.950225e-06   0.000008  3.450263e-06   \n",
       "0.011719   -2.250172e-06 -5.950454e-06  2.350179e-06   0.000007  4.250324e-06   \n",
       "0.015625   -3.450263e-06 -5.350408e-06  2.450187e-06   0.000005  4.750362e-06   \n",
       "...                  ...           ...           ...        ...           ...   \n",
       "119.980469  1.850141e-06  3.050233e-06  4.500343e-07   0.000002  4.150317e-06   \n",
       "119.984375  7.500572e-07  2.250172e-06 -1.650126e-06   0.000002  3.950301e-06   \n",
       "119.988281  5.000381e-08  2.850217e-06 -1.250095e-06   0.000004  3.850294e-06   \n",
       "119.992188 -2.500191e-07  4.250324e-06  1.550118e-06   0.000006  3.750286e-06   \n",
       "119.996094  5.000381e-08  5.350408e-06  5.250401e-06   0.000008  3.750286e-06   \n",
       "\n",
       "               EEG F8-LE  EEG T4-LE  EEG T6-LE     EEG Cz-LE  EEG Pz-LE  \\\n",
       "0.000000    5.450416e-06   0.000006   0.000003  2.500191e-07   0.000003   \n",
       "0.003906    8.550652e-06   0.000007   0.000004 -5.500420e-07   0.000006   \n",
       "0.007812    8.950683e-06   0.000008   0.000005 -1.750134e-06   0.000006   \n",
       "0.011719    6.750515e-06   0.000006   0.000005 -2.750210e-06   0.000005   \n",
       "0.015625    3.250248e-06   0.000003   0.000006 -3.150240e-06   0.000003   \n",
       "...                  ...        ...        ...           ...        ...   \n",
       "119.980469  6.350484e-06   0.000006   0.000004  1.450111e-06   0.000002   \n",
       "119.984375  4.750362e-06   0.000007   0.000004  5.000381e-08   0.000003   \n",
       "119.988281  2.350179e-06   0.000007   0.000005  1.500114e-07   0.000005   \n",
       "119.992188  4.500343e-07   0.000008   0.000006  1.550118e-06   0.000007   \n",
       "119.996094 -1.500114e-07   0.000007   0.000007  3.550271e-06   0.000009   \n",
       "\n",
       "               EEG A2-A1  \n",
       "0.000000    2.450187e-06  \n",
       "0.003906    2.050156e-06  \n",
       "0.007812    2.350179e-06  \n",
       "0.011719    3.250248e-06  \n",
       "0.015625    4.450340e-06  \n",
       "...                  ...  \n",
       "119.980469  1.950149e-06  \n",
       "119.984375  1.650126e-06  \n",
       "119.988281  1.050080e-06  \n",
       "119.992188  6.500496e-07  \n",
       "119.996094  5.500420e-07  \n",
       "\n",
       "[30720 rows x 20 columns]"
      ]
     },
     "execution_count": 3,
     "metadata": {},
     "output_type": "execute_result"
    }
   ],
   "source": [
    "MDD_dataframe = [] #MDD 환자의 데이터프레임 리스트\n",
    "H_dataframe = [] #건강한 사람의 데이터프레임 리스트\n",
    "y = []\n",
    "for raw in MDD_dataset_list:\n",
    "    raw_data = raw.get_data(return_times=True)\n",
    "    channels = raw.ch_names\n",
    "    T_data = np.transpose(raw_data[0])\n",
    "    time = np.transpose(raw_data[1])\n",
    "    temp = pd.DataFrame(T_data, columns = channels, index = time)\n",
    "    MDD_dataframe.append(temp.iloc[:30720]) #256 * 120 = 2min\n",
    "    y.append(1)\n",
    "    \n",
    "for raw in H_dataset_list:\n",
    "    raw_data = raw.get_data(return_times=True)\n",
    "    channels = raw.ch_names\n",
    "    T_data = np.transpose(raw_data[0])\n",
    "    time = np.transpose(raw_data[1])\n",
    "    temp = pd.DataFrame(temp)\n",
    "    H_dataframe.append(temp.iloc[:30720]) #256 * 120 = 2min\n",
    "    y.append(0)\n",
    "y = np.asarray(y)    \n",
    "MDD_dataframe[0]"
   ]
  },
  {
   "cell_type": "code",
   "execution_count": 4,
   "metadata": {},
   "outputs": [],
   "source": [
    "#MDD[26]환자 열 개수 조정\n",
    "MDD_dataframe[26] = MDD_dataframe[26][MDD_dataframe[0].columns]"
   ]
  },
  {
   "cell_type": "code",
   "execution_count": 5,
   "metadata": {
    "collapsed": false,
    "jupyter": {
     "outputs_hidden": false
    },
    "pycharm": {
     "is_executing": false,
     "name": "#%%\n"
    }
   },
   "outputs": [],
   "source": [
    "low_pass_filter = signal.firwin(101, cutoff=32, fs=256, pass_zero='lowpass')\n",
    "high_pass_filter = signal.firwin(101, cutoff=0.5, fs=256, pass_zero='highpass')"
   ]
  },
  {
   "cell_type": "code",
   "execution_count": 6,
   "metadata": {},
   "outputs": [],
   "source": [
    "for j in range(0, len(MDD_dataframe)):\n",
    "    col = list(MDD_dataframe[j].columns)\n",
    "    for i in range(0, len(col)):\n",
    "        clear_eeg = signal.lfilter(low_pass_filter, [1.0], MDD_dataframe[j][col[i]])\n",
    "        clear_eeg = signal.lfilter(high_pass_filter, [1.0], clear_eeg)\n",
    "        MDD_dataframe[j][col[i]] = clear_eeg"
   ]
  },
  {
   "cell_type": "code",
   "execution_count": 7,
   "metadata": {},
   "outputs": [
    {
     "name": "stderr",
     "output_type": "stream",
     "text": [
      "C:\\Users\\GC\\Anaconda3\\envs\\ark\\lib\\site-packages\\ipykernel_launcher.py:6: SettingWithCopyWarning: \n",
      "A value is trying to be set on a copy of a slice from a DataFrame.\n",
      "Try using .loc[row_indexer,col_indexer] = value instead\n",
      "\n",
      "See the caveats in the documentation: https://pandas.pydata.org/pandas-docs/stable/user_guide/indexing.html#returning-a-view-versus-a-copy\n",
      "  \n"
     ]
    }
   ],
   "source": [
    "for j in range(0, len(H_dataframe)):\n",
    "    col = list(H_dataframe[j].columns)\n",
    "    for i in range(0, len(col)):\n",
    "        clear_eeg = signal.lfilter(low_pass_filter, [1.0], H_dataframe[j][col[i]])\n",
    "        clear_eeg = signal.lfilter(high_pass_filter, [1.0], clear_eeg)\n",
    "        H_dataframe[j][col[i]] = clear_eeg"
   ]
  },
  {
   "cell_type": "code",
   "execution_count": 8,
   "metadata": {},
   "outputs": [],
   "source": [
    "all_dataframe = MDD_dataframe + H_dataframe\n"
   ]
  },
  {
   "cell_type": "code",
   "execution_count": 9,
   "metadata": {},
   "outputs": [],
   "source": [
    "delta_pass_filter =  signal.firwin(101, cutoff=[0.5,4], fs=256, pass_zero='bandpass')\n",
    "theta_pass_filter =  signal.firwin(101, cutoff=[4,8], fs=256, pass_zero='bandpass')\n",
    "alpha_pass_filter =  signal.firwin(101, cutoff=[8,13], fs=256, pass_zero='bandpass')\n",
    "beta_pass_filter =  signal.firwin(101, cutoff=[13,30], fs=256, pass_zero='bandpass')\n",
    "from sklearn.preprocessing import MinMaxScaler\n",
    "from sklearn.preprocessing import Normalizer\n",
    "\n",
    "def band_power(channel):\n",
    "    df = pd.DataFrame()\n",
    "    df['delta'] = signal.lfilter(delta_pass_filter, [1.0], channel)\n",
    "    df['theta'] = signal.lfilter(theta_pass_filter, [1.0], channel)\n",
    "    df['alpha'] = signal.lfilter(alpha_pass_filter, [1.0], channel)\n",
    "    df['beta'] = signal.lfilter(beta_pass_filter, [1.0], channel)\n",
    "    \n",
    "    return df\n"
   ]
  },
  {
   "cell_type": "code",
   "execution_count": null,
   "metadata": {},
   "outputs": [],
   "source": []
  },
  {
   "cell_type": "code",
   "execution_count": 10,
   "metadata": {},
   "outputs": [],
   "source": [
    "def eeg_band_power_seperate(input_dataframe, train):\n",
    "    global scaler\n",
    "    X = np.zeros((1,20,4,30720))\n",
    "    for dataframe in input_dataframe:\n",
    "        columns = list(dataframe.columns)\n",
    "        band_power_list = np.zeros((1,4,30720))\n",
    "        #band_power_list = band_power_list[newaxis,:,:]\n",
    "        for i in range(len(columns)):\n",
    "            ch = band_power(dataframe[dataframe.columns[i]])\n",
    "            #if train == 1:\n",
    "            #    scaler = Normalizer().fit(ch)\n",
    "            #ch = scaler.transform(ch) #Nor\n",
    "            \n",
    "            ch = np.asarray(ch)\n",
    "            band_power_list = np.vstack([band_power_list, ch.T[newaxis,:,:]])\n",
    "        band_power_list = band_power_list[1:]\n",
    "        X = np.vstack([X, band_power_list[newaxis,:,:,:]])\n",
    "        #print(X.shape, end=\"/\")\n",
    "    return X"
   ]
  },
  {
   "cell_type": "code",
   "execution_count": 11,
   "metadata": {},
   "outputs": [
    {
     "name": "stderr",
     "output_type": "stream",
     "text": [
      "Using TensorFlow backend.\n"
     ]
    }
   ],
   "source": [
    "from sklearn.metrics import roc_curve\n",
    "from keras import models\n",
    "from keras import layers\n",
    "from keras import backend as K\n",
    "\n",
    "def recall_m(y_true, y_pred):\n",
    "    true_positives = K.sum(K.round(K.clip(y_true * y_pred, 0, 1)))\n",
    "    possible_positives = K.sum(K.round(K.clip(y_true, 0, 1)))\n",
    "    recall = true_positives / (possible_positives + K.epsilon())\n",
    "    return recall\n",
    "\n",
    "def precision_m(y_true, y_pred):\n",
    "    true_positives = K.sum(K.round(K.clip(y_true * y_pred, 0, 1)))\n",
    "    predicted_positives = K.sum(K.round(K.clip(y_pred, 0, 1)))\n",
    "    precision = true_positives / (predicted_positives + K.epsilon())\n",
    "    return precision\n",
    "\n",
    "def f1_m(y_true, y_pred):\n",
    "    precision = precision_m(y_true, y_pred)\n",
    "    recall = recall_m(y_true, y_pred)\n",
    "    return 2*((precision*recall)/(precision+recall+K.epsilon()))"
   ]
  },
  {
   "cell_type": "code",
   "execution_count": 12,
   "metadata": {},
   "outputs": [],
   "source": [
    "def index_to_list(list, index):\n",
    "    return [list[i] for i in index]"
   ]
  },
  {
   "cell_type": "code",
   "execution_count": 13,
   "metadata": {},
   "outputs": [],
   "source": [
    "from sklearn.model_selection import train_test_split\n",
    "X_train, X_test, y_train, y_test = train_test_split(all_dataframe, y, test_size=0.3, random_state = 7)"
   ]
  },
  {
   "cell_type": "code",
   "execution_count": 14,
   "metadata": {},
   "outputs": [],
   "source": [
    "X_train = eeg_band_power_seperate(X_train, 1)"
   ]
  },
  {
   "cell_type": "code",
   "execution_count": 15,
   "metadata": {},
   "outputs": [],
   "source": [
    "X_test = eeg_band_power_seperate(X_test, 0)"
   ]
  },
  {
   "cell_type": "code",
   "execution_count": 16,
   "metadata": {},
   "outputs": [
    {
     "data": {
      "text/plain": [
       "array([1, 0, 0, 1, 0, 1, 1, 0, 0, 0, 1, 1, 1, 1, 0, 1, 0, 1])"
      ]
     },
     "execution_count": 16,
     "metadata": {},
     "output_type": "execute_result"
    }
   ],
   "source": [
    "X_train = X_train[1:]\n",
    "X_test = X_test[1:]\n",
    "X_train.shape\n",
    "y_test"
   ]
  },
  {
   "cell_type": "code",
   "execution_count": 20,
   "metadata": {},
   "outputs": [],
   "source": [
    "from keras.callbacks import EarlyStopping\n",
    "es = EarlyStopping(monitor='val_loss', mode='min', verbose=1, patience=5)"
   ]
  },
  {
   "cell_type": "code",
   "execution_count": 18,
   "metadata": {},
   "outputs": [],
   "source": [
    "def conv2d_model():\n",
    "    model = models.Sequential()\n",
    "\n",
    "            #1\n",
    "    model.add(layers.Conv2D(64, 4, 4,\n",
    "                            border_mode='same',\n",
    "                            activation='relu',\n",
    "                            input_shape=(20,4,30720)))\n",
    "    model.add(layers.Dropout(0.5))\n",
    "    model.add(layers.MaxPooling2D(pool_size=(2,2),padding = 'same'))\n",
    "\n",
    "            ##-- layer 4\n",
    "    model.add(layers.Flatten())\n",
    "    model.add(layers.Dense(64, activation='relu'))\n",
    "    model.add(layers.Dropout(0.5))\n",
    "    model.add(layers.Dense(256, activation='relu'))\n",
    "    model.add(layers.Dropout(0.5))\n",
    "    model.add(layers.Dense(128, activation='relu'))\n",
    "\n",
    "    model.add(layers.Dense(1, activation='sigmoid'))\n",
    "\n",
    "\n",
    "    model.compile(optimizer='Adam',\n",
    "                    loss='binary_crossentropy',\n",
    "                    metrics=['accuracy', recall_m, precision_m, f1_m])\n",
    "    return model"
   ]
  },
  {
   "cell_type": "code",
   "execution_count": 37,
   "metadata": {},
   "outputs": [
    {
     "name": "stderr",
     "output_type": "stream",
     "text": [
      "C:\\Users\\GC\\Anaconda3\\envs\\ark\\lib\\site-packages\\ipykernel_launcher.py:8: UserWarning: Update your `Conv2D` call to the Keras 2 API: `Conv2D(64, (4, 4), activation=\"relu\", input_shape=(20, 4, 30..., padding=\"same\")`\n",
      "  \n"
     ]
    },
    {
     "name": "stdout",
     "output_type": "stream",
     "text": [
      "Train on 40 samples, validate on 18 samples\n",
      "Epoch 1/13\n",
      "40/40 [==============================] - 2s 58ms/step - loss: 0.6941 - accuracy: 0.5250 - recall_m: 0.9667 - precision_m: 0.5250 - f1_m: 0.6390 - val_loss: 0.6918 - val_accuracy: 0.5556 - val_recall_m: 1.0000 - val_precision_m: 0.5500 - val_f1_m: 0.7048\n",
      "Epoch 2/13\n",
      "40/40 [==============================] - 2s 49ms/step - loss: 0.6929 - accuracy: 0.5250 - recall_m: 0.7500 - precision_m: 0.5250 - f1_m: 0.6057 - val_loss: 0.6915 - val_accuracy: 0.5556 - val_recall_m: 1.0000 - val_precision_m: 0.5500 - val_f1_m: 0.7048\n",
      "Epoch 3/13\n",
      "40/40 [==============================] - 2s 49ms/step - loss: 0.6926 - accuracy: 0.5250 - recall_m: 1.0000 - precision_m: 0.5083 - f1_m: 0.6414 - val_loss: 0.6911 - val_accuracy: 0.5556 - val_recall_m: 1.0000 - val_precision_m: 0.5500 - val_f1_m: 0.7048\n",
      "Epoch 4/13\n",
      "40/40 [==============================] - 2s 49ms/step - loss: 0.6937 - accuracy: 0.5000 - recall_m: 1.0000 - precision_m: 0.5000 - f1_m: 0.6314 - val_loss: 0.6911 - val_accuracy: 0.5556 - val_recall_m: 1.0000 - val_precision_m: 0.5500 - val_f1_m: 0.7048\n",
      "Epoch 5/13\n",
      "40/40 [==============================] - 2s 49ms/step - loss: 0.6864 - accuracy: 0.5750 - recall_m: 0.8000 - precision_m: 0.5417 - f1_m: 0.6371 - val_loss: 0.6891 - val_accuracy: 0.5556 - val_recall_m: 1.0000 - val_precision_m: 0.5500 - val_f1_m: 0.7048\n",
      "Epoch 6/13\n",
      "40/40 [==============================] - 2s 49ms/step - loss: 0.6842 - accuracy: 0.6500 - recall_m: 0.9667 - precision_m: 0.6083 - f1_m: 0.7133 - val_loss: 0.6832 - val_accuracy: 0.5556 - val_recall_m: 1.0000 - val_precision_m: 0.5500 - val_f1_m: 0.7048\n",
      "Epoch 7/13\n",
      "40/40 [==============================] - 2s 49ms/step - loss: 0.6722 - accuracy: 0.5750 - recall_m: 0.9667 - precision_m: 0.5500 - f1_m: 0.6705 - val_loss: 0.6670 - val_accuracy: 0.9444 - val_recall_m: 0.9000 - val_precision_m: 1.0000 - val_f1_m: 0.9333\n",
      "Epoch 8/13\n",
      "40/40 [==============================] - 2s 50ms/step - loss: 0.6172 - accuracy: 0.8750 - recall_m: 1.0000 - precision_m: 0.8417 - f1_m: 0.8867 - val_loss: 0.6192 - val_accuracy: 0.9444 - val_recall_m: 0.9000 - val_precision_m: 1.0000 - val_f1_m: 0.9333\n",
      "Epoch 9/13\n",
      "40/40 [==============================] - 2s 49ms/step - loss: 0.4776 - accuracy: 0.8750 - recall_m: 0.9000 - precision_m: 0.7500 - f1_m: 0.7967 - val_loss: 0.4852 - val_accuracy: 0.9444 - val_recall_m: 0.9000 - val_precision_m: 1.0000 - val_f1_m: 0.9333\n",
      "Epoch 10/13\n",
      "40/40 [==============================] - 2s 49ms/step - loss: 0.2564 - accuracy: 1.0000 - recall_m: 0.9000 - precision_m: 0.9000 - f1_m: 0.9000 - val_loss: 0.3312 - val_accuracy: 0.9444 - val_recall_m: 0.9000 - val_precision_m: 1.0000 - val_f1_m: 0.9333\n",
      "Epoch 11/13\n",
      "40/40 [==============================] - 2s 49ms/step - loss: 0.0646 - accuracy: 1.0000 - recall_m: 1.0000 - precision_m: 1.0000 - f1_m: 1.0000 - val_loss: 0.2582 - val_accuracy: 0.9444 - val_recall_m: 0.9000 - val_precision_m: 1.0000 - val_f1_m: 0.9333\n",
      "Epoch 12/13\n",
      "40/40 [==============================] - 2s 49ms/step - loss: 0.0157 - accuracy: 1.0000 - recall_m: 0.9000 - precision_m: 0.9000 - f1_m: 0.9000 - val_loss: 0.2357 - val_accuracy: 0.9444 - val_recall_m: 0.9000 - val_precision_m: 1.0000 - val_f1_m: 0.9333\n",
      "Epoch 13/13\n",
      "40/40 [==============================] - 2s 49ms/step - loss: 0.0316 - accuracy: 0.9750 - recall_m: 0.8500 - precision_m: 0.9000 - f1_m: 0.8667 - val_loss: 0.2701 - val_accuracy: 0.9444 - val_recall_m: 0.9000 - val_precision_m: 1.0000 - val_f1_m: 0.9333\n"
     ]
    }
   ],
   "source": [
    "model = conv2d_model()\n",
    "early_stopping = EarlyStopping()\n",
    "history = model.fit(X_train, y_train, epochs=13, batch_size=4, verbose=1, validation_data = (X_test, y_test))\n",
    "history_dict = history.history"
   ]
  },
  {
   "cell_type": "code",
   "execution_count": 41,
   "metadata": {},
   "outputs": [
    {
     "data": {
      "text/plain": [
       "<matplotlib.legend.Legend at 0x1d8cdc3e9b0>"
      ]
     },
     "execution_count": 41,
     "metadata": {},
     "output_type": "execute_result"
    },
    {
     "data": {
      "image/png": "[encoded data removed]",
      "text/plain": [
       "<Figure size 720x720 with 1 Axes>"
      ]
     },
     "metadata": {
      "needs_background": "light"
     },
     "output_type": "display_data"
    }
   ],
   "source": [
    "\n",
    "epochs = range(1, len(loss) + 1)\n",
    "val_acc = history_dict['val_accuracy']\n",
    "acc = history_dict['accuracy']\n",
    "plt.figure(figsize=(10,10))\n",
    "    \n",
    "plt.plot(epochs, acc, 'r', label='Training acc')\n",
    "\n",
    "plt.plot(epochs, val_acc, 'ro', label='val_acc')\n",
    "\n",
    "plt.xlabel('Epochs')\n",
    "plt.ylabel('Accuracy')\n",
    "plt.ylim(0,1)\n",
    "plt.legend()"
   ]
  },
  {
   "cell_type": "code",
   "execution_count": 40,
   "metadata": {},
   "outputs": [
    {
     "data": {
      "text/plain": [
       "<matplotlib.legend.Legend at 0x1d8cf3fff60>"
      ]
     },
     "execution_count": 40,
     "metadata": {},
     "output_type": "execute_result"
    },
    {
     "data": {
      "image/png": "[encoded data removed]",
      "text/plain": [
       "<Figure size 720x720 with 1 Axes>"
      ]
     },
     "metadata": {
      "needs_background": "light"
     },
     "output_type": "display_data"
    }
   ],
   "source": [
    "loss = history_dict['loss']   \n",
    "val_loss = history_dict['val_loss']\n",
    "epochs = range(1, len(val_loss) + 1)\n",
    "plt.figure(figsize=(10,10))\n",
    "plt.plot(epochs, loss, 'b', label='Training loss')\n",
    "plt.plot(epochs, val_loss, 'bo', label='Validation loss')\n",
    "plt.xlabel('Epochs')\n",
    "plt.ylabel('Accuracy')\n",
    "plt.ylim(0,1.01)\n",
    "plt.legend()"
   ]
  },
  {
   "cell_type": "code",
   "execution_count": 42,
   "metadata": {},
   "outputs": [
    {
     "data": {
      "text/plain": [
       "(array([[0.00872   ],\n",
       "        [0.00872   ],\n",
       "        [0.00872   ],\n",
       "        [0.99463636],\n",
       "        [0.00872   ],\n",
       "        [0.9947573 ],\n",
       "        [0.99359894],\n",
       "        [0.00872   ],\n",
       "        [0.00872   ],\n",
       "        [0.00872   ],\n",
       "        [0.99348164],\n",
       "        [0.99524814],\n",
       "        [0.9952933 ],\n",
       "        [0.99491876],\n",
       "        [0.00872   ],\n",
       "        [0.994547  ],\n",
       "        [0.00872   ],\n",
       "        [0.99494153]], dtype=float32),\n",
       " array([1, 0, 0, 1, 0, 1, 1, 0, 0, 0, 1, 1, 1, 1, 0, 1, 0, 1]))"
      ]
     },
     "execution_count": 42,
     "metadata": {},
     "output_type": "execute_result"
    }
   ],
   "source": [
    "model.predict_proba(X_test), y_test"
   ]
  },
  {
   "cell_type": "markdown",
   "metadata": {},
   "source": [
    "# K-fold Val"
   ]
  },
  {
   "cell_type": "code",
   "execution_count": 19,
   "metadata": {},
   "outputs": [
    {
     "name": "stderr",
     "output_type": "stream",
     "text": [
      "C:\\Users\\GC\\Anaconda3\\envs\\ark\\lib\\site-packages\\ipykernel_launcher.py:8: UserWarning: Update your `Conv2D` call to the Keras 2 API: `Conv2D(64, (4, 4), activation=\"relu\", input_shape=(20, 4, 30..., padding=\"same\")`\n",
      "  \n"
     ]
    },
    {
     "name": "stdout",
     "output_type": "stream",
     "text": [
      "Epoch 1/20\n",
      "46/46 [==============================] - 5s 98ms/step - loss: 0.6944 - accuracy: 0.4783 - recall_m: 0.8889 - precision_m: 0.4931 - f1_m: 0.6206\n",
      "Epoch 2/20\n",
      "46/46 [==============================] - 2s 39ms/step - loss: 0.6934 - accuracy: 0.5000 - recall_m: 0.9167 - precision_m: 0.4792 - f1_m: 0.6143\n",
      "Epoch 3/20\n",
      "46/46 [==============================] - 2s 38ms/step - loss: 0.6953 - accuracy: 0.4130 - recall_m: 0.6319 - precision_m: 0.5000 - f1_m: 0.4770\n",
      "Epoch 4/20\n",
      "46/46 [==============================] - 2s 40ms/step - loss: 0.6932 - accuracy: 0.5217 - recall_m: 0.4444 - precision_m: 0.4236 - f1_m: 0.4159\n",
      "Epoch 5/20\n",
      "46/46 [==============================] - 2s 39ms/step - loss: 0.6910 - accuracy: 0.4783 - recall_m: 0.9028 - precision_m: 0.4931 - f1_m: 0.6067\n",
      "Epoch 6/20\n",
      "46/46 [==============================] - 2s 39ms/step - loss: 0.6853 - accuracy: 0.5435 - recall_m: 1.0000 - precision_m: 0.5486 - f1_m: 0.6734\n",
      "Epoch 7/20\n",
      "46/46 [==============================] - 2s 39ms/step - loss: 0.6600 - accuracy: 0.5217 - recall_m: 0.8333 - precision_m: 0.4931 - f1_m: 0.6079\n",
      "Epoch 8/20\n",
      "46/46 [==============================] - 2s 40ms/step - loss: 0.5470 - accuracy: 0.8696 - recall_m: 0.8750 - precision_m: 0.7639 - f1_m: 0.7889\n",
      "Epoch 9/20\n",
      "46/46 [==============================] - 2s 39ms/step - loss: 0.3890 - accuracy: 0.9348 - recall_m: 0.8750 - precision_m: 0.8333 - f1_m: 0.8472\n",
      "Epoch 10/20\n",
      "46/46 [==============================] - 2s 39ms/step - loss: 0.2749 - accuracy: 0.9783 - recall_m: 0.8125 - precision_m: 0.8333 - f1_m: 0.8214\n",
      "Epoch 11/20\n",
      "46/46 [==============================] - 2s 39ms/step - loss: 0.1947 - accuracy: 0.9783 - recall_m: 0.9583 - precision_m: 1.0000 - f1_m: 0.9722\n",
      "Epoch 12/20\n",
      "46/46 [==============================] - 2s 40ms/step - loss: 0.1342 - accuracy: 0.9783 - recall_m: 0.8750 - precision_m: 0.9167 - f1_m: 0.8889\n",
      "Epoch 13/20\n",
      "46/46 [==============================] - 2s 39ms/step - loss: 0.0970 - accuracy: 0.9783 - recall_m: 0.8056 - precision_m: 0.8333 - f1_m: 0.8167\n",
      "Epoch 14/20\n",
      "46/46 [==============================] - 2s 40ms/step - loss: 0.1292 - accuracy: 0.9783 - recall_m: 0.9792 - precision_m: 1.0000 - f1_m: 0.9881\n",
      "Epoch 15/20\n",
      "46/46 [==============================] - 2s 39ms/step - loss: 0.0911 - accuracy: 0.9783 - recall_m: 0.9583 - precision_m: 1.0000 - f1_m: 0.9722\n",
      "Epoch 16/20\n",
      "46/46 [==============================] - 2s 39ms/step - loss: 0.0832 - accuracy: 0.9783 - recall_m: 0.8889 - precision_m: 0.9167 - f1_m: 0.9000\n",
      "Epoch 17/20\n",
      "46/46 [==============================] - 2s 39ms/step - loss: 0.1133 - accuracy: 0.9783 - recall_m: 0.9167 - precision_m: 0.9167 - f1_m: 0.9167\n",
      "Epoch 18/20\n",
      "46/46 [==============================] - 2s 39ms/step - loss: 0.1031 - accuracy: 0.9783 - recall_m: 0.7222 - precision_m: 0.7500 - f1_m: 0.7333\n",
      "Epoch 19/20\n",
      "46/46 [==============================] - 2s 39ms/step - loss: 0.1040 - accuracy: 0.9783 - recall_m: 0.8750 - precision_m: 0.9167 - f1_m: 0.8889\n",
      "Epoch 20/20\n",
      "46/46 [==============================] - 2s 39ms/step - loss: 0.0883 - accuracy: 0.9783 - recall_m: 0.7917 - precision_m: 0.8333 - f1_m: 0.8056\n",
      "accuracy: 100.00%\n",
      "recall_m: 100.00%\n",
      "precision_m: 100.00%\n",
      "f1_m: 100.00%\n",
      "\n",
      "\n"
     ]
    },
    {
     "name": "stderr",
     "output_type": "stream",
     "text": [
      "C:\\Users\\GC\\Anaconda3\\envs\\ark\\lib\\site-packages\\ipykernel_launcher.py:8: UserWarning: Update your `Conv2D` call to the Keras 2 API: `Conv2D(64, (4, 4), activation=\"relu\", input_shape=(20, 4, 30..., padding=\"same\")`\n",
      "  \n"
     ]
    },
    {
     "name": "stdout",
     "output_type": "stream",
     "text": [
      "Epoch 1/20\n",
      "46/46 [==============================] - 2s 45ms/step - loss: 0.6937 - accuracy: 0.5217 - recall_m: 1.0000 - precision_m: 0.5417 - f1_m: 0.6714\n",
      "Epoch 2/20\n",
      "46/46 [==============================] - 2s 39ms/step - loss: 0.6926 - accuracy: 0.5217 - recall_m: 0.9167 - precision_m: 0.5417 - f1_m: 0.6643\n",
      "Epoch 3/20\n",
      "46/46 [==============================] - 2s 39ms/step - loss: 0.6925 - accuracy: 0.5217 - recall_m: 0.9167 - precision_m: 0.5208 - f1_m: 0.6484\n",
      "Epoch 4/20\n",
      "46/46 [==============================] - 2s 39ms/step - loss: 0.6913 - accuracy: 0.5217 - recall_m: 0.9167 - precision_m: 0.5208 - f1_m: 0.6548\n",
      "Epoch 5/20\n",
      "46/46 [==============================] - 2s 40ms/step - loss: 0.6776 - accuracy: 0.5217 - recall_m: 1.0000 - precision_m: 0.5208 - f1_m: 0.6532\n",
      "Epoch 6/20\n",
      "46/46 [==============================] - 2s 40ms/step - loss: 0.6588 - accuracy: 0.5217 - recall_m: 0.9167 - precision_m: 0.5000 - f1_m: 0.6238\n",
      "Epoch 7/20\n",
      "46/46 [==============================] - 2s 40ms/step - loss: 0.6026 - accuracy: 0.5870 - recall_m: 0.9167 - precision_m: 0.5972 - f1_m: 0.6865\n",
      "Epoch 8/20\n",
      "46/46 [==============================] - 2s 39ms/step - loss: 0.4916 - accuracy: 0.7609 - recall_m: 0.9167 - precision_m: 0.7083 - f1_m: 0.7611\n",
      "Epoch 9/20\n",
      "46/46 [==============================] - 2s 39ms/step - loss: 0.3139 - accuracy: 0.9783 - recall_m: 0.8889 - precision_m: 0.9167 - f1_m: 0.9000\n",
      "Epoch 10/20\n",
      "46/46 [==============================] - 2s 39ms/step - loss: 0.2331 - accuracy: 0.9783 - recall_m: 0.9583 - precision_m: 1.0000 - f1_m: 0.9722\n",
      "Epoch 11/20\n",
      "46/46 [==============================] - 2s 39ms/step - loss: 0.1095 - accuracy: 0.9783 - recall_m: 0.9722 - precision_m: 1.0000 - f1_m: 0.9833\n",
      "Epoch 12/20\n",
      "46/46 [==============================] - 2s 39ms/step - loss: 0.1263 - accuracy: 0.9565 - recall_m: 0.9722 - precision_m: 0.9583 - f1_m: 0.9556\n",
      "Epoch 13/20\n",
      "46/46 [==============================] - 2s 39ms/step - loss: 0.0991 - accuracy: 0.9783 - recall_m: 0.8750 - precision_m: 0.9167 - f1_m: 0.8889\n",
      "Epoch 14/20\n",
      "46/46 [==============================] - 2s 39ms/step - loss: 0.1049 - accuracy: 0.9783 - recall_m: 0.8056 - precision_m: 0.8333 - f1_m: 0.8167\n",
      "Epoch 15/20\n",
      "46/46 [==============================] - 2s 39ms/step - loss: 0.0899 - accuracy: 0.9783 - recall_m: 0.8750 - precision_m: 0.9167 - f1_m: 0.8889\n",
      "Epoch 16/20\n",
      "46/46 [==============================] - 2s 39ms/step - loss: 0.1107 - accuracy: 0.9783 - recall_m: 0.8056 - precision_m: 0.8333 - f1_m: 0.8167\n",
      "Epoch 17/20\n",
      "46/46 [==============================] - 2s 39ms/step - loss: 0.0830 - accuracy: 0.9783 - recall_m: 0.9722 - precision_m: 1.0000 - f1_m: 0.9833\n",
      "Epoch 18/20\n",
      "46/46 [==============================] - 2s 39ms/step - loss: 0.1170 - accuracy: 0.9783 - recall_m: 0.8333 - precision_m: 0.8333 - f1_m: 0.8333\n",
      "Epoch 19/20\n",
      "46/46 [==============================] - 2s 39ms/step - loss: 0.0974 - accuracy: 0.9783 - recall_m: 0.9583 - precision_m: 1.0000 - f1_m: 0.9722\n",
      "Epoch 20/20\n",
      "46/46 [==============================] - 2s 40ms/step - loss: 0.0824 - accuracy: 0.9783 - recall_m: 0.8750 - precision_m: 0.9167 - f1_m: 0.8889\n",
      "accuracy: 100.00%\n",
      "recall_m: 100.00%\n",
      "precision_m: 100.00%\n",
      "f1_m: 100.00%\n",
      "\n",
      "\n"
     ]
    },
    {
     "name": "stderr",
     "output_type": "stream",
     "text": [
      "C:\\Users\\GC\\Anaconda3\\envs\\ark\\lib\\site-packages\\ipykernel_launcher.py:8: UserWarning: Update your `Conv2D` call to the Keras 2 API: `Conv2D(64, (4, 4), activation=\"relu\", input_shape=(20, 4, 30..., padding=\"same\")`\n",
      "  \n"
     ]
    },
    {
     "name": "stdout",
     "output_type": "stream",
     "text": [
      "Epoch 1/20\n",
      "46/46 [==============================] - 2s 47ms/step - loss: 0.6936 - accuracy: 0.5000 - recall_m: 0.8889 - precision_m: 0.5556 - f1_m: 0.6262\n",
      "Epoch 2/20\n",
      "46/46 [==============================] - 2s 39ms/step - loss: 0.6944 - accuracy: 0.5652 - recall_m: 0.9167 - precision_m: 0.5833 - f1_m: 0.6921\n",
      "Epoch 3/20\n",
      "46/46 [==============================] - 2s 39ms/step - loss: 0.6900 - accuracy: 0.5652 - recall_m: 0.9167 - precision_m: 0.5417 - f1_m: 0.6516\n",
      "Epoch 4/20\n",
      "46/46 [==============================] - 2s 39ms/step - loss: 0.6860 - accuracy: 0.5652 - recall_m: 0.8333 - precision_m: 0.5417 - f1_m: 0.6302\n",
      "Epoch 5/20\n",
      "46/46 [==============================] - 2s 41ms/step - loss: 0.6819 - accuracy: 0.5652 - recall_m: 0.9167 - precision_m: 0.5417 - f1_m: 0.6683\n",
      "Epoch 6/20\n",
      "46/46 [==============================] - 2s 40ms/step - loss: 0.6692 - accuracy: 0.5652 - recall_m: 1.0000 - precision_m: 0.5833 - f1_m: 0.7198\n",
      "Epoch 7/20\n",
      "46/46 [==============================] - 2s 39ms/step - loss: 0.6445 - accuracy: 0.5652 - recall_m: 0.8333 - precision_m: 0.5417 - f1_m: 0.6468\n",
      "Epoch 8/20\n",
      "46/46 [==============================] - 2s 39ms/step - loss: 0.5567 - accuracy: 0.5652 - recall_m: 0.9167 - precision_m: 0.5417 - f1_m: 0.6643\n",
      "Epoch 9/20\n",
      "46/46 [==============================] - 2s 40ms/step - loss: 0.3941 - accuracy: 0.6304 - recall_m: 1.0000 - precision_m: 0.6181 - f1_m: 0.7262\n",
      "Epoch 10/20\n",
      "46/46 [==============================] - 2s 40ms/step - loss: 0.3174 - accuracy: 0.9783 - recall_m: 0.8125 - precision_m: 0.8333 - f1_m: 0.8214\n",
      "Epoch 11/20\n",
      "46/46 [==============================] - 2s 40ms/step - loss: 0.2838 - accuracy: 0.9783 - recall_m: 0.9722 - precision_m: 1.0000 - f1_m: 0.9833\n",
      "Epoch 12/20\n",
      "46/46 [==============================] - 2s 40ms/step - loss: 0.2438 - accuracy: 0.9783 - recall_m: 0.9583 - precision_m: 1.0000 - f1_m: 0.9722\n",
      "Epoch 13/20\n",
      "46/46 [==============================] - 2s 40ms/step - loss: 0.1746 - accuracy: 0.9783 - recall_m: 0.8958 - precision_m: 0.9167 - f1_m: 0.9048\n",
      "Epoch 14/20\n",
      "46/46 [==============================] - 2s 40ms/step - loss: 0.0927 - accuracy: 0.9783 - recall_m: 0.9722 - precision_m: 1.0000 - f1_m: 0.9833\n",
      "Epoch 15/20\n",
      "46/46 [==============================] - 2s 38ms/step - loss: 0.1192 - accuracy: 0.9783 - recall_m: 0.9722 - precision_m: 1.0000 - f1_m: 0.9833\n",
      "Epoch 16/20\n",
      "46/46 [==============================] - 2s 39ms/step - loss: 0.0901 - accuracy: 0.9783 - recall_m: 0.9722 - precision_m: 1.0000 - f1_m: 0.9833\n",
      "Epoch 17/20\n",
      "46/46 [==============================] - 2s 39ms/step - loss: 0.0953 - accuracy: 0.9783 - recall_m: 0.8750 - precision_m: 0.9167 - f1_m: 0.8889\n",
      "Epoch 18/20\n",
      "46/46 [==============================] - 2s 39ms/step - loss: 0.0912 - accuracy: 0.9783 - recall_m: 0.9722 - precision_m: 1.0000 - f1_m: 0.9833\n",
      "Epoch 19/20\n",
      "46/46 [==============================] - 2s 39ms/step - loss: 0.1288 - accuracy: 0.9783 - recall_m: 0.9722 - precision_m: 1.0000 - f1_m: 0.9833\n",
      "Epoch 20/20\n",
      "46/46 [==============================] - 2s 39ms/step - loss: 0.0948 - accuracy: 0.9783 - recall_m: 0.8889 - precision_m: 0.9167 - f1_m: 0.9000\n",
      "accuracy: 100.00%\n",
      "recall_m: 100.00%\n",
      "precision_m: 100.00%\n",
      "f1_m: 100.00%\n",
      "\n",
      "\n"
     ]
    },
    {
     "name": "stderr",
     "output_type": "stream",
     "text": [
      "C:\\Users\\GC\\Anaconda3\\envs\\ark\\lib\\site-packages\\ipykernel_launcher.py:8: UserWarning: Update your `Conv2D` call to the Keras 2 API: `Conv2D(64, (4, 4), activation=\"relu\", input_shape=(20, 4, 30..., padding=\"same\")`\n",
      "  \n"
     ]
    },
    {
     "name": "stdout",
     "output_type": "stream",
     "text": [
      "Epoch 1/20\n",
      "47/47 [==============================] - 2s 51ms/step - loss: 0.6929 - accuracy: 0.5319 - recall_m: 0.7222 - precision_m: 0.4375 - f1_m: 0.5103\n",
      "Epoch 2/20\n",
      "47/47 [==============================] - 2s 39ms/step - loss: 0.6956 - accuracy: 0.4043 - recall_m: 0.6667 - precision_m: 0.4722 - f1_m: 0.4972\n",
      "Epoch 3/20\n",
      "47/47 [==============================] - 2s 38ms/step - loss: 0.6897 - accuracy: 0.5957 - recall_m: 0.8333 - precision_m: 0.6319 - f1_m: 0.6667\n",
      "Epoch 4/20\n",
      "47/47 [==============================] - 2s 38ms/step - loss: 0.6927 - accuracy: 0.4894 - recall_m: 0.7847 - precision_m: 0.5069 - f1_m: 0.5913\n",
      "Epoch 5/20\n",
      "47/47 [==============================] - 2s 39ms/step - loss: 0.6930 - accuracy: 0.4468 - recall_m: 0.8125 - precision_m: 0.4931 - f1_m: 0.5532\n",
      "Epoch 6/20\n",
      "47/47 [==============================] - 2s 40ms/step - loss: 0.6855 - accuracy: 0.5319 - recall_m: 0.9792 - precision_m: 0.5417 - f1_m: 0.6587\n",
      "Epoch 7/20\n",
      "47/47 [==============================] - 2s 40ms/step - loss: 0.6763 - accuracy: 0.5106 - recall_m: 0.9167 - precision_m: 0.5000 - f1_m: 0.6337\n",
      "Epoch 8/20\n",
      "47/47 [==============================] - 2s 38ms/step - loss: 0.6183 - accuracy: 0.8085 - recall_m: 0.9167 - precision_m: 0.7847 - f1_m: 0.8325\n",
      "Epoch 9/20\n",
      "47/47 [==============================] - 2s 38ms/step - loss: 0.4451 - accuracy: 0.9362 - recall_m: 1.0000 - precision_m: 0.8889 - f1_m: 0.9278\n",
      "Epoch 10/20\n",
      "47/47 [==============================] - 2s 39ms/step - loss: 0.1326 - accuracy: 1.0000 - recall_m: 1.0000 - precision_m: 1.0000 - f1_m: 1.0000\n",
      "Epoch 11/20\n",
      "47/47 [==============================] - 2s 39ms/step - loss: 0.0411 - accuracy: 1.0000 - recall_m: 0.9167 - precision_m: 0.9167 - f1_m: 0.9167\n",
      "Epoch 12/20\n",
      "47/47 [==============================] - 2s 39ms/step - loss: 0.0222 - accuracy: 1.0000 - recall_m: 1.0000 - precision_m: 1.0000 - f1_m: 1.0000\n",
      "Epoch 13/20\n",
      "47/47 [==============================] - 2s 40ms/step - loss: 0.0029 - accuracy: 1.0000 - recall_m: 0.8333 - precision_m: 0.8333 - f1_m: 0.8333\n",
      "Epoch 14/20\n",
      "47/47 [==============================] - 2s 41ms/step - loss: 0.0119 - accuracy: 1.0000 - recall_m: 0.9167 - precision_m: 0.9167 - f1_m: 0.9167\n",
      "Epoch 15/20\n",
      "47/47 [==============================] - 2s 40ms/step - loss: 0.0033 - accuracy: 1.0000 - recall_m: 0.9167 - precision_m: 0.9167 - f1_m: 0.9167\n",
      "Epoch 16/20\n",
      "47/47 [==============================] - 2s 40ms/step - loss: 0.0022 - accuracy: 1.0000 - recall_m: 0.9167 - precision_m: 0.9167 - f1_m: 0.9167\n",
      "Epoch 17/20\n",
      "47/47 [==============================] - 2s 39ms/step - loss: 0.0019 - accuracy: 1.0000 - recall_m: 0.9167 - precision_m: 0.9167 - f1_m: 0.9167\n",
      "Epoch 18/20\n",
      "47/47 [==============================] - 2s 39ms/step - loss: 0.0026 - accuracy: 1.0000 - recall_m: 1.0000 - precision_m: 1.0000 - f1_m: 1.0000\n",
      "Epoch 19/20\n",
      "47/47 [==============================] - 2s 40ms/step - loss: 0.0013 - accuracy: 1.0000 - recall_m: 0.9167 - precision_m: 0.9167 - f1_m: 0.9167\n",
      "Epoch 20/20\n",
      "47/47 [==============================] - 2s 39ms/step - loss: 0.0013 - accuracy: 1.0000 - recall_m: 0.9167 - precision_m: 0.9167 - f1_m: 0.9167\n",
      "accuracy: 90.91%\n",
      "recall_m: 83.33%\n",
      "precision_m: 100.00%\n",
      "f1_m: 90.91%\n",
      "\n",
      "\n"
     ]
    },
    {
     "name": "stderr",
     "output_type": "stream",
     "text": [
      "C:\\Users\\GC\\Anaconda3\\envs\\ark\\lib\\site-packages\\ipykernel_launcher.py:8: UserWarning: Update your `Conv2D` call to the Keras 2 API: `Conv2D(64, (4, 4), activation=\"relu\", input_shape=(20, 4, 30..., padding=\"same\")`\n",
      "  \n"
     ]
    },
    {
     "name": "stdout",
     "output_type": "stream",
     "text": [
      "Epoch 1/20\n",
      "47/47 [==============================] - 2s 43ms/step - loss: 0.6938 - accuracy: 0.3404 - recall_m: 0.2917 - precision_m: 0.2292 - f1_m: 0.2278\n",
      "Epoch 2/20\n",
      "47/47 [==============================] - 2s 40ms/step - loss: 0.6925 - accuracy: 0.5319 - recall_m: 0.0833 - precision_m: 0.1667 - f1_m: 0.1111\n",
      "Epoch 3/20\n",
      "47/47 [==============================] - 2s 40ms/step - loss: 0.6903 - accuracy: 0.5106 - recall_m: 0.0000e+00 - precision_m: 0.0000e+00 - f1_m: 0.0000e+00\n",
      "Epoch 4/20\n",
      "47/47 [==============================] - 2s 38ms/step - loss: 0.6955 - accuracy: 0.4255 - recall_m: 0.0833 - precision_m: 0.1667 - f1_m: 0.1111\n",
      "Epoch 5/20\n",
      "47/47 [==============================] - 2s 38ms/step - loss: 0.6869 - accuracy: 0.5957 - recall_m: 0.5278 - precision_m: 0.6528 - f1_m: 0.5333\n",
      "Epoch 6/20\n",
      "47/47 [==============================] - 2s 38ms/step - loss: 0.6944 - accuracy: 0.4681 - recall_m: 0.3194 - precision_m: 0.3889 - f1_m: 0.3194\n",
      "Epoch 7/20\n",
      "47/47 [==============================] - 2s 38ms/step - loss: 0.6814 - accuracy: 0.5532 - recall_m: 0.3750 - precision_m: 0.4167 - f1_m: 0.3806\n",
      "Epoch 8/20\n",
      "47/47 [==============================] - 2s 38ms/step - loss: 0.6767 - accuracy: 0.5532 - recall_m: 0.4722 - precision_m: 0.4306 - f1_m: 0.4222\n",
      "Epoch 9/20\n",
      "47/47 [==============================] - 2s 38ms/step - loss: 0.6612 - accuracy: 0.5532 - recall_m: 0.5556 - precision_m: 0.4444 - f1_m: 0.4472\n",
      "Epoch 10/20\n",
      "47/47 [==============================] - 2s 38ms/step - loss: 0.6320 - accuracy: 0.5745 - recall_m: 0.2917 - precision_m: 0.4583 - f1_m: 0.3389\n",
      "Epoch 11/20\n",
      "47/47 [==============================] - 2s 39ms/step - loss: 0.5676 - accuracy: 0.8298 - recall_m: 0.7083 - precision_m: 0.8750 - f1_m: 0.7639\n",
      "Epoch 12/20\n",
      "47/47 [==============================] - 2s 38ms/step - loss: 0.4102 - accuracy: 0.9362 - recall_m: 0.8750 - precision_m: 0.8889 - f1_m: 0.8722\n",
      "Epoch 13/20\n",
      "47/47 [==============================] - 2s 39ms/step - loss: 0.3531 - accuracy: 0.9787 - recall_m: 0.7500 - precision_m: 0.7500 - f1_m: 0.7500\n",
      "Epoch 14/20\n",
      "47/47 [==============================] - 2s 39ms/step - loss: 0.2809 - accuracy: 0.9362 - recall_m: 0.8056 - precision_m: 0.7708 - f1_m: 0.7770\n",
      "Epoch 15/20\n",
      "47/47 [==============================] - 2s 39ms/step - loss: 0.0907 - accuracy: 0.9787 - recall_m: 0.9722 - precision_m: 1.0000 - f1_m: 0.9833\n",
      "Epoch 16/20\n",
      "47/47 [==============================] - 2s 38ms/step - loss: 0.1120 - accuracy: 0.9362 - recall_m: 0.9583 - precision_m: 0.9306 - f1_m: 0.9417\n",
      "Epoch 17/20\n",
      "47/47 [==============================] - 2s 39ms/step - loss: 0.1423 - accuracy: 0.9787 - recall_m: 0.8750 - precision_m: 0.9167 - f1_m: 0.8889\n",
      "Epoch 18/20\n",
      "47/47 [==============================] - 2s 39ms/step - loss: 0.1528 - accuracy: 0.9574 - recall_m: 0.8889 - precision_m: 0.8750 - f1_m: 0.8722\n",
      "Epoch 19/20\n",
      "47/47 [==============================] - 2s 39ms/step - loss: 0.1568 - accuracy: 0.9787 - recall_m: 0.8750 - precision_m: 0.9167 - f1_m: 0.8889\n",
      "Epoch 20/20\n",
      "47/47 [==============================] - 2s 38ms/step - loss: 0.1204 - accuracy: 0.9787 - recall_m: 0.8889 - precision_m: 0.9167 - f1_m: 0.9000\n",
      "accuracy: 100.00%\n",
      "recall_m: 100.00%\n",
      "precision_m: 100.00%\n",
      "f1_m: 100.00%\n",
      "\n",
      "\n",
      "98.18 (+/- 3.64%)\n",
      "0.97 (+/- 0.07%)\n",
      "1.00 (+/- 0.00%)\n",
      "0.98 (+/- 0.04%)\n"
     ]
    }
   ],
   "source": [
    "accuracy_scores = []\n",
    "prec_scores = []\n",
    "rec_scores = []\n",
    "f1_scores = []\n",
    "import keras.backend.tensorflow_backend as Keras_GPU\n",
    "from sklearn.model_selection import KFold\n",
    "\n",
    "kfold = KFold(n_splits=5, shuffle=True, random_state=3)\n",
    "\n",
    "for i in range(1):\n",
    "    for train, test in kfold.split(all_dataframe, y):\n",
    "        X_train = index_to_list(all_dataframe, train)\n",
    "        y_train = y[train]\n",
    "        X_test = index_to_list(all_dataframe, test)\n",
    "        y_test = y[test]\n",
    "\n",
    "\n",
    "        X_train = eeg_band_power_seperate(X_train, 1)\n",
    "        X_test = eeg_band_power_seperate(X_test, 0)\n",
    "\n",
    "        X_train = X_train[1:]\n",
    "        X_test = X_test[1:]\n",
    "\n",
    "        model = conv2d_model()\n",
    "\n",
    "\n",
    "        model.compile(optimizer='Adam',\n",
    "                      loss='binary_crossentropy',\n",
    "                      metrics=['accuracy', recall_m, precision_m, f1_m])\n",
    "\n",
    "        model.fit(X_train, y_train, epochs=20, batch_size=4, verbose=1)\n",
    "\n",
    "        scores = model.evaluate(X_test, y_test, verbose=0)\n",
    "\n",
    "        print(\"%s: %.2f%%\" % (model.metrics_names[1], scores[1]*100))\n",
    "        print(\"%s: %.2f%%\" % (model.metrics_names[2], scores[2]*100))\n",
    "        print(\"%s: %.2f%%\" % (model.metrics_names[3], scores[3]*100))\n",
    "        print(\"%s: %.2f%%\" % (model.metrics_names[4], scores[4]*100))\n",
    "        print(\"\\n\")\n",
    "        accuracy_scores.append(scores[1] * 100)\n",
    "        prec_scores.append(scores[2])\n",
    "        rec_scores.append(scores[3])\n",
    "        f1_scores.append(scores[4])\n",
    "    \n",
    "print(\"%.2f (+/- %.2f%%)\" % (np.mean(accuracy_scores), np.std(accuracy_scores)))\n",
    "print(\"%.2f (+/- %.2f%%)\" % (np.mean(prec_scores), np.std(prec_scores)))\n",
    "print(\"%.2f (+/- %.2f%%)\" % (np.mean(rec_scores), np.std(rec_scores)))\n",
    "print(\"%.2f (+/- %.2f%%)\" % (np.mean(f1_scores), np.std(f1_scores)))\n",
    "    \n",
    "    \n",
    "    \n",
    "    \n",
    "    \n",
    "    "
   ]
  },
  {
   "cell_type": "code",
   "execution_count": 16,
   "metadata": {},
   "outputs": [
    {
     "name": "stdout",
     "output_type": "stream",
     "text": [
      "Model: \"sequential_10\"\n",
      "_________________________________________________________________\n",
      "Layer (type)                 Output Shape              Param #   \n",
      "=================================================================\n",
      "conv2d_10 (Conv2D)           (None, 20, 4, 64)         31457344  \n",
      "_________________________________________________________________\n",
      "dropout_10 (Dropout)         (None, 20, 4, 64)         0         \n",
      "_________________________________________________________________\n",
      "max_pooling2d_10 (MaxPooling (None, 10, 2, 64)         0         \n",
      "_________________________________________________________________\n",
      "flatten_10 (Flatten)         (None, 1280)              0         \n",
      "_________________________________________________________________\n",
      "dense_37 (Dense)             (None, 64)                81984     \n",
      "_________________________________________________________________\n",
      "dense_38 (Dense)             (None, 256)               16640     \n",
      "_________________________________________________________________\n",
      "dense_39 (Dense)             (None, 128)               32896     \n",
      "_________________________________________________________________\n",
      "dense_40 (Dense)             (None, 1)                 129       \n",
      "=================================================================\n",
      "Total params: 31,588,993\n",
      "Trainable params: 31,588,993\n",
      "Non-trainable params: 0\n",
      "_________________________________________________________________\n"
     ]
    }
   ],
   "source": [
    "model.summary()"
   ]
  },
  {
   "cell_type": "code",
   "execution_count": null,
   "metadata": {},
   "outputs": [],
   "source": []
  }
 ],
 "metadata": {
  "kernelspec": {
   "display_name": "Python 3",
   "language": "python",
   "name": "python3"
  },
  "language_info": {
   "codemirror_mode": {
    "name": "ipython",
    "version": 3
   },
   "file_extension": ".py",
   "mimetype": "text/x-python",
   "name": "python",
   "nbconvert_exporter": "python",
   "pygments_lexer": "ipython3",
   "version": "3.7.3"
  },
  "pycharm": {
   "stem_cell": {
    "cell_type": "raw",
    "metadata": {
     "collapsed": false
    },
    "source": []
   }
  }
 },
 "nbformat": 4,
 "nbformat_minor": 4
}
