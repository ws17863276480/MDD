{
 "cells": [
  {
   "cell_type": "code",
   "execution_count": 1,
   "metadata": {
    "collapsed": false,
    "jupyter": {
     "outputs_hidden": false
    },
    "pycharm": {
     "is_executing": false,
     "name": "#%%\n"
    }
   },
   "outputs": [
    {
     "name": "stderr",
     "output_type": "stream",
     "text": [
      "\n",
      "Bad key \"text.kerning_factor\" on line 4 in\n",
      "C:\\Users\\GC\\Anaconda3\\envs\\ark\\lib\\site-packages\\matplotlib\\mpl-data\\stylelib\\_classic_test_patch.mplstyle.\n",
      "You probably need to get an updated matplotlibrc file from\n",
      "https://github.com/matplotlib/matplotlib/blob/v3.1.3/matplotlibrc.template\n",
      "or from the matplotlib source distribution\n"
     ]
    }
   ],
   "source": [
    "import pandas as pd\n",
    "import numpy as np\n",
    "import matplotlib.pyplot as plt\n",
    "import matplotlib.dates as md\n",
    "import os\n",
    "import mne\n",
    "import random\n",
    "from sklearn.metrics import classification_report\n",
    "from numpy import zeros, newaxis\n",
    "from scipy import signal\n",
    "from scipy import fftpack"
   ]
  },
  {
   "cell_type": "code",
   "execution_count": 2,
   "metadata": {
    "collapsed": false,
    "jupyter": {
     "outputs_hidden": false
    },
    "pycharm": {
     "is_executing": false,
     "name": "#%%\n"
    }
   },
   "outputs": [
    {
     "data": {
      "text/plain": [
       "['H S1 EC.edf',\n",
       " 'H S10 EC.edf',\n",
       " 'H S11 EC.edf',\n",
       " 'H S12  EC.edf',\n",
       " 'H S13 EC.edf',\n",
       " 'H S14 EC.edf',\n",
       " 'H S15 EC.edf',\n",
       " 'H S16 EC.edf',\n",
       " 'H S17 EC.edf',\n",
       " 'H S19 EC.edf',\n",
       " 'H S2 EC.edf',\n",
       " 'H S20 EC.edf',\n",
       " 'H S21 EC.edf',\n",
       " 'H S22 EC.edf',\n",
       " 'H S23 EC.edf',\n",
       " 'H S24 EC.edf',\n",
       " 'H S25 EC.edf',\n",
       " 'H S26 EC.edf',\n",
       " 'H S27 EC.edf',\n",
       " 'H S28 EC.edf',\n",
       " 'H S29 EC.edf',\n",
       " 'H S3 EC.edf',\n",
       " 'H S30 EC.edf',\n",
       " 'H S4 EC.edf',\n",
       " 'H S5 EC.edf',\n",
       " 'H S6 EC.edf',\n",
       " 'H S7 EC.edf',\n",
       " 'H S8 EC.edf',\n",
       " 'H S9 EC.edf']"
      ]
     },
     "execution_count": 2,
     "metadata": {},
     "output_type": "execute_result"
    }
   ],
   "source": [
    "MDD_dataset_Filenames = os.listdir('./full_dataset/MDD/EC/')\n",
    "H_dataset_Filenames = os.listdir('./full_dataset/H/EC/')\n",
    "\n",
    "MDD_dataset_list = []\n",
    "H_dataset_list = []\n",
    "\n",
    "for filename in MDD_dataset_Filenames:\n",
    "    data = mne.io.read_raw_edf('./full_dataset/MDD/EC/' + str(filename), verbose=0)\n",
    "    MDD_dataset_list.append(data)  \n",
    "    \n",
    "for filename in H_dataset_Filenames:\n",
    "    data = mne.io.read_raw_edf('./full_dataset/H/EC/' + str(filename), verbose=0)\n",
    "    H_dataset_list.append(data)  \n",
    "MDD_dataset_Filenames[0:29]\n",
    "H_dataset_Filenames[0:29]"
   ]
  },
  {
   "cell_type": "code",
   "execution_count": 3,
   "metadata": {
    "collapsed": false,
    "jupyter": {
     "outputs_hidden": false
    },
    "pycharm": {
     "is_executing": false,
     "name": "#%%\n"
    }
   },
   "outputs": [
    {
     "data": {
      "text/html": [
       "<div>\n",
       "<style scoped>\n",
       "    .dataframe tbody tr th:only-of-type {\n",
       "        vertical-align: middle;\n",
       "    }\n",
       "\n",
       "    .dataframe tbody tr th {\n",
       "        vertical-align: top;\n",
       "    }\n",
       "\n",
       "    .dataframe thead th {\n",
       "        text-align: right;\n",
       "    }\n",
       "</style>\n",
       "<table border=\"1\" class=\"dataframe\">\n",
       "  <thead>\n",
       "    <tr style=\"text-align: right;\">\n",
       "      <th></th>\n",
       "      <th>EEG Fp1-LE</th>\n",
       "      <th>EEG F7-LE</th>\n",
       "      <th>EEG Fp2-LE</th>\n",
       "      <th>EEG F8-LE</th>\n",
       "    </tr>\n",
       "  </thead>\n",
       "  <tbody>\n",
       "    <tr>\n",
       "      <th>0.000000</th>\n",
       "      <td>3.850294e-06</td>\n",
       "      <td>-7.450568e-06</td>\n",
       "      <td>4.550347e-06</td>\n",
       "      <td>5.450416e-06</td>\n",
       "    </tr>\n",
       "    <tr>\n",
       "      <th>0.003906</th>\n",
       "      <td>2.250172e-06</td>\n",
       "      <td>-7.750591e-06</td>\n",
       "      <td>2.650202e-06</td>\n",
       "      <td>8.550652e-06</td>\n",
       "    </tr>\n",
       "    <tr>\n",
       "      <th>0.007812</th>\n",
       "      <td>-5.000381e-08</td>\n",
       "      <td>-5.250401e-06</td>\n",
       "      <td>5.000381e-08</td>\n",
       "      <td>8.950683e-06</td>\n",
       "    </tr>\n",
       "    <tr>\n",
       "      <th>0.011719</th>\n",
       "      <td>-2.350179e-06</td>\n",
       "      <td>-2.050156e-06</td>\n",
       "      <td>-2.250172e-06</td>\n",
       "      <td>6.750515e-06</td>\n",
       "    </tr>\n",
       "    <tr>\n",
       "      <th>0.015625</th>\n",
       "      <td>-3.650278e-06</td>\n",
       "      <td>-1.500114e-07</td>\n",
       "      <td>-3.450263e-06</td>\n",
       "      <td>3.250248e-06</td>\n",
       "    </tr>\n",
       "    <tr>\n",
       "      <th>...</th>\n",
       "      <td>...</td>\n",
       "      <td>...</td>\n",
       "      <td>...</td>\n",
       "      <td>...</td>\n",
       "    </tr>\n",
       "    <tr>\n",
       "      <th>119.980469</th>\n",
       "      <td>-1.350103e-06</td>\n",
       "      <td>2.650202e-06</td>\n",
       "      <td>1.850141e-06</td>\n",
       "      <td>6.350484e-06</td>\n",
       "    </tr>\n",
       "    <tr>\n",
       "      <th>119.984375</th>\n",
       "      <td>-1.050080e-06</td>\n",
       "      <td>2.450187e-06</td>\n",
       "      <td>7.500572e-07</td>\n",
       "      <td>4.750362e-06</td>\n",
       "    </tr>\n",
       "    <tr>\n",
       "      <th>119.988281</th>\n",
       "      <td>4.500343e-07</td>\n",
       "      <td>2.450187e-06</td>\n",
       "      <td>5.000381e-08</td>\n",
       "      <td>2.350179e-06</td>\n",
       "    </tr>\n",
       "    <tr>\n",
       "      <th>119.992188</th>\n",
       "      <td>2.050156e-06</td>\n",
       "      <td>2.550195e-06</td>\n",
       "      <td>-2.500191e-07</td>\n",
       "      <td>4.500343e-07</td>\n",
       "    </tr>\n",
       "    <tr>\n",
       "      <th>119.996094</th>\n",
       "      <td>2.850217e-06</td>\n",
       "      <td>2.650202e-06</td>\n",
       "      <td>5.000381e-08</td>\n",
       "      <td>-1.500114e-07</td>\n",
       "    </tr>\n",
       "  </tbody>\n",
       "</table>\n",
       "<p>30720 rows × 4 columns</p>\n",
       "</div>"
      ],
      "text/plain": [
       "              EEG Fp1-LE     EEG F7-LE    EEG Fp2-LE     EEG F8-LE\n",
       "0.000000    3.850294e-06 -7.450568e-06  4.550347e-06  5.450416e-06\n",
       "0.003906    2.250172e-06 -7.750591e-06  2.650202e-06  8.550652e-06\n",
       "0.007812   -5.000381e-08 -5.250401e-06  5.000381e-08  8.950683e-06\n",
       "0.011719   -2.350179e-06 -2.050156e-06 -2.250172e-06  6.750515e-06\n",
       "0.015625   -3.650278e-06 -1.500114e-07 -3.450263e-06  3.250248e-06\n",
       "...                  ...           ...           ...           ...\n",
       "119.980469 -1.350103e-06  2.650202e-06  1.850141e-06  6.350484e-06\n",
       "119.984375 -1.050080e-06  2.450187e-06  7.500572e-07  4.750362e-06\n",
       "119.988281  4.500343e-07  2.450187e-06  5.000381e-08  2.350179e-06\n",
       "119.992188  2.050156e-06  2.550195e-06 -2.500191e-07  4.500343e-07\n",
       "119.996094  2.850217e-06  2.650202e-06  5.000381e-08 -1.500114e-07\n",
       "\n",
       "[30720 rows x 4 columns]"
      ]
     },
     "execution_count": 3,
     "metadata": {},
     "output_type": "execute_result"
    }
   ],
   "source": [
    "MDD_dataframe = [] #MDD 환자의 데이터프레임 리스트\n",
    "H_dataframe = [] #건강한 사람의 데이터프레임 리스트\n",
    "y = []\n",
    "eeg_columns = ['EEG Fp1-LE', 'EEG F7-LE', 'EEG Fp2-LE', 'EEG F8-LE']\n",
    "for raw in MDD_dataset_list:\n",
    "    raw_data = raw.get_data(return_times=True)\n",
    "    channels = raw.ch_names\n",
    "    T_data = np.transpose(raw_data[0])\n",
    "    time = np.transpose(raw_data[1])\n",
    "    temp = pd.DataFrame(T_data, columns = channels, index = time)\n",
    "    temp = temp[eeg_columns]\n",
    "    MDD_dataframe.append(temp.iloc[:30720]) #256 * 120 = 2min\n",
    "    y.append(1)\n",
    "    \n",
    "for raw in H_dataset_list:\n",
    "    raw_data = raw.get_data(return_times=True)\n",
    "    channels = raw.ch_names\n",
    "    T_data = np.transpose(raw_data[0])\n",
    "    time = np.transpose(raw_data[1])\n",
    "    temp = pd.DataFrame(temp)\n",
    "    temp = temp[eeg_columns]\n",
    "    H_dataframe.append(temp.iloc[:30720]) #256 * 120 = 2min\n",
    "    y.append(0)\n",
    "y = np.asarray(y)    \n",
    "MDD_dataframe[0]"
   ]
  },
  {
   "cell_type": "code",
   "execution_count": 4,
   "metadata": {},
   "outputs": [],
   "source": [
    "#MDD[26]환자 열 개수 조정\n",
    "MDD_dataframe[26] = MDD_dataframe[26][MDD_dataframe[0].columns]\n"
   ]
  },
  {
   "cell_type": "code",
   "execution_count": 5,
   "metadata": {
    "collapsed": false,
    "jupyter": {
     "outputs_hidden": false
    },
    "pycharm": {
     "is_executing": false,
     "name": "#%%\n"
    }
   },
   "outputs": [],
   "source": [
    "low_pass_filter = signal.firwin(101, cutoff=32, fs=256, pass_zero='lowpass')\n",
    "high_pass_filter = signal.firwin(101, cutoff=0.5, fs=256, pass_zero='highpass')"
   ]
  },
  {
   "cell_type": "code",
   "execution_count": 6,
   "metadata": {},
   "outputs": [],
   "source": [
    "for j in range(0, len(MDD_dataframe)):\n",
    "    col = list(MDD_dataframe[j].columns)\n",
    "    for i in range(0, len(col)):\n",
    "        clear_eeg = signal.lfilter(low_pass_filter, [1.0], MDD_dataframe[j][col[i]])\n",
    "        clear_eeg = signal.lfilter(high_pass_filter, [1.0], clear_eeg)\n",
    "        MDD_dataframe[j][col[i]] = clear_eeg"
   ]
  },
  {
   "cell_type": "code",
   "execution_count": 7,
   "metadata": {},
   "outputs": [
    {
     "name": "stderr",
     "output_type": "stream",
     "text": [
      "C:\\Users\\GC\\Anaconda3\\envs\\ark\\lib\\site-packages\\ipykernel_launcher.py:6: SettingWithCopyWarning: \n",
      "A value is trying to be set on a copy of a slice from a DataFrame.\n",
      "Try using .loc[row_indexer,col_indexer] = value instead\n",
      "\n",
      "See the caveats in the documentation: https://pandas.pydata.org/pandas-docs/stable/user_guide/indexing.html#returning-a-view-versus-a-copy\n",
      "  \n"
     ]
    }
   ],
   "source": [
    "for j in range(0, len(H_dataframe)):\n",
    "    col = list(H_dataframe[j].columns)\n",
    "    for i in range(0, len(col)):\n",
    "        clear_eeg = signal.lfilter(low_pass_filter, [1.0], H_dataframe[j][col[i]])\n",
    "        clear_eeg = signal.lfilter(high_pass_filter, [1.0], clear_eeg)\n",
    "        H_dataframe[j][col[i]] = clear_eeg"
   ]
  },
  {
   "cell_type": "code",
   "execution_count": 8,
   "metadata": {},
   "outputs": [
    {
     "data": {
      "text/plain": [
       "<matplotlib.axes._subplots.AxesSubplot at 0x28329b8b710>"
      ]
     },
     "execution_count": 8,
     "metadata": {},
     "output_type": "execute_result"
    },
    {
     "data": {
      "image/png": "[encoded data removed]",
      "text/plain": [
       "<Figure size 432x288 with 1 Axes>"
      ]
     },
     "metadata": {
      "needs_background": "light"
     },
     "output_type": "display_data"
    }
   ],
   "source": [
    "all_dataframe = MDD_dataframe + H_dataframe\n",
    "all_dataframe[0]['EEG Fp1-LE'].plot()"
   ]
  },
  {
   "cell_type": "code",
   "execution_count": 9,
   "metadata": {},
   "outputs": [],
   "source": [
    "delta_pass_filter =  signal.firwin(101, cutoff=[0.5,4], fs=256, pass_zero='bandpass')\n",
    "theta_pass_filter =  signal.firwin(101, cutoff=[4,8], fs=256, pass_zero='bandpass')\n",
    "alpha_pass_filter =  signal.firwin(101, cutoff=[8,13], fs=256, pass_zero='bandpass')\n",
    "beta_pass_filter =  signal.firwin(101, cutoff=[13,30], fs=256, pass_zero='bandpass')\n",
    "from sklearn.preprocessing import MinMaxScaler\n",
    "from sklearn.preprocessing import Normalizer\n",
    "\n",
    "def band_power(channel):\n",
    "    df = pd.DataFrame()\n",
    "    df['delta'] = signal.lfilter(delta_pass_filter, [1.0], channel)\n",
    "    df['theta'] = signal.lfilter(theta_pass_filter, [1.0], channel)\n",
    "    df['alpha'] = signal.lfilter(alpha_pass_filter, [1.0], channel)\n",
    "    df['beta'] = signal.lfilter(beta_pass_filter, [1.0], channel)\n",
    "    \n",
    "    return df\n"
   ]
  },
  {
   "cell_type": "code",
   "execution_count": null,
   "metadata": {},
   "outputs": [],
   "source": []
  },
  {
   "cell_type": "code",
   "execution_count": 10,
   "metadata": {},
   "outputs": [],
   "source": [
    "def eeg_band_power_seperate(input_dataframe):\n",
    "    #scaler = MinMaxScaler()\n",
    "    X = np.zeros((1,4,4,30720))\n",
    "    for dataframe in input_dataframe:\n",
    "        columns = list(dataframe.columns)\n",
    "        band_power_list = np.zeros((1,4,30720))\n",
    "        for i in range(len(columns)):\n",
    "            ch = band_power(dataframe[dataframe.columns[i]])\n",
    "            ch = np.asarray(ch)\n",
    "            band_power_list = np.vstack([band_power_list, ch.T[newaxis,:,:]])\n",
    "        band_power_list = band_power_list[1:]\n",
    "        X = np.vstack([X, band_power_list[newaxis,:,:,:]])\n",
    "    return X"
   ]
  },
  {
   "cell_type": "code",
   "execution_count": 11,
   "metadata": {},
   "outputs": [
    {
     "name": "stderr",
     "output_type": "stream",
     "text": [
      "Using TensorFlow backend.\n"
     ]
    }
   ],
   "source": [
    "from sklearn.metrics import roc_curve\n",
    "from keras import models\n",
    "from keras import layers\n",
    "from keras import backend as K\n",
    "\n",
    "def sensitivity(y_true, y_pred):\n",
    "    true_positives = K.sum(K.round(K.clip(y_true * y_pred, 0, 1)))\n",
    "    possible_positives = K.sum(K.round(K.clip(y_true, 0, 1)))\n",
    "    return true_positives / (possible_positives + K.epsilon())\n",
    "\n",
    "def specificity(y_true, y_pred):\n",
    "    true_negatives = K.sum(K.round(K.clip((1-y_true) * (1-y_pred), 0, 1)))\n",
    "    possible_negatives = K.sum(K.round(K.clip(1-y_true, 0, 1)))\n",
    "    return true_negatives / (possible_negatives + K.epsilon())\n"
   ]
  },
  {
   "cell_type": "code",
   "execution_count": 12,
   "metadata": {},
   "outputs": [],
   "source": [
    "def index_to_list(list, index):\n",
    "    return [list[i] for i in index]"
   ]
  },
  {
   "cell_type": "code",
   "execution_count": 13,
   "metadata": {},
   "outputs": [],
   "source": [
    "from sklearn.model_selection import train_test_split\n",
    "X_train, X_test, y_train, y_test = train_test_split(all_dataframe, y, test_size=0.3, random_state = 1)\n",
    "X_train = eeg_band_power_seperate(X_train)\n",
    "X_test = eeg_band_power_seperate(X_test)"
   ]
  },
  {
   "cell_type": "code",
   "execution_count": 14,
   "metadata": {},
   "outputs": [],
   "source": [
    "X_train = X_train[1:]\n",
    "X_test = X_test[1:]\n"
   ]
  },
  {
   "cell_type": "code",
   "execution_count": 15,
   "metadata": {},
   "outputs": [
    {
     "data": {
      "text/plain": [
       "(30720, 656)"
      ]
     },
     "execution_count": 15,
     "metadata": {},
     "output_type": "execute_result"
    }
   ],
   "source": [
    "from sklearn.preprocessing import Normalizer\n",
    "scaler = Normalizer()\n",
    "X_train = X_train.reshape(41*16,30720).T\n",
    "X_test = X_test.reshape(18*16,30720).T\n",
    "\n",
    "X_train = scaler.fit_transform(X_train)\n",
    "X_test = scaler.transform(X_test)\n",
    "X_train.shape"
   ]
  },
  {
   "cell_type": "code",
   "execution_count": 16,
   "metadata": {},
   "outputs": [],
   "source": [
    "X_train = X_train.T.reshape(41,4,4,30720)\n",
    "X_test = X_test.T.reshape(18,4,4,30720)"
   ]
  },
  {
   "cell_type": "code",
   "execution_count": 17,
   "metadata": {},
   "outputs": [],
   "source": [
    "#X_train = X_train.transpose(0,2,3,1)\n",
    "#X_test = X_test.transpose(0,2,3,1)"
   ]
  },
  {
   "cell_type": "code",
   "execution_count": 18,
   "metadata": {},
   "outputs": [],
   "source": [
    "SEED = 123456123\n",
    "import os\n",
    "import random as rn\n",
    "import numpy as np\n",
    "\n",
    "os.environ['PYTHONHASHSEED']=str(SEED)\n",
    "np.random.seed(SEED)\n",
    "rn.seed(SEED)"
   ]
  },
  {
   "cell_type": "code",
   "execution_count": 19,
   "metadata": {},
   "outputs": [],
   "source": [
    "from keras.callbacks import EarlyStopping\n",
    "es = EarlyStopping(monitor='val_loss', mode='min', verbose=1, patience=30)"
   ]
  },
  {
   "cell_type": "code",
   "execution_count": 30,
   "metadata": {},
   "outputs": [],
   "source": [
    "from keras.optimizers import Adam\n",
    "def conv2d_model():\n",
    "    opt = Adam(lr=0.0001)\n",
    "    model = models.Sequential()\n",
    "\n",
    "            #1\n",
    "    model.add(layers.Conv2D(64, 4, 4,\n",
    "                            border_mode='same',\n",
    "                            activation='relu',\n",
    "                            input_shape=(4,4,30720)))\n",
    "    model.add(layers.MaxPooling2D(pool_size=(4,4),padding = 'same'))\n",
    "    model.add(layers.Dropout(0.5))\n",
    "    model.add(layers.Conv2D(8, 4, 4,\n",
    "                            border_mode='same',\n",
    "                            activation='relu'))\n",
    "    model.add(layers.MaxPooling2D(pool_size=(2,2),padding = 'same'))\n",
    "\n",
    "    model.add(layers.Flatten())\n",
    "    model.add(layers.Dense(64, activation='relu'))\n",
    "    model.add(layers.Dropout(0.5))\n",
    "    model.add(layers.Dense(128, activation='relu'))\n",
    "    model.add(layers.Dense(1, activation='sigmoid'))\n",
    "\n",
    "\n",
    "    model.compile(optimizer=opt,\n",
    "                    loss='binary_crossentropy',\n",
    "                    metrics=['accuracy', sensitivity, specificity])\n",
    "    return model"
   ]
  },
  {
   "cell_type": "code",
   "execution_count": 33,
   "metadata": {},
   "outputs": [],
   "source": [
    "K.clear_session()"
   ]
  },
  {
   "cell_type": "code",
   "execution_count": 34,
   "metadata": {},
   "outputs": [
    {
     "name": "stderr",
     "output_type": "stream",
     "text": [
      "C:\\Users\\GC\\Anaconda3\\envs\\ark\\lib\\site-packages\\ipykernel_launcher.py:10: UserWarning: Update your `Conv2D` call to the Keras 2 API: `Conv2D(64, (4, 4), activation=\"relu\", input_shape=(4, 4, 307..., padding=\"same\")`\n",
      "  # Remove the CWD from sys.path while we load stuff.\n",
      "C:\\Users\\GC\\Anaconda3\\envs\\ark\\lib\\site-packages\\ipykernel_launcher.py:15: UserWarning: Update your `Conv2D` call to the Keras 2 API: `Conv2D(8, (4, 4), activation=\"relu\", padding=\"same\")`\n",
      "  from ipykernel import kernelapp as app\n"
     ]
    },
    {
     "name": "stdout",
     "output_type": "stream",
     "text": [
      "Train on 41 samples, validate on 18 samples\n",
      "Epoch 1/40\n",
      "41/41 [==============================] - 1s 14ms/step - loss: 0.6939 - accuracy: 0.4146 - sensitivity: 0.2609 - specificity: 0.6111 - val_loss: 0.6840 - val_accuracy: 0.6111 - val_sensitivity: 0.0000e+00 - val_specificity: 1.0000\n",
      "Epoch 2/40\n",
      "41/41 [==============================] - 0s 8ms/step - loss: 0.6860 - accuracy: 0.5122 - sensitivity: 0.2174 - specificity: 0.8889 - val_loss: 0.6658 - val_accuracy: 0.7778 - val_sensitivity: 0.4286 - val_specificity: 1.0000\n",
      "Epoch 3/40\n",
      "41/41 [==============================] - 0s 9ms/step - loss: 0.6687 - accuracy: 0.7561 - sensitivity: 0.6087 - specificity: 0.9444 - val_loss: 0.6464 - val_accuracy: 0.7778 - val_sensitivity: 0.4286 - val_specificity: 1.0000\n",
      "Epoch 4/40\n",
      "41/41 [==============================] - 0s 8ms/step - loss: 0.6665 - accuracy: 0.7561 - sensitivity: 0.6087 - specificity: 0.9444 - val_loss: 0.6227 - val_accuracy: 0.8333 - val_sensitivity: 0.5714 - val_specificity: 1.0000\n",
      "Epoch 5/40\n",
      "41/41 [==============================] - 0s 8ms/step - loss: 0.6597 - accuracy: 0.6341 - sensitivity: 0.4348 - specificity: 0.8889 - val_loss: 0.5959 - val_accuracy: 0.8333 - val_sensitivity: 0.5714 - val_specificity: 1.0000\n",
      "Epoch 6/40\n",
      "41/41 [==============================] - 0s 8ms/step - loss: 0.6475 - accuracy: 0.6585 - sensitivity: 0.4783 - specificity: 0.8889 - val_loss: 0.5700 - val_accuracy: 0.8889 - val_sensitivity: 0.7143 - val_specificity: 1.0000\n",
      "Epoch 7/40\n",
      "41/41 [==============================] - 0s 8ms/step - loss: 0.6236 - accuracy: 0.8049 - sensitivity: 0.7391 - specificity: 0.8889 - val_loss: 0.5399 - val_accuracy: 0.8889 - val_sensitivity: 0.7143 - val_specificity: 1.0000\n",
      "Epoch 8/40\n",
      "41/41 [==============================] - 0s 8ms/step - loss: 0.6152 - accuracy: 0.7561 - sensitivity: 0.6087 - specificity: 0.9444 - val_loss: 0.5119 - val_accuracy: 0.8889 - val_sensitivity: 0.7143 - val_specificity: 1.0000\n",
      "Epoch 9/40\n",
      "41/41 [==============================] - 0s 8ms/step - loss: 0.6110 - accuracy: 0.7317 - sensitivity: 0.6087 - specificity: 0.8889 - val_loss: 0.4875 - val_accuracy: 0.8889 - val_sensitivity: 0.7143 - val_specificity: 1.0000\n",
      "Epoch 10/40\n",
      "41/41 [==============================] - 0s 8ms/step - loss: 0.5784 - accuracy: 0.7561 - sensitivity: 0.5652 - specificity: 1.0000 - val_loss: 0.4657 - val_accuracy: 0.8889 - val_sensitivity: 0.7143 - val_specificity: 1.0000\n",
      "Epoch 11/40\n",
      "41/41 [==============================] - 0s 8ms/step - loss: 0.5629 - accuracy: 0.7561 - sensitivity: 0.5652 - specificity: 1.0000 - val_loss: 0.4432 - val_accuracy: 0.8889 - val_sensitivity: 0.7143 - val_specificity: 1.0000\n",
      "Epoch 12/40\n",
      "41/41 [==============================] - 0s 8ms/step - loss: 0.5652 - accuracy: 0.8537 - sensitivity: 0.7391 - specificity: 1.0000 - val_loss: 0.4214 - val_accuracy: 0.8889 - val_sensitivity: 0.7143 - val_specificity: 1.0000\n",
      "Epoch 13/40\n",
      "41/41 [==============================] - 0s 8ms/step - loss: 0.5547 - accuracy: 0.8293 - sensitivity: 0.6957 - specificity: 1.0000 - val_loss: 0.4015 - val_accuracy: 0.9444 - val_sensitivity: 0.8571 - val_specificity: 1.0000\n",
      "Epoch 14/40\n",
      "41/41 [==============================] - 0s 8ms/step - loss: 0.5100 - accuracy: 0.8537 - sensitivity: 0.7826 - specificity: 0.9444 - val_loss: 0.3831 - val_accuracy: 0.9444 - val_sensitivity: 0.8571 - val_specificity: 1.0000\n",
      "Epoch 15/40\n",
      "41/41 [==============================] - 0s 8ms/step - loss: 0.5205 - accuracy: 0.8537 - sensitivity: 0.7391 - specificity: 1.0000 - val_loss: 0.3663 - val_accuracy: 0.9444 - val_sensitivity: 0.8571 - val_specificity: 1.0000\n",
      "Epoch 16/40\n",
      "41/41 [==============================] - 0s 8ms/step - loss: 0.4976 - accuracy: 0.8293 - sensitivity: 0.6957 - specificity: 1.0000 - val_loss: 0.3514 - val_accuracy: 0.9444 - val_sensitivity: 0.8571 - val_specificity: 1.0000\n",
      "Epoch 17/40\n",
      "41/41 [==============================] - 0s 8ms/step - loss: 0.5352 - accuracy: 0.7561 - sensitivity: 0.6087 - specificity: 0.9444 - val_loss: 0.3379 - val_accuracy: 0.9444 - val_sensitivity: 0.8571 - val_specificity: 1.0000\n",
      "Epoch 18/40\n",
      "41/41 [==============================] - 0s 8ms/step - loss: 0.5665 - accuracy: 0.7561 - sensitivity: 0.6957 - specificity: 0.8333 - val_loss: 0.3258 - val_accuracy: 0.9444 - val_sensitivity: 0.8571 - val_specificity: 1.0000\n",
      "Epoch 19/40\n",
      "41/41 [==============================] - 0s 8ms/step - loss: 0.4708 - accuracy: 0.8537 - sensitivity: 0.7826 - specificity: 0.9444 - val_loss: 0.3147 - val_accuracy: 0.9444 - val_sensitivity: 0.8571 - val_specificity: 1.0000\n",
      "Epoch 20/40\n",
      "41/41 [==============================] - 0s 8ms/step - loss: 0.4785 - accuracy: 0.8049 - sensitivity: 0.6522 - specificity: 1.0000 - val_loss: 0.3050 - val_accuracy: 0.9444 - val_sensitivity: 0.8571 - val_specificity: 1.0000\n",
      "Epoch 21/40\n",
      "41/41 [==============================] - 0s 8ms/step - loss: 0.5188 - accuracy: 0.8293 - sensitivity: 0.6957 - specificity: 1.0000 - val_loss: 0.2968 - val_accuracy: 0.9444 - val_sensitivity: 0.8571 - val_specificity: 1.0000\n",
      "Epoch 22/40\n",
      "41/41 [==============================] - 0s 8ms/step - loss: 0.4805 - accuracy: 0.8537 - sensitivity: 0.7391 - specificity: 1.0000 - val_loss: 0.2899 - val_accuracy: 0.9444 - val_sensitivity: 0.8571 - val_specificity: 1.0000\n",
      "Epoch 23/40\n",
      "41/41 [==============================] - 0s 8ms/step - loss: 0.5110 - accuracy: 0.8780 - sensitivity: 0.8261 - specificity: 0.9444 - val_loss: 0.2840 - val_accuracy: 0.9444 - val_sensitivity: 0.8571 - val_specificity: 1.0000\n",
      "Epoch 24/40\n",
      "41/41 [==============================] - 0s 8ms/step - loss: 0.5308 - accuracy: 0.7561 - sensitivity: 0.5652 - specificity: 1.0000 - val_loss: 0.2789 - val_accuracy: 0.9444 - val_sensitivity: 0.8571 - val_specificity: 1.0000\n",
      "Epoch 25/40\n",
      "41/41 [==============================] - 0s 8ms/step - loss: 0.4670 - accuracy: 0.9024 - sensitivity: 0.8261 - specificity: 1.0000 - val_loss: 0.2744 - val_accuracy: 0.9444 - val_sensitivity: 0.8571 - val_specificity: 1.0000\n",
      "Epoch 26/40\n",
      "41/41 [==============================] - 0s 8ms/step - loss: 0.5072 - accuracy: 0.8537 - sensitivity: 0.7391 - specificity: 1.0000 - val_loss: 0.2706 - val_accuracy: 0.9444 - val_sensitivity: 0.8571 - val_specificity: 1.0000\n",
      "Epoch 27/40\n",
      "41/41 [==============================] - 0s 8ms/step - loss: 0.4149 - accuracy: 0.9268 - sensitivity: 0.8696 - specificity: 1.0000 - val_loss: 0.2671 - val_accuracy: 0.9444 - val_sensitivity: 0.8571 - val_specificity: 1.0000\n",
      "Epoch 28/40\n",
      "41/41 [==============================] - 0s 8ms/step - loss: 0.4643 - accuracy: 0.8293 - sensitivity: 0.6957 - specificity: 1.0000 - val_loss: 0.2639 - val_accuracy: 0.9444 - val_sensitivity: 0.8571 - val_specificity: 1.0000\n",
      "Epoch 29/40\n",
      "41/41 [==============================] - 0s 8ms/step - loss: 0.4539 - accuracy: 0.9268 - sensitivity: 0.8696 - specificity: 1.0000 - val_loss: 0.2609 - val_accuracy: 0.9444 - val_sensitivity: 0.8571 - val_specificity: 1.0000\n",
      "Epoch 30/40\n",
      "41/41 [==============================] - 0s 8ms/step - loss: 0.4877 - accuracy: 0.9024 - sensitivity: 0.8696 - specificity: 0.9444 - val_loss: 0.2584 - val_accuracy: 0.9444 - val_sensitivity: 0.8571 - val_specificity: 1.0000\n",
      "Epoch 31/40\n",
      "41/41 [==============================] - 0s 8ms/step - loss: 0.4214 - accuracy: 0.8537 - sensitivity: 0.7391 - specificity: 1.0000 - val_loss: 0.2562 - val_accuracy: 0.9444 - val_sensitivity: 0.8571 - val_specificity: 1.0000\n",
      "Epoch 32/40\n",
      "41/41 [==============================] - 0s 8ms/step - loss: 0.4457 - accuracy: 0.9512 - sensitivity: 0.9565 - specificity: 0.9444 - val_loss: 0.2541 - val_accuracy: 0.9444 - val_sensitivity: 0.8571 - val_specificity: 1.0000\n",
      "Epoch 33/40\n",
      "41/41 [==============================] - 0s 8ms/step - loss: 0.4221 - accuracy: 0.9512 - sensitivity: 0.9130 - specificity: 1.0000 - val_loss: 0.2522 - val_accuracy: 0.9444 - val_sensitivity: 0.8571 - val_specificity: 1.0000\n",
      "Epoch 34/40\n",
      "41/41 [==============================] - 0s 8ms/step - loss: 0.4149 - accuracy: 0.9756 - sensitivity: 0.9565 - specificity: 1.0000 - val_loss: 0.2504 - val_accuracy: 0.9444 - val_sensitivity: 0.8571 - val_specificity: 1.0000\n",
      "Epoch 35/40\n",
      "41/41 [==============================] - 0s 8ms/step - loss: 0.4277 - accuracy: 0.8780 - sensitivity: 0.7826 - specificity: 1.0000 - val_loss: 0.2488 - val_accuracy: 0.9444 - val_sensitivity: 0.8571 - val_specificity: 1.0000\n",
      "Epoch 36/40\n",
      "41/41 [==============================] - 0s 8ms/step - loss: 0.3696 - accuracy: 0.9268 - sensitivity: 0.8696 - specificity: 1.0000 - val_loss: 0.2472 - val_accuracy: 0.9444 - val_sensitivity: 0.8571 - val_specificity: 1.0000\n",
      "Epoch 37/40\n",
      "41/41 [==============================] - 0s 8ms/step - loss: 0.4174 - accuracy: 0.9512 - sensitivity: 0.9130 - specificity: 1.0000 - val_loss: 0.2458 - val_accuracy: 0.9444 - val_sensitivity: 0.8571 - val_specificity: 1.0000\n",
      "Epoch 38/40\n",
      "41/41 [==============================] - 0s 8ms/step - loss: 0.4313 - accuracy: 0.9268 - sensitivity: 0.8696 - specificity: 1.0000 - val_loss: 0.2443 - val_accuracy: 0.9444 - val_sensitivity: 0.8571 - val_specificity: 1.0000\n",
      "Epoch 39/40\n",
      "41/41 [==============================] - 0s 8ms/step - loss: 0.3788 - accuracy: 0.8780 - sensitivity: 0.7826 - specificity: 1.0000 - val_loss: 0.2429 - val_accuracy: 0.9444 - val_sensitivity: 0.8571 - val_specificity: 1.0000\n",
      "Epoch 40/40\n",
      "41/41 [==============================] - 0s 8ms/step - loss: 0.3736 - accuracy: 0.9756 - sensitivity: 0.9565 - specificity: 1.0000 - val_loss: 0.2415 - val_accuracy: 0.9444 - val_sensitivity: 0.8571 - val_specificity: 1.0000\n"
     ]
    }
   ],
   "source": [
    "model = conv2d_model()\n",
    "history = model.fit(X_train, y_train, epochs=40, batch_size=256, verbose=1, validation_data = (X_test, y_test))\n",
    "history_dict = history.history"
   ]
  },
  {
   "cell_type": "code",
   "execution_count": 35,
   "metadata": {},
   "outputs": [
    {
     "name": "stdout",
     "output_type": "stream",
     "text": [
      "18/18 [==============================] - 0s 6ms/step\n"
     ]
    },
    {
     "data": {
      "text/plain": [
       "[0.24154755473136902, 0.9444444179534912, 0.8571428656578064, 1.0]"
      ]
     },
     "execution_count": 35,
     "metadata": {},
     "output_type": "execute_result"
    }
   ],
   "source": [
    "model.evaluate(X_test, y_test)"
   ]
  },
  {
   "cell_type": "code",
   "execution_count": 56,
   "metadata": {},
   "outputs": [
    {
     "data": {
      "text/plain": [
       "<matplotlib.legend.Legend at 0x2835737bf28>"
      ]
     },
     "execution_count": 56,
     "metadata": {},
     "output_type": "execute_result"
    },
    {
     "data": {
      "image/png": "[encoded data removed]",
      "text/plain": [
       "<Figure size 720x720 with 1 Axes>"
      ]
     },
     "metadata": {
      "needs_background": "light"
     },
     "output_type": "display_data"
    }
   ],
   "source": [
    "\n",
    "accuracy = history_dict['accuracy']   \n",
    "val_accuracy = history_dict['val_accuracy']\n",
    "epochs = range(1, len(accuracy) + 1)\n",
    "plt.figure(figsize=(10,10))\n",
    "\n",
    "plt.plot(epochs, accuracy, 'r', label='Training accuracy')\n",
    "plt.plot(epochs, val_accuracy, 'orange', label='Test accuracy')\n",
    "plt.xlabel('Epochs')\n",
    "plt.ylabel('Accuracy')\n",
    "plt.ylim(0,1.01)\n",
    "plt.legend()"
   ]
  },
  {
   "cell_type": "code",
   "execution_count": 57,
   "metadata": {},
   "outputs": [
    {
     "data": {
      "text/plain": [
       "<matplotlib.legend.Legend at 0x28485488048>"
      ]
     },
     "execution_count": 57,
     "metadata": {},
     "output_type": "execute_result"
    },
    {
     "data": {
      "image/png": "[encoded data removed]",
      "text/plain": [
       "<Figure size 720x720 with 1 Axes>"
      ]
     },
     "metadata": {
      "needs_background": "light"
     },
     "output_type": "display_data"
    }
   ],
   "source": [
    "loss = history_dict['loss']   \n",
    "val_loss = history_dict['val_loss']\n",
    "plt.figure(figsize=(10,10))\n",
    "epochs = range(1, len(loss) + 1)\n",
    "\n",
    "plt.plot(epochs, loss, 'r', label='Training loss')\n",
    "plt.plot(epochs, val_loss, 'orange', label='Test loss')\n",
    "plt.xlabel('Epochs')\n",
    "plt.ylabel('loss')\n",
    "plt.ylim(0,1.01)\n",
    "plt.legend()"
   ]
  },
  {
   "cell_type": "code",
   "execution_count": 65,
   "metadata": {},
   "outputs": [
    {
     "data": {
      "text/plain": [
       "<matplotlib.legend.Legend at 0x2834ca6c128>"
      ]
     },
     "execution_count": 65,
     "metadata": {},
     "output_type": "execute_result"
    },
    {
     "data": {
      "image/png": "[encoded data removed]",
      "text/plain": [
       "<Figure size 1152x576 with 2 Axes>"
      ]
     },
     "metadata": {
      "needs_background": "light"
     },
     "output_type": "display_data"
    }
   ],
   "source": [
    "\n",
    "accuracy = history_dict['accuracy']   \n",
    "val_accuracy = history_dict['val_accuracy']\n",
    "epochs = range(1, len(accuracy) + 1)\n",
    "plt.figure(figsize=(16,8))\n",
    "plt.subplot(1,2,1)\n",
    "plt.title(\"Train-test accuracy\")\n",
    "plt.plot(epochs, accuracy, 'r', label='Train accuracy')\n",
    "plt.plot(epochs, val_accuracy, 'orange', label='Test accuracy')\n",
    "plt.xlabel('Epochs')\n",
    "plt.ylabel('Accuracy')\n",
    "plt.ylim(0,1.01)\n",
    "plt.legend()\n",
    "\n",
    "loss = history_dict['loss']   \n",
    "val_loss = history_dict['val_loss']\n",
    "\n",
    "plt.subplot(1,2,2)\n",
    "epochs = range(1, len(loss) + 1)\n",
    "plt.title(\"Train-test loss\")\n",
    "plt.plot(epochs, loss, 'r', label='Train loss')\n",
    "plt.plot(epochs, val_loss, 'orange', label='Test loss')\n",
    "plt.xlabel('Epochs')\n",
    "plt.ylabel('loss')\n",
    "plt.ylim(0,1.01)\n",
    "plt.legend()\n"
   ]
  },
  {
   "cell_type": "code",
   "execution_count": 82,
   "metadata": {},
   "outputs": [
    {
     "name": "stdout",
     "output_type": "stream",
     "text": [
      "Model: \"sequential_3\"\n",
      "_________________________________________________________________\n",
      "Layer (type)                 Output Shape              Param #   \n",
      "=================================================================\n",
      "conv2d_5 (Conv2D)            (None, 4, 4, 64)          31457344  \n",
      "_________________________________________________________________\n",
      "max_pooling2d_5 (MaxPooling2 (None, 1, 1, 64)          0         \n",
      "_________________________________________________________________\n",
      "dropout_5 (Dropout)          (None, 1, 1, 64)          0         \n",
      "_________________________________________________________________\n",
      "conv2d_6 (Conv2D)            (None, 1, 1, 8)           8200      \n",
      "_________________________________________________________________\n",
      "max_pooling2d_6 (MaxPooling2 (None, 1, 1, 8)           0         \n",
      "_________________________________________________________________\n",
      "flatten_3 (Flatten)          (None, 8)                 0         \n",
      "_________________________________________________________________\n",
      "dense_7 (Dense)              (None, 64)                576       \n",
      "_________________________________________________________________\n",
      "dropout_6 (Dropout)          (None, 64)                0         \n",
      "_________________________________________________________________\n",
      "dense_8 (Dense)              (None, 128)               8320      \n",
      "_________________________________________________________________\n",
      "dense_9 (Dense)              (None, 1)                 129       \n",
      "=================================================================\n",
      "Total params: 31,474,569\n",
      "Trainable params: 31,474,569\n",
      "Non-trainable params: 0\n",
      "_________________________________________________________________\n"
     ]
    }
   ],
   "source": [
    "model.summary()"
   ]
  },
  {
   "cell_type": "code",
   "execution_count": 83,
   "metadata": {},
   "outputs": [],
   "source": [
    "model.save('MDD_model.h5')"
   ]
  },
  {
   "cell_type": "code",
   "execution_count": 84,
   "metadata": {},
   "outputs": [],
   "source": [
    "import pickle\n",
    "with open('model.pickle', 'wb') as f:\n",
    "    pickle.dump(history, f, pickle.HIGHEST_PROTOCOL)\n",
    "    "
   ]
  },
  {
   "cell_type": "markdown",
   "metadata": {},
   "source": [
    "# K-fold Val"
   ]
  },
  {
   "cell_type": "code",
   "execution_count": 50,
   "metadata": {},
   "outputs": [
    {
     "name": "stderr",
     "output_type": "stream",
     "text": [
      "C:\\Users\\GC\\Anaconda3\\envs\\ark\\lib\\site-packages\\ipykernel_launcher.py:10: UserWarning: Update your `Conv2D` call to the Keras 2 API: `Conv2D(64, (4, 4), activation=\"relu\", input_shape=(4, 4, 307..., padding=\"same\")`\n",
      "  # Remove the CWD from sys.path while we load stuff.\n",
      "C:\\Users\\GC\\Anaconda3\\envs\\ark\\lib\\site-packages\\ipykernel_launcher.py:15: UserWarning: Update your `Conv2D` call to the Keras 2 API: `Conv2D(8, (4, 4), activation=\"relu\", padding=\"same\")`\n",
      "  from ipykernel import kernelapp as app\n"
     ]
    },
    {
     "name": "stdout",
     "output_type": "stream",
     "text": [
      "\n",
      "\n"
     ]
    },
    {
     "name": "stderr",
     "output_type": "stream",
     "text": [
      "C:\\Users\\GC\\Anaconda3\\envs\\ark\\lib\\site-packages\\ipykernel_launcher.py:10: UserWarning: Update your `Conv2D` call to the Keras 2 API: `Conv2D(64, (4, 4), activation=\"relu\", input_shape=(4, 4, 307..., padding=\"same\")`\n",
      "  # Remove the CWD from sys.path while we load stuff.\n",
      "C:\\Users\\GC\\Anaconda3\\envs\\ark\\lib\\site-packages\\ipykernel_launcher.py:15: UserWarning: Update your `Conv2D` call to the Keras 2 API: `Conv2D(8, (4, 4), activation=\"relu\", padding=\"same\")`\n",
      "  from ipykernel import kernelapp as app\n"
     ]
    },
    {
     "name": "stdout",
     "output_type": "stream",
     "text": [
      "\n",
      "\n"
     ]
    },
    {
     "name": "stderr",
     "output_type": "stream",
     "text": [
      "C:\\Users\\GC\\Anaconda3\\envs\\ark\\lib\\site-packages\\ipykernel_launcher.py:10: UserWarning: Update your `Conv2D` call to the Keras 2 API: `Conv2D(64, (4, 4), activation=\"relu\", input_shape=(4, 4, 307..., padding=\"same\")`\n",
      "  # Remove the CWD from sys.path while we load stuff.\n",
      "C:\\Users\\GC\\Anaconda3\\envs\\ark\\lib\\site-packages\\ipykernel_launcher.py:15: UserWarning: Update your `Conv2D` call to the Keras 2 API: `Conv2D(8, (4, 4), activation=\"relu\", padding=\"same\")`\n",
      "  from ipykernel import kernelapp as app\n"
     ]
    },
    {
     "name": "stdout",
     "output_type": "stream",
     "text": [
      "\n",
      "\n"
     ]
    },
    {
     "name": "stderr",
     "output_type": "stream",
     "text": [
      "C:\\Users\\GC\\Anaconda3\\envs\\ark\\lib\\site-packages\\ipykernel_launcher.py:10: UserWarning: Update your `Conv2D` call to the Keras 2 API: `Conv2D(64, (4, 4), activation=\"relu\", input_shape=(4, 4, 307..., padding=\"same\")`\n",
      "  # Remove the CWD from sys.path while we load stuff.\n",
      "C:\\Users\\GC\\Anaconda3\\envs\\ark\\lib\\site-packages\\ipykernel_launcher.py:15: UserWarning: Update your `Conv2D` call to the Keras 2 API: `Conv2D(8, (4, 4), activation=\"relu\", padding=\"same\")`\n",
      "  from ipykernel import kernelapp as app\n"
     ]
    },
    {
     "name": "stdout",
     "output_type": "stream",
     "text": [
      "\n",
      "\n"
     ]
    },
    {
     "name": "stderr",
     "output_type": "stream",
     "text": [
      "C:\\Users\\GC\\Anaconda3\\envs\\ark\\lib\\site-packages\\ipykernel_launcher.py:10: UserWarning: Update your `Conv2D` call to the Keras 2 API: `Conv2D(64, (4, 4), activation=\"relu\", input_shape=(4, 4, 307..., padding=\"same\")`\n",
      "  # Remove the CWD from sys.path while we load stuff.\n",
      "C:\\Users\\GC\\Anaconda3\\envs\\ark\\lib\\site-packages\\ipykernel_launcher.py:15: UserWarning: Update your `Conv2D` call to the Keras 2 API: `Conv2D(8, (4, 4), activation=\"relu\", padding=\"same\")`\n",
      "  from ipykernel import kernelapp as app\n"
     ]
    },
    {
     "name": "stdout",
     "output_type": "stream",
     "text": [
      "\n",
      "\n"
     ]
    },
    {
     "name": "stderr",
     "output_type": "stream",
     "text": [
      "C:\\Users\\GC\\Anaconda3\\envs\\ark\\lib\\site-packages\\ipykernel_launcher.py:10: UserWarning: Update your `Conv2D` call to the Keras 2 API: `Conv2D(64, (4, 4), activation=\"relu\", input_shape=(4, 4, 307..., padding=\"same\")`\n",
      "  # Remove the CWD from sys.path while we load stuff.\n",
      "C:\\Users\\GC\\Anaconda3\\envs\\ark\\lib\\site-packages\\ipykernel_launcher.py:15: UserWarning: Update your `Conv2D` call to the Keras 2 API: `Conv2D(8, (4, 4), activation=\"relu\", padding=\"same\")`\n",
      "  from ipykernel import kernelapp as app\n"
     ]
    },
    {
     "name": "stdout",
     "output_type": "stream",
     "text": [
      "\n",
      "\n"
     ]
    },
    {
     "name": "stderr",
     "output_type": "stream",
     "text": [
      "C:\\Users\\GC\\Anaconda3\\envs\\ark\\lib\\site-packages\\ipykernel_launcher.py:10: UserWarning: Update your `Conv2D` call to the Keras 2 API: `Conv2D(64, (4, 4), activation=\"relu\", input_shape=(4, 4, 307..., padding=\"same\")`\n",
      "  # Remove the CWD from sys.path while we load stuff.\n",
      "C:\\Users\\GC\\Anaconda3\\envs\\ark\\lib\\site-packages\\ipykernel_launcher.py:15: UserWarning: Update your `Conv2D` call to the Keras 2 API: `Conv2D(8, (4, 4), activation=\"relu\", padding=\"same\")`\n",
      "  from ipykernel import kernelapp as app\n"
     ]
    },
    {
     "name": "stdout",
     "output_type": "stream",
     "text": [
      "\n",
      "\n"
     ]
    },
    {
     "name": "stderr",
     "output_type": "stream",
     "text": [
      "C:\\Users\\GC\\Anaconda3\\envs\\ark\\lib\\site-packages\\ipykernel_launcher.py:10: UserWarning: Update your `Conv2D` call to the Keras 2 API: `Conv2D(64, (4, 4), activation=\"relu\", input_shape=(4, 4, 307..., padding=\"same\")`\n",
      "  # Remove the CWD from sys.path while we load stuff.\n",
      "C:\\Users\\GC\\Anaconda3\\envs\\ark\\lib\\site-packages\\ipykernel_launcher.py:15: UserWarning: Update your `Conv2D` call to the Keras 2 API: `Conv2D(8, (4, 4), activation=\"relu\", padding=\"same\")`\n",
      "  from ipykernel import kernelapp as app\n"
     ]
    },
    {
     "name": "stdout",
     "output_type": "stream",
     "text": [
      "\n",
      "\n"
     ]
    },
    {
     "name": "stderr",
     "output_type": "stream",
     "text": [
      "C:\\Users\\GC\\Anaconda3\\envs\\ark\\lib\\site-packages\\ipykernel_launcher.py:10: UserWarning: Update your `Conv2D` call to the Keras 2 API: `Conv2D(64, (4, 4), activation=\"relu\", input_shape=(4, 4, 307..., padding=\"same\")`\n",
      "  # Remove the CWD from sys.path while we load stuff.\n",
      "C:\\Users\\GC\\Anaconda3\\envs\\ark\\lib\\site-packages\\ipykernel_launcher.py:15: UserWarning: Update your `Conv2D` call to the Keras 2 API: `Conv2D(8, (4, 4), activation=\"relu\", padding=\"same\")`\n",
      "  from ipykernel import kernelapp as app\n"
     ]
    },
    {
     "name": "stdout",
     "output_type": "stream",
     "text": [
      "\n",
      "\n"
     ]
    },
    {
     "name": "stderr",
     "output_type": "stream",
     "text": [
      "C:\\Users\\GC\\Anaconda3\\envs\\ark\\lib\\site-packages\\ipykernel_launcher.py:10: UserWarning: Update your `Conv2D` call to the Keras 2 API: `Conv2D(64, (4, 4), activation=\"relu\", input_shape=(4, 4, 307..., padding=\"same\")`\n",
      "  # Remove the CWD from sys.path while we load stuff.\n",
      "C:\\Users\\GC\\Anaconda3\\envs\\ark\\lib\\site-packages\\ipykernel_launcher.py:15: UserWarning: Update your `Conv2D` call to the Keras 2 API: `Conv2D(8, (4, 4), activation=\"relu\", padding=\"same\")`\n",
      "  from ipykernel import kernelapp as app\n"
     ]
    },
    {
     "name": "stdout",
     "output_type": "stream",
     "text": [
      "\n",
      "\n"
     ]
    },
    {
     "name": "stderr",
     "output_type": "stream",
     "text": [
      "C:\\Users\\GC\\Anaconda3\\envs\\ark\\lib\\site-packages\\ipykernel_launcher.py:10: UserWarning: Update your `Conv2D` call to the Keras 2 API: `Conv2D(64, (4, 4), activation=\"relu\", input_shape=(4, 4, 307..., padding=\"same\")`\n",
      "  # Remove the CWD from sys.path while we load stuff.\n",
      "C:\\Users\\GC\\Anaconda3\\envs\\ark\\lib\\site-packages\\ipykernel_launcher.py:15: UserWarning: Update your `Conv2D` call to the Keras 2 API: `Conv2D(8, (4, 4), activation=\"relu\", padding=\"same\")`\n",
      "  from ipykernel import kernelapp as app\n"
     ]
    },
    {
     "name": "stdout",
     "output_type": "stream",
     "text": [
      "\n",
      "\n"
     ]
    },
    {
     "name": "stderr",
     "output_type": "stream",
     "text": [
      "C:\\Users\\GC\\Anaconda3\\envs\\ark\\lib\\site-packages\\ipykernel_launcher.py:10: UserWarning: Update your `Conv2D` call to the Keras 2 API: `Conv2D(64, (4, 4), activation=\"relu\", input_shape=(4, 4, 307..., padding=\"same\")`\n",
      "  # Remove the CWD from sys.path while we load stuff.\n",
      "C:\\Users\\GC\\Anaconda3\\envs\\ark\\lib\\site-packages\\ipykernel_launcher.py:15: UserWarning: Update your `Conv2D` call to the Keras 2 API: `Conv2D(8, (4, 4), activation=\"relu\", padding=\"same\")`\n",
      "  from ipykernel import kernelapp as app\n"
     ]
    },
    {
     "name": "stdout",
     "output_type": "stream",
     "text": [
      "\n",
      "\n"
     ]
    },
    {
     "name": "stderr",
     "output_type": "stream",
     "text": [
      "C:\\Users\\GC\\Anaconda3\\envs\\ark\\lib\\site-packages\\ipykernel_launcher.py:10: UserWarning: Update your `Conv2D` call to the Keras 2 API: `Conv2D(64, (4, 4), activation=\"relu\", input_shape=(4, 4, 307..., padding=\"same\")`\n",
      "  # Remove the CWD from sys.path while we load stuff.\n",
      "C:\\Users\\GC\\Anaconda3\\envs\\ark\\lib\\site-packages\\ipykernel_launcher.py:15: UserWarning: Update your `Conv2D` call to the Keras 2 API: `Conv2D(8, (4, 4), activation=\"relu\", padding=\"same\")`\n",
      "  from ipykernel import kernelapp as app\n"
     ]
    },
    {
     "name": "stdout",
     "output_type": "stream",
     "text": [
      "\n",
      "\n"
     ]
    },
    {
     "name": "stderr",
     "output_type": "stream",
     "text": [
      "C:\\Users\\GC\\Anaconda3\\envs\\ark\\lib\\site-packages\\ipykernel_launcher.py:10: UserWarning: Update your `Conv2D` call to the Keras 2 API: `Conv2D(64, (4, 4), activation=\"relu\", input_shape=(4, 4, 307..., padding=\"same\")`\n",
      "  # Remove the CWD from sys.path while we load stuff.\n",
      "C:\\Users\\GC\\Anaconda3\\envs\\ark\\lib\\site-packages\\ipykernel_launcher.py:15: UserWarning: Update your `Conv2D` call to the Keras 2 API: `Conv2D(8, (4, 4), activation=\"relu\", padding=\"same\")`\n",
      "  from ipykernel import kernelapp as app\n"
     ]
    },
    {
     "name": "stdout",
     "output_type": "stream",
     "text": [
      "\n",
      "\n"
     ]
    },
    {
     "name": "stderr",
     "output_type": "stream",
     "text": [
      "C:\\Users\\GC\\Anaconda3\\envs\\ark\\lib\\site-packages\\ipykernel_launcher.py:10: UserWarning: Update your `Conv2D` call to the Keras 2 API: `Conv2D(64, (4, 4), activation=\"relu\", input_shape=(4, 4, 307..., padding=\"same\")`\n",
      "  # Remove the CWD from sys.path while we load stuff.\n",
      "C:\\Users\\GC\\Anaconda3\\envs\\ark\\lib\\site-packages\\ipykernel_launcher.py:15: UserWarning: Update your `Conv2D` call to the Keras 2 API: `Conv2D(8, (4, 4), activation=\"relu\", padding=\"same\")`\n",
      "  from ipykernel import kernelapp as app\n"
     ]
    },
    {
     "name": "stdout",
     "output_type": "stream",
     "text": [
      "\n",
      "\n"
     ]
    },
    {
     "name": "stderr",
     "output_type": "stream",
     "text": [
      "C:\\Users\\GC\\Anaconda3\\envs\\ark\\lib\\site-packages\\ipykernel_launcher.py:10: UserWarning: Update your `Conv2D` call to the Keras 2 API: `Conv2D(64, (4, 4), activation=\"relu\", input_shape=(4, 4, 307..., padding=\"same\")`\n",
      "  # Remove the CWD from sys.path while we load stuff.\n",
      "C:\\Users\\GC\\Anaconda3\\envs\\ark\\lib\\site-packages\\ipykernel_launcher.py:15: UserWarning: Update your `Conv2D` call to the Keras 2 API: `Conv2D(8, (4, 4), activation=\"relu\", padding=\"same\")`\n",
      "  from ipykernel import kernelapp as app\n"
     ]
    },
    {
     "name": "stdout",
     "output_type": "stream",
     "text": [
      "\n",
      "\n"
     ]
    },
    {
     "name": "stderr",
     "output_type": "stream",
     "text": [
      "C:\\Users\\GC\\Anaconda3\\envs\\ark\\lib\\site-packages\\ipykernel_launcher.py:10: UserWarning: Update your `Conv2D` call to the Keras 2 API: `Conv2D(64, (4, 4), activation=\"relu\", input_shape=(4, 4, 307..., padding=\"same\")`\n",
      "  # Remove the CWD from sys.path while we load stuff.\n",
      "C:\\Users\\GC\\Anaconda3\\envs\\ark\\lib\\site-packages\\ipykernel_launcher.py:15: UserWarning: Update your `Conv2D` call to the Keras 2 API: `Conv2D(8, (4, 4), activation=\"relu\", padding=\"same\")`\n",
      "  from ipykernel import kernelapp as app\n"
     ]
    },
    {
     "name": "stdout",
     "output_type": "stream",
     "text": [
      "\n",
      "\n"
     ]
    },
    {
     "name": "stderr",
     "output_type": "stream",
     "text": [
      "C:\\Users\\GC\\Anaconda3\\envs\\ark\\lib\\site-packages\\ipykernel_launcher.py:10: UserWarning: Update your `Conv2D` call to the Keras 2 API: `Conv2D(64, (4, 4), activation=\"relu\", input_shape=(4, 4, 307..., padding=\"same\")`\n",
      "  # Remove the CWD from sys.path while we load stuff.\n",
      "C:\\Users\\GC\\Anaconda3\\envs\\ark\\lib\\site-packages\\ipykernel_launcher.py:15: UserWarning: Update your `Conv2D` call to the Keras 2 API: `Conv2D(8, (4, 4), activation=\"relu\", padding=\"same\")`\n",
      "  from ipykernel import kernelapp as app\n"
     ]
    },
    {
     "name": "stdout",
     "output_type": "stream",
     "text": [
      "\n",
      "\n"
     ]
    },
    {
     "name": "stderr",
     "output_type": "stream",
     "text": [
      "C:\\Users\\GC\\Anaconda3\\envs\\ark\\lib\\site-packages\\ipykernel_launcher.py:10: UserWarning: Update your `Conv2D` call to the Keras 2 API: `Conv2D(64, (4, 4), activation=\"relu\", input_shape=(4, 4, 307..., padding=\"same\")`\n",
      "  # Remove the CWD from sys.path while we load stuff.\n",
      "C:\\Users\\GC\\Anaconda3\\envs\\ark\\lib\\site-packages\\ipykernel_launcher.py:15: UserWarning: Update your `Conv2D` call to the Keras 2 API: `Conv2D(8, (4, 4), activation=\"relu\", padding=\"same\")`\n",
      "  from ipykernel import kernelapp as app\n"
     ]
    },
    {
     "name": "stdout",
     "output_type": "stream",
     "text": [
      "\n",
      "\n"
     ]
    },
    {
     "name": "stderr",
     "output_type": "stream",
     "text": [
      "C:\\Users\\GC\\Anaconda3\\envs\\ark\\lib\\site-packages\\ipykernel_launcher.py:10: UserWarning: Update your `Conv2D` call to the Keras 2 API: `Conv2D(64, (4, 4), activation=\"relu\", input_shape=(4, 4, 307..., padding=\"same\")`\n",
      "  # Remove the CWD from sys.path while we load stuff.\n",
      "C:\\Users\\GC\\Anaconda3\\envs\\ark\\lib\\site-packages\\ipykernel_launcher.py:15: UserWarning: Update your `Conv2D` call to the Keras 2 API: `Conv2D(8, (4, 4), activation=\"relu\", padding=\"same\")`\n",
      "  from ipykernel import kernelapp as app\n"
     ]
    },
    {
     "name": "stdout",
     "output_type": "stream",
     "text": [
      "\n",
      "\n"
     ]
    },
    {
     "name": "stderr",
     "output_type": "stream",
     "text": [
      "C:\\Users\\GC\\Anaconda3\\envs\\ark\\lib\\site-packages\\ipykernel_launcher.py:10: UserWarning: Update your `Conv2D` call to the Keras 2 API: `Conv2D(64, (4, 4), activation=\"relu\", input_shape=(4, 4, 307..., padding=\"same\")`\n",
      "  # Remove the CWD from sys.path while we load stuff.\n",
      "C:\\Users\\GC\\Anaconda3\\envs\\ark\\lib\\site-packages\\ipykernel_launcher.py:15: UserWarning: Update your `Conv2D` call to the Keras 2 API: `Conv2D(8, (4, 4), activation=\"relu\", padding=\"same\")`\n",
      "  from ipykernel import kernelapp as app\n"
     ]
    },
    {
     "name": "stdout",
     "output_type": "stream",
     "text": [
      "\n",
      "\n"
     ]
    },
    {
     "name": "stderr",
     "output_type": "stream",
     "text": [
      "C:\\Users\\GC\\Anaconda3\\envs\\ark\\lib\\site-packages\\ipykernel_launcher.py:10: UserWarning: Update your `Conv2D` call to the Keras 2 API: `Conv2D(64, (4, 4), activation=\"relu\", input_shape=(4, 4, 307..., padding=\"same\")`\n",
      "  # Remove the CWD from sys.path while we load stuff.\n",
      "C:\\Users\\GC\\Anaconda3\\envs\\ark\\lib\\site-packages\\ipykernel_launcher.py:15: UserWarning: Update your `Conv2D` call to the Keras 2 API: `Conv2D(8, (4, 4), activation=\"relu\", padding=\"same\")`\n",
      "  from ipykernel import kernelapp as app\n"
     ]
    },
    {
     "name": "stdout",
     "output_type": "stream",
     "text": [
      "\n",
      "\n"
     ]
    },
    {
     "name": "stderr",
     "output_type": "stream",
     "text": [
      "C:\\Users\\GC\\Anaconda3\\envs\\ark\\lib\\site-packages\\ipykernel_launcher.py:10: UserWarning: Update your `Conv2D` call to the Keras 2 API: `Conv2D(64, (4, 4), activation=\"relu\", input_shape=(4, 4, 307..., padding=\"same\")`\n",
      "  # Remove the CWD from sys.path while we load stuff.\n",
      "C:\\Users\\GC\\Anaconda3\\envs\\ark\\lib\\site-packages\\ipykernel_launcher.py:15: UserWarning: Update your `Conv2D` call to the Keras 2 API: `Conv2D(8, (4, 4), activation=\"relu\", padding=\"same\")`\n",
      "  from ipykernel import kernelapp as app\n"
     ]
    },
    {
     "name": "stdout",
     "output_type": "stream",
     "text": [
      "\n",
      "\n"
     ]
    },
    {
     "name": "stderr",
     "output_type": "stream",
     "text": [
      "C:\\Users\\GC\\Anaconda3\\envs\\ark\\lib\\site-packages\\ipykernel_launcher.py:10: UserWarning: Update your `Conv2D` call to the Keras 2 API: `Conv2D(64, (4, 4), activation=\"relu\", input_shape=(4, 4, 307..., padding=\"same\")`\n",
      "  # Remove the CWD from sys.path while we load stuff.\n",
      "C:\\Users\\GC\\Anaconda3\\envs\\ark\\lib\\site-packages\\ipykernel_launcher.py:15: UserWarning: Update your `Conv2D` call to the Keras 2 API: `Conv2D(8, (4, 4), activation=\"relu\", padding=\"same\")`\n",
      "  from ipykernel import kernelapp as app\n"
     ]
    },
    {
     "name": "stdout",
     "output_type": "stream",
     "text": [
      "\n",
      "\n"
     ]
    },
    {
     "name": "stderr",
     "output_type": "stream",
     "text": [
      "C:\\Users\\GC\\Anaconda3\\envs\\ark\\lib\\site-packages\\ipykernel_launcher.py:10: UserWarning: Update your `Conv2D` call to the Keras 2 API: `Conv2D(64, (4, 4), activation=\"relu\", input_shape=(4, 4, 307..., padding=\"same\")`\n",
      "  # Remove the CWD from sys.path while we load stuff.\n",
      "C:\\Users\\GC\\Anaconda3\\envs\\ark\\lib\\site-packages\\ipykernel_launcher.py:15: UserWarning: Update your `Conv2D` call to the Keras 2 API: `Conv2D(8, (4, 4), activation=\"relu\", padding=\"same\")`\n",
      "  from ipykernel import kernelapp as app\n"
     ]
    },
    {
     "name": "stdout",
     "output_type": "stream",
     "text": [
      "\n",
      "\n"
     ]
    },
    {
     "name": "stderr",
     "output_type": "stream",
     "text": [
      "C:\\Users\\GC\\Anaconda3\\envs\\ark\\lib\\site-packages\\ipykernel_launcher.py:10: UserWarning: Update your `Conv2D` call to the Keras 2 API: `Conv2D(64, (4, 4), activation=\"relu\", input_shape=(4, 4, 307..., padding=\"same\")`\n",
      "  # Remove the CWD from sys.path while we load stuff.\n",
      "C:\\Users\\GC\\Anaconda3\\envs\\ark\\lib\\site-packages\\ipykernel_launcher.py:15: UserWarning: Update your `Conv2D` call to the Keras 2 API: `Conv2D(8, (4, 4), activation=\"relu\", padding=\"same\")`\n",
      "  from ipykernel import kernelapp as app\n"
     ]
    },
    {
     "name": "stdout",
     "output_type": "stream",
     "text": [
      "\n",
      "\n"
     ]
    },
    {
     "name": "stderr",
     "output_type": "stream",
     "text": [
      "C:\\Users\\GC\\Anaconda3\\envs\\ark\\lib\\site-packages\\ipykernel_launcher.py:10: UserWarning: Update your `Conv2D` call to the Keras 2 API: `Conv2D(64, (4, 4), activation=\"relu\", input_shape=(4, 4, 307..., padding=\"same\")`\n",
      "  # Remove the CWD from sys.path while we load stuff.\n",
      "C:\\Users\\GC\\Anaconda3\\envs\\ark\\lib\\site-packages\\ipykernel_launcher.py:15: UserWarning: Update your `Conv2D` call to the Keras 2 API: `Conv2D(8, (4, 4), activation=\"relu\", padding=\"same\")`\n",
      "  from ipykernel import kernelapp as app\n"
     ]
    },
    {
     "name": "stdout",
     "output_type": "stream",
     "text": [
      "\n",
      "\n"
     ]
    },
    {
     "name": "stderr",
     "output_type": "stream",
     "text": [
      "C:\\Users\\GC\\Anaconda3\\envs\\ark\\lib\\site-packages\\ipykernel_launcher.py:10: UserWarning: Update your `Conv2D` call to the Keras 2 API: `Conv2D(64, (4, 4), activation=\"relu\", input_shape=(4, 4, 307..., padding=\"same\")`\n",
      "  # Remove the CWD from sys.path while we load stuff.\n",
      "C:\\Users\\GC\\Anaconda3\\envs\\ark\\lib\\site-packages\\ipykernel_launcher.py:15: UserWarning: Update your `Conv2D` call to the Keras 2 API: `Conv2D(8, (4, 4), activation=\"relu\", padding=\"same\")`\n",
      "  from ipykernel import kernelapp as app\n"
     ]
    },
    {
     "name": "stdout",
     "output_type": "stream",
     "text": [
      "\n",
      "\n"
     ]
    },
    {
     "name": "stderr",
     "output_type": "stream",
     "text": [
      "C:\\Users\\GC\\Anaconda3\\envs\\ark\\lib\\site-packages\\ipykernel_launcher.py:10: UserWarning: Update your `Conv2D` call to the Keras 2 API: `Conv2D(64, (4, 4), activation=\"relu\", input_shape=(4, 4, 307..., padding=\"same\")`\n",
      "  # Remove the CWD from sys.path while we load stuff.\n",
      "C:\\Users\\GC\\Anaconda3\\envs\\ark\\lib\\site-packages\\ipykernel_launcher.py:15: UserWarning: Update your `Conv2D` call to the Keras 2 API: `Conv2D(8, (4, 4), activation=\"relu\", padding=\"same\")`\n",
      "  from ipykernel import kernelapp as app\n"
     ]
    },
    {
     "name": "stdout",
     "output_type": "stream",
     "text": [
      "\n",
      "\n"
     ]
    },
    {
     "name": "stderr",
     "output_type": "stream",
     "text": [
      "C:\\Users\\GC\\Anaconda3\\envs\\ark\\lib\\site-packages\\ipykernel_launcher.py:10: UserWarning: Update your `Conv2D` call to the Keras 2 API: `Conv2D(64, (4, 4), activation=\"relu\", input_shape=(4, 4, 307..., padding=\"same\")`\n",
      "  # Remove the CWD from sys.path while we load stuff.\n",
      "C:\\Users\\GC\\Anaconda3\\envs\\ark\\lib\\site-packages\\ipykernel_launcher.py:15: UserWarning: Update your `Conv2D` call to the Keras 2 API: `Conv2D(8, (4, 4), activation=\"relu\", padding=\"same\")`\n",
      "  from ipykernel import kernelapp as app\n"
     ]
    },
    {
     "name": "stdout",
     "output_type": "stream",
     "text": [
      "\n",
      "\n"
     ]
    },
    {
     "name": "stderr",
     "output_type": "stream",
     "text": [
      "C:\\Users\\GC\\Anaconda3\\envs\\ark\\lib\\site-packages\\ipykernel_launcher.py:10: UserWarning: Update your `Conv2D` call to the Keras 2 API: `Conv2D(64, (4, 4), activation=\"relu\", input_shape=(4, 4, 307..., padding=\"same\")`\n",
      "  # Remove the CWD from sys.path while we load stuff.\n",
      "C:\\Users\\GC\\Anaconda3\\envs\\ark\\lib\\site-packages\\ipykernel_launcher.py:15: UserWarning: Update your `Conv2D` call to the Keras 2 API: `Conv2D(8, (4, 4), activation=\"relu\", padding=\"same\")`\n",
      "  from ipykernel import kernelapp as app\n"
     ]
    },
    {
     "name": "stdout",
     "output_type": "stream",
     "text": [
      "\n",
      "\n"
     ]
    },
    {
     "name": "stderr",
     "output_type": "stream",
     "text": [
      "C:\\Users\\GC\\Anaconda3\\envs\\ark\\lib\\site-packages\\ipykernel_launcher.py:10: UserWarning: Update your `Conv2D` call to the Keras 2 API: `Conv2D(64, (4, 4), activation=\"relu\", input_shape=(4, 4, 307..., padding=\"same\")`\n",
      "  # Remove the CWD from sys.path while we load stuff.\n",
      "C:\\Users\\GC\\Anaconda3\\envs\\ark\\lib\\site-packages\\ipykernel_launcher.py:15: UserWarning: Update your `Conv2D` call to the Keras 2 API: `Conv2D(8, (4, 4), activation=\"relu\", padding=\"same\")`\n",
      "  from ipykernel import kernelapp as app\n"
     ]
    },
    {
     "name": "stdout",
     "output_type": "stream",
     "text": [
      "\n",
      "\n"
     ]
    },
    {
     "name": "stderr",
     "output_type": "stream",
     "text": [
      "C:\\Users\\GC\\Anaconda3\\envs\\ark\\lib\\site-packages\\ipykernel_launcher.py:10: UserWarning: Update your `Conv2D` call to the Keras 2 API: `Conv2D(64, (4, 4), activation=\"relu\", input_shape=(4, 4, 307..., padding=\"same\")`\n",
      "  # Remove the CWD from sys.path while we load stuff.\n",
      "C:\\Users\\GC\\Anaconda3\\envs\\ark\\lib\\site-packages\\ipykernel_launcher.py:15: UserWarning: Update your `Conv2D` call to the Keras 2 API: `Conv2D(8, (4, 4), activation=\"relu\", padding=\"same\")`\n",
      "  from ipykernel import kernelapp as app\n"
     ]
    },
    {
     "name": "stdout",
     "output_type": "stream",
     "text": [
      "\n",
      "\n"
     ]
    },
    {
     "name": "stderr",
     "output_type": "stream",
     "text": [
      "C:\\Users\\GC\\Anaconda3\\envs\\ark\\lib\\site-packages\\ipykernel_launcher.py:10: UserWarning: Update your `Conv2D` call to the Keras 2 API: `Conv2D(64, (4, 4), activation=\"relu\", input_shape=(4, 4, 307..., padding=\"same\")`\n",
      "  # Remove the CWD from sys.path while we load stuff.\n",
      "C:\\Users\\GC\\Anaconda3\\envs\\ark\\lib\\site-packages\\ipykernel_launcher.py:15: UserWarning: Update your `Conv2D` call to the Keras 2 API: `Conv2D(8, (4, 4), activation=\"relu\", padding=\"same\")`\n",
      "  from ipykernel import kernelapp as app\n"
     ]
    },
    {
     "name": "stdout",
     "output_type": "stream",
     "text": [
      "\n",
      "\n"
     ]
    },
    {
     "name": "stderr",
     "output_type": "stream",
     "text": [
      "C:\\Users\\GC\\Anaconda3\\envs\\ark\\lib\\site-packages\\ipykernel_launcher.py:10: UserWarning: Update your `Conv2D` call to the Keras 2 API: `Conv2D(64, (4, 4), activation=\"relu\", input_shape=(4, 4, 307..., padding=\"same\")`\n",
      "  # Remove the CWD from sys.path while we load stuff.\n",
      "C:\\Users\\GC\\Anaconda3\\envs\\ark\\lib\\site-packages\\ipykernel_launcher.py:15: UserWarning: Update your `Conv2D` call to the Keras 2 API: `Conv2D(8, (4, 4), activation=\"relu\", padding=\"same\")`\n",
      "  from ipykernel import kernelapp as app\n"
     ]
    },
    {
     "name": "stdout",
     "output_type": "stream",
     "text": [
      "\n",
      "\n"
     ]
    },
    {
     "name": "stderr",
     "output_type": "stream",
     "text": [
      "C:\\Users\\GC\\Anaconda3\\envs\\ark\\lib\\site-packages\\ipykernel_launcher.py:10: UserWarning: Update your `Conv2D` call to the Keras 2 API: `Conv2D(64, (4, 4), activation=\"relu\", input_shape=(4, 4, 307..., padding=\"same\")`\n",
      "  # Remove the CWD from sys.path while we load stuff.\n",
      "C:\\Users\\GC\\Anaconda3\\envs\\ark\\lib\\site-packages\\ipykernel_launcher.py:15: UserWarning: Update your `Conv2D` call to the Keras 2 API: `Conv2D(8, (4, 4), activation=\"relu\", padding=\"same\")`\n",
      "  from ipykernel import kernelapp as app\n"
     ]
    },
    {
     "name": "stdout",
     "output_type": "stream",
     "text": [
      "\n",
      "\n"
     ]
    },
    {
     "name": "stderr",
     "output_type": "stream",
     "text": [
      "C:\\Users\\GC\\Anaconda3\\envs\\ark\\lib\\site-packages\\ipykernel_launcher.py:10: UserWarning: Update your `Conv2D` call to the Keras 2 API: `Conv2D(64, (4, 4), activation=\"relu\", input_shape=(4, 4, 307..., padding=\"same\")`\n",
      "  # Remove the CWD from sys.path while we load stuff.\n",
      "C:\\Users\\GC\\Anaconda3\\envs\\ark\\lib\\site-packages\\ipykernel_launcher.py:15: UserWarning: Update your `Conv2D` call to the Keras 2 API: `Conv2D(8, (4, 4), activation=\"relu\", padding=\"same\")`\n",
      "  from ipykernel import kernelapp as app\n"
     ]
    },
    {
     "name": "stdout",
     "output_type": "stream",
     "text": [
      "\n",
      "\n"
     ]
    },
    {
     "name": "stderr",
     "output_type": "stream",
     "text": [
      "C:\\Users\\GC\\Anaconda3\\envs\\ark\\lib\\site-packages\\ipykernel_launcher.py:10: UserWarning: Update your `Conv2D` call to the Keras 2 API: `Conv2D(64, (4, 4), activation=\"relu\", input_shape=(4, 4, 307..., padding=\"same\")`\n",
      "  # Remove the CWD from sys.path while we load stuff.\n",
      "C:\\Users\\GC\\Anaconda3\\envs\\ark\\lib\\site-packages\\ipykernel_launcher.py:15: UserWarning: Update your `Conv2D` call to the Keras 2 API: `Conv2D(8, (4, 4), activation=\"relu\", padding=\"same\")`\n",
      "  from ipykernel import kernelapp as app\n"
     ]
    },
    {
     "name": "stdout",
     "output_type": "stream",
     "text": [
      "\n",
      "\n"
     ]
    },
    {
     "name": "stderr",
     "output_type": "stream",
     "text": [
      "C:\\Users\\GC\\Anaconda3\\envs\\ark\\lib\\site-packages\\ipykernel_launcher.py:10: UserWarning: Update your `Conv2D` call to the Keras 2 API: `Conv2D(64, (4, 4), activation=\"relu\", input_shape=(4, 4, 307..., padding=\"same\")`\n",
      "  # Remove the CWD from sys.path while we load stuff.\n",
      "C:\\Users\\GC\\Anaconda3\\envs\\ark\\lib\\site-packages\\ipykernel_launcher.py:15: UserWarning: Update your `Conv2D` call to the Keras 2 API: `Conv2D(8, (4, 4), activation=\"relu\", padding=\"same\")`\n",
      "  from ipykernel import kernelapp as app\n"
     ]
    },
    {
     "name": "stdout",
     "output_type": "stream",
     "text": [
      "\n",
      "\n"
     ]
    },
    {
     "name": "stderr",
     "output_type": "stream",
     "text": [
      "C:\\Users\\GC\\Anaconda3\\envs\\ark\\lib\\site-packages\\ipykernel_launcher.py:10: UserWarning: Update your `Conv2D` call to the Keras 2 API: `Conv2D(64, (4, 4), activation=\"relu\", input_shape=(4, 4, 307..., padding=\"same\")`\n",
      "  # Remove the CWD from sys.path while we load stuff.\n",
      "C:\\Users\\GC\\Anaconda3\\envs\\ark\\lib\\site-packages\\ipykernel_launcher.py:15: UserWarning: Update your `Conv2D` call to the Keras 2 API: `Conv2D(8, (4, 4), activation=\"relu\", padding=\"same\")`\n",
      "  from ipykernel import kernelapp as app\n"
     ]
    },
    {
     "name": "stdout",
     "output_type": "stream",
     "text": [
      "\n",
      "\n"
     ]
    },
    {
     "name": "stderr",
     "output_type": "stream",
     "text": [
      "C:\\Users\\GC\\Anaconda3\\envs\\ark\\lib\\site-packages\\ipykernel_launcher.py:10: UserWarning: Update your `Conv2D` call to the Keras 2 API: `Conv2D(64, (4, 4), activation=\"relu\", input_shape=(4, 4, 307..., padding=\"same\")`\n",
      "  # Remove the CWD from sys.path while we load stuff.\n",
      "C:\\Users\\GC\\Anaconda3\\envs\\ark\\lib\\site-packages\\ipykernel_launcher.py:15: UserWarning: Update your `Conv2D` call to the Keras 2 API: `Conv2D(8, (4, 4), activation=\"relu\", padding=\"same\")`\n",
      "  from ipykernel import kernelapp as app\n"
     ]
    },
    {
     "name": "stdout",
     "output_type": "stream",
     "text": [
      "\n",
      "\n"
     ]
    },
    {
     "name": "stderr",
     "output_type": "stream",
     "text": [
      "C:\\Users\\GC\\Anaconda3\\envs\\ark\\lib\\site-packages\\ipykernel_launcher.py:10: UserWarning: Update your `Conv2D` call to the Keras 2 API: `Conv2D(64, (4, 4), activation=\"relu\", input_shape=(4, 4, 307..., padding=\"same\")`\n",
      "  # Remove the CWD from sys.path while we load stuff.\n",
      "C:\\Users\\GC\\Anaconda3\\envs\\ark\\lib\\site-packages\\ipykernel_launcher.py:15: UserWarning: Update your `Conv2D` call to the Keras 2 API: `Conv2D(8, (4, 4), activation=\"relu\", padding=\"same\")`\n",
      "  from ipykernel import kernelapp as app\n"
     ]
    },
    {
     "name": "stdout",
     "output_type": "stream",
     "text": [
      "\n",
      "\n"
     ]
    },
    {
     "name": "stderr",
     "output_type": "stream",
     "text": [
      "C:\\Users\\GC\\Anaconda3\\envs\\ark\\lib\\site-packages\\ipykernel_launcher.py:10: UserWarning: Update your `Conv2D` call to the Keras 2 API: `Conv2D(64, (4, 4), activation=\"relu\", input_shape=(4, 4, 307..., padding=\"same\")`\n",
      "  # Remove the CWD from sys.path while we load stuff.\n",
      "C:\\Users\\GC\\Anaconda3\\envs\\ark\\lib\\site-packages\\ipykernel_launcher.py:15: UserWarning: Update your `Conv2D` call to the Keras 2 API: `Conv2D(8, (4, 4), activation=\"relu\", padding=\"same\")`\n",
      "  from ipykernel import kernelapp as app\n"
     ]
    },
    {
     "name": "stdout",
     "output_type": "stream",
     "text": [
      "\n",
      "\n"
     ]
    },
    {
     "name": "stderr",
     "output_type": "stream",
     "text": [
      "C:\\Users\\GC\\Anaconda3\\envs\\ark\\lib\\site-packages\\ipykernel_launcher.py:10: UserWarning: Update your `Conv2D` call to the Keras 2 API: `Conv2D(64, (4, 4), activation=\"relu\", input_shape=(4, 4, 307..., padding=\"same\")`\n",
      "  # Remove the CWD from sys.path while we load stuff.\n",
      "C:\\Users\\GC\\Anaconda3\\envs\\ark\\lib\\site-packages\\ipykernel_launcher.py:15: UserWarning: Update your `Conv2D` call to the Keras 2 API: `Conv2D(8, (4, 4), activation=\"relu\", padding=\"same\")`\n",
      "  from ipykernel import kernelapp as app\n"
     ]
    },
    {
     "name": "stdout",
     "output_type": "stream",
     "text": [
      "\n",
      "\n"
     ]
    },
    {
     "name": "stderr",
     "output_type": "stream",
     "text": [
      "C:\\Users\\GC\\Anaconda3\\envs\\ark\\lib\\site-packages\\ipykernel_launcher.py:10: UserWarning: Update your `Conv2D` call to the Keras 2 API: `Conv2D(64, (4, 4), activation=\"relu\", input_shape=(4, 4, 307..., padding=\"same\")`\n",
      "  # Remove the CWD from sys.path while we load stuff.\n",
      "C:\\Users\\GC\\Anaconda3\\envs\\ark\\lib\\site-packages\\ipykernel_launcher.py:15: UserWarning: Update your `Conv2D` call to the Keras 2 API: `Conv2D(8, (4, 4), activation=\"relu\", padding=\"same\")`\n",
      "  from ipykernel import kernelapp as app\n"
     ]
    },
    {
     "name": "stdout",
     "output_type": "stream",
     "text": [
      "\n",
      "\n"
     ]
    },
    {
     "name": "stderr",
     "output_type": "stream",
     "text": [
      "C:\\Users\\GC\\Anaconda3\\envs\\ark\\lib\\site-packages\\ipykernel_launcher.py:10: UserWarning: Update your `Conv2D` call to the Keras 2 API: `Conv2D(64, (4, 4), activation=\"relu\", input_shape=(4, 4, 307..., padding=\"same\")`\n",
      "  # Remove the CWD from sys.path while we load stuff.\n",
      "C:\\Users\\GC\\Anaconda3\\envs\\ark\\lib\\site-packages\\ipykernel_launcher.py:15: UserWarning: Update your `Conv2D` call to the Keras 2 API: `Conv2D(8, (4, 4), activation=\"relu\", padding=\"same\")`\n",
      "  from ipykernel import kernelapp as app\n"
     ]
    },
    {
     "name": "stdout",
     "output_type": "stream",
     "text": [
      "\n",
      "\n"
     ]
    },
    {
     "name": "stderr",
     "output_type": "stream",
     "text": [
      "C:\\Users\\GC\\Anaconda3\\envs\\ark\\lib\\site-packages\\ipykernel_launcher.py:10: UserWarning: Update your `Conv2D` call to the Keras 2 API: `Conv2D(64, (4, 4), activation=\"relu\", input_shape=(4, 4, 307..., padding=\"same\")`\n",
      "  # Remove the CWD from sys.path while we load stuff.\n",
      "C:\\Users\\GC\\Anaconda3\\envs\\ark\\lib\\site-packages\\ipykernel_launcher.py:15: UserWarning: Update your `Conv2D` call to the Keras 2 API: `Conv2D(8, (4, 4), activation=\"relu\", padding=\"same\")`\n",
      "  from ipykernel import kernelapp as app\n"
     ]
    },
    {
     "name": "stdout",
     "output_type": "stream",
     "text": [
      "\n",
      "\n"
     ]
    },
    {
     "name": "stderr",
     "output_type": "stream",
     "text": [
      "C:\\Users\\GC\\Anaconda3\\envs\\ark\\lib\\site-packages\\ipykernel_launcher.py:10: UserWarning: Update your `Conv2D` call to the Keras 2 API: `Conv2D(64, (4, 4), activation=\"relu\", input_shape=(4, 4, 307..., padding=\"same\")`\n",
      "  # Remove the CWD from sys.path while we load stuff.\n",
      "C:\\Users\\GC\\Anaconda3\\envs\\ark\\lib\\site-packages\\ipykernel_launcher.py:15: UserWarning: Update your `Conv2D` call to the Keras 2 API: `Conv2D(8, (4, 4), activation=\"relu\", padding=\"same\")`\n",
      "  from ipykernel import kernelapp as app\n"
     ]
    },
    {
     "name": "stdout",
     "output_type": "stream",
     "text": [
      "\n",
      "\n"
     ]
    },
    {
     "name": "stderr",
     "output_type": "stream",
     "text": [
      "C:\\Users\\GC\\Anaconda3\\envs\\ark\\lib\\site-packages\\ipykernel_launcher.py:10: UserWarning: Update your `Conv2D` call to the Keras 2 API: `Conv2D(64, (4, 4), activation=\"relu\", input_shape=(4, 4, 307..., padding=\"same\")`\n",
      "  # Remove the CWD from sys.path while we load stuff.\n",
      "C:\\Users\\GC\\Anaconda3\\envs\\ark\\lib\\site-packages\\ipykernel_launcher.py:15: UserWarning: Update your `Conv2D` call to the Keras 2 API: `Conv2D(8, (4, 4), activation=\"relu\", padding=\"same\")`\n",
      "  from ipykernel import kernelapp as app\n"
     ]
    },
    {
     "name": "stdout",
     "output_type": "stream",
     "text": [
      "\n",
      "\n"
     ]
    },
    {
     "name": "stderr",
     "output_type": "stream",
     "text": [
      "C:\\Users\\GC\\Anaconda3\\envs\\ark\\lib\\site-packages\\ipykernel_launcher.py:10: UserWarning: Update your `Conv2D` call to the Keras 2 API: `Conv2D(64, (4, 4), activation=\"relu\", input_shape=(4, 4, 307..., padding=\"same\")`\n",
      "  # Remove the CWD from sys.path while we load stuff.\n",
      "C:\\Users\\GC\\Anaconda3\\envs\\ark\\lib\\site-packages\\ipykernel_launcher.py:15: UserWarning: Update your `Conv2D` call to the Keras 2 API: `Conv2D(8, (4, 4), activation=\"relu\", padding=\"same\")`\n",
      "  from ipykernel import kernelapp as app\n"
     ]
    },
    {
     "name": "stdout",
     "output_type": "stream",
     "text": [
      "\n",
      "\n"
     ]
    },
    {
     "name": "stderr",
     "output_type": "stream",
     "text": [
      "C:\\Users\\GC\\Anaconda3\\envs\\ark\\lib\\site-packages\\ipykernel_launcher.py:10: UserWarning: Update your `Conv2D` call to the Keras 2 API: `Conv2D(64, (4, 4), activation=\"relu\", input_shape=(4, 4, 307..., padding=\"same\")`\n",
      "  # Remove the CWD from sys.path while we load stuff.\n",
      "C:\\Users\\GC\\Anaconda3\\envs\\ark\\lib\\site-packages\\ipykernel_launcher.py:15: UserWarning: Update your `Conv2D` call to the Keras 2 API: `Conv2D(8, (4, 4), activation=\"relu\", padding=\"same\")`\n",
      "  from ipykernel import kernelapp as app\n"
     ]
    },
    {
     "name": "stdout",
     "output_type": "stream",
     "text": [
      "\n",
      "\n"
     ]
    },
    {
     "name": "stderr",
     "output_type": "stream",
     "text": [
      "C:\\Users\\GC\\Anaconda3\\envs\\ark\\lib\\site-packages\\ipykernel_launcher.py:10: UserWarning: Update your `Conv2D` call to the Keras 2 API: `Conv2D(64, (4, 4), activation=\"relu\", input_shape=(4, 4, 307..., padding=\"same\")`\n",
      "  # Remove the CWD from sys.path while we load stuff.\n",
      "C:\\Users\\GC\\Anaconda3\\envs\\ark\\lib\\site-packages\\ipykernel_launcher.py:15: UserWarning: Update your `Conv2D` call to the Keras 2 API: `Conv2D(8, (4, 4), activation=\"relu\", padding=\"same\")`\n",
      "  from ipykernel import kernelapp as app\n"
     ]
    },
    {
     "name": "stdout",
     "output_type": "stream",
     "text": [
      "\n",
      "\n"
     ]
    },
    {
     "name": "stderr",
     "output_type": "stream",
     "text": [
      "C:\\Users\\GC\\Anaconda3\\envs\\ark\\lib\\site-packages\\ipykernel_launcher.py:10: UserWarning: Update your `Conv2D` call to the Keras 2 API: `Conv2D(64, (4, 4), activation=\"relu\", input_shape=(4, 4, 307..., padding=\"same\")`\n",
      "  # Remove the CWD from sys.path while we load stuff.\n",
      "C:\\Users\\GC\\Anaconda3\\envs\\ark\\lib\\site-packages\\ipykernel_launcher.py:15: UserWarning: Update your `Conv2D` call to the Keras 2 API: `Conv2D(8, (4, 4), activation=\"relu\", padding=\"same\")`\n",
      "  from ipykernel import kernelapp as app\n"
     ]
    },
    {
     "name": "stdout",
     "output_type": "stream",
     "text": [
      "\n",
      "\n"
     ]
    },
    {
     "name": "stderr",
     "output_type": "stream",
     "text": [
      "C:\\Users\\GC\\Anaconda3\\envs\\ark\\lib\\site-packages\\ipykernel_launcher.py:10: UserWarning: Update your `Conv2D` call to the Keras 2 API: `Conv2D(64, (4, 4), activation=\"relu\", input_shape=(4, 4, 307..., padding=\"same\")`\n",
      "  # Remove the CWD from sys.path while we load stuff.\n",
      "C:\\Users\\GC\\Anaconda3\\envs\\ark\\lib\\site-packages\\ipykernel_launcher.py:15: UserWarning: Update your `Conv2D` call to the Keras 2 API: `Conv2D(8, (4, 4), activation=\"relu\", padding=\"same\")`\n",
      "  from ipykernel import kernelapp as app\n"
     ]
    },
    {
     "name": "stdout",
     "output_type": "stream",
     "text": [
      "\n",
      "\n"
     ]
    },
    {
     "name": "stderr",
     "output_type": "stream",
     "text": [
      "C:\\Users\\GC\\Anaconda3\\envs\\ark\\lib\\site-packages\\ipykernel_launcher.py:10: UserWarning: Update your `Conv2D` call to the Keras 2 API: `Conv2D(64, (4, 4), activation=\"relu\", input_shape=(4, 4, 307..., padding=\"same\")`\n",
      "  # Remove the CWD from sys.path while we load stuff.\n",
      "C:\\Users\\GC\\Anaconda3\\envs\\ark\\lib\\site-packages\\ipykernel_launcher.py:15: UserWarning: Update your `Conv2D` call to the Keras 2 API: `Conv2D(8, (4, 4), activation=\"relu\", padding=\"same\")`\n",
      "  from ipykernel import kernelapp as app\n"
     ]
    },
    {
     "name": "stdout",
     "output_type": "stream",
     "text": [
      "\n",
      "\n"
     ]
    },
    {
     "name": "stderr",
     "output_type": "stream",
     "text": [
      "C:\\Users\\GC\\Anaconda3\\envs\\ark\\lib\\site-packages\\ipykernel_launcher.py:10: UserWarning: Update your `Conv2D` call to the Keras 2 API: `Conv2D(64, (4, 4), activation=\"relu\", input_shape=(4, 4, 307..., padding=\"same\")`\n",
      "  # Remove the CWD from sys.path while we load stuff.\n",
      "C:\\Users\\GC\\Anaconda3\\envs\\ark\\lib\\site-packages\\ipykernel_launcher.py:15: UserWarning: Update your `Conv2D` call to the Keras 2 API: `Conv2D(8, (4, 4), activation=\"relu\", padding=\"same\")`\n",
      "  from ipykernel import kernelapp as app\n"
     ]
    },
    {
     "name": "stdout",
     "output_type": "stream",
     "text": [
      "\n",
      "\n"
     ]
    },
    {
     "name": "stderr",
     "output_type": "stream",
     "text": [
      "C:\\Users\\GC\\Anaconda3\\envs\\ark\\lib\\site-packages\\ipykernel_launcher.py:10: UserWarning: Update your `Conv2D` call to the Keras 2 API: `Conv2D(64, (4, 4), activation=\"relu\", input_shape=(4, 4, 307..., padding=\"same\")`\n",
      "  # Remove the CWD from sys.path while we load stuff.\n",
      "C:\\Users\\GC\\Anaconda3\\envs\\ark\\lib\\site-packages\\ipykernel_launcher.py:15: UserWarning: Update your `Conv2D` call to the Keras 2 API: `Conv2D(8, (4, 4), activation=\"relu\", padding=\"same\")`\n",
      "  from ipykernel import kernelapp as app\n"
     ]
    },
    {
     "name": "stdout",
     "output_type": "stream",
     "text": [
      "\n",
      "\n"
     ]
    },
    {
     "name": "stderr",
     "output_type": "stream",
     "text": [
      "C:\\Users\\GC\\Anaconda3\\envs\\ark\\lib\\site-packages\\ipykernel_launcher.py:10: UserWarning: Update your `Conv2D` call to the Keras 2 API: `Conv2D(64, (4, 4), activation=\"relu\", input_shape=(4, 4, 307..., padding=\"same\")`\n",
      "  # Remove the CWD from sys.path while we load stuff.\n",
      "C:\\Users\\GC\\Anaconda3\\envs\\ark\\lib\\site-packages\\ipykernel_launcher.py:15: UserWarning: Update your `Conv2D` call to the Keras 2 API: `Conv2D(8, (4, 4), activation=\"relu\", padding=\"same\")`\n",
      "  from ipykernel import kernelapp as app\n"
     ]
    },
    {
     "name": "stdout",
     "output_type": "stream",
     "text": [
      "\n",
      "\n"
     ]
    },
    {
     "name": "stderr",
     "output_type": "stream",
     "text": [
      "C:\\Users\\GC\\Anaconda3\\envs\\ark\\lib\\site-packages\\ipykernel_launcher.py:10: UserWarning: Update your `Conv2D` call to the Keras 2 API: `Conv2D(64, (4, 4), activation=\"relu\", input_shape=(4, 4, 307..., padding=\"same\")`\n",
      "  # Remove the CWD from sys.path while we load stuff.\n",
      "C:\\Users\\GC\\Anaconda3\\envs\\ark\\lib\\site-packages\\ipykernel_launcher.py:15: UserWarning: Update your `Conv2D` call to the Keras 2 API: `Conv2D(8, (4, 4), activation=\"relu\", padding=\"same\")`\n",
      "  from ipykernel import kernelapp as app\n"
     ]
    },
    {
     "name": "stdout",
     "output_type": "stream",
     "text": [
      "\n",
      "\n"
     ]
    },
    {
     "name": "stderr",
     "output_type": "stream",
     "text": [
      "C:\\Users\\GC\\Anaconda3\\envs\\ark\\lib\\site-packages\\ipykernel_launcher.py:10: UserWarning: Update your `Conv2D` call to the Keras 2 API: `Conv2D(64, (4, 4), activation=\"relu\", input_shape=(4, 4, 307..., padding=\"same\")`\n",
      "  # Remove the CWD from sys.path while we load stuff.\n",
      "C:\\Users\\GC\\Anaconda3\\envs\\ark\\lib\\site-packages\\ipykernel_launcher.py:15: UserWarning: Update your `Conv2D` call to the Keras 2 API: `Conv2D(8, (4, 4), activation=\"relu\", padding=\"same\")`\n",
      "  from ipykernel import kernelapp as app\n"
     ]
    },
    {
     "name": "stdout",
     "output_type": "stream",
     "text": [
      "\n",
      "\n"
     ]
    },
    {
     "name": "stderr",
     "output_type": "stream",
     "text": [
      "C:\\Users\\GC\\Anaconda3\\envs\\ark\\lib\\site-packages\\ipykernel_launcher.py:10: UserWarning: Update your `Conv2D` call to the Keras 2 API: `Conv2D(64, (4, 4), activation=\"relu\", input_shape=(4, 4, 307..., padding=\"same\")`\n",
      "  # Remove the CWD from sys.path while we load stuff.\n",
      "C:\\Users\\GC\\Anaconda3\\envs\\ark\\lib\\site-packages\\ipykernel_launcher.py:15: UserWarning: Update your `Conv2D` call to the Keras 2 API: `Conv2D(8, (4, 4), activation=\"relu\", padding=\"same\")`\n",
      "  from ipykernel import kernelapp as app\n"
     ]
    },
    {
     "name": "stdout",
     "output_type": "stream",
     "text": [
      "\n",
      "\n"
     ]
    },
    {
     "name": "stderr",
     "output_type": "stream",
     "text": [
      "C:\\Users\\GC\\Anaconda3\\envs\\ark\\lib\\site-packages\\ipykernel_launcher.py:10: UserWarning: Update your `Conv2D` call to the Keras 2 API: `Conv2D(64, (4, 4), activation=\"relu\", input_shape=(4, 4, 307..., padding=\"same\")`\n",
      "  # Remove the CWD from sys.path while we load stuff.\n",
      "C:\\Users\\GC\\Anaconda3\\envs\\ark\\lib\\site-packages\\ipykernel_launcher.py:15: UserWarning: Update your `Conv2D` call to the Keras 2 API: `Conv2D(8, (4, 4), activation=\"relu\", padding=\"same\")`\n",
      "  from ipykernel import kernelapp as app\n"
     ]
    },
    {
     "name": "stdout",
     "output_type": "stream",
     "text": [
      "\n",
      "\n"
     ]
    },
    {
     "name": "stderr",
     "output_type": "stream",
     "text": [
      "C:\\Users\\GC\\Anaconda3\\envs\\ark\\lib\\site-packages\\ipykernel_launcher.py:10: UserWarning: Update your `Conv2D` call to the Keras 2 API: `Conv2D(64, (4, 4), activation=\"relu\", input_shape=(4, 4, 307..., padding=\"same\")`\n",
      "  # Remove the CWD from sys.path while we load stuff.\n",
      "C:\\Users\\GC\\Anaconda3\\envs\\ark\\lib\\site-packages\\ipykernel_launcher.py:15: UserWarning: Update your `Conv2D` call to the Keras 2 API: `Conv2D(8, (4, 4), activation=\"relu\", padding=\"same\")`\n",
      "  from ipykernel import kernelapp as app\n"
     ]
    },
    {
     "name": "stdout",
     "output_type": "stream",
     "text": [
      "\n",
      "\n"
     ]
    },
    {
     "name": "stderr",
     "output_type": "stream",
     "text": [
      "C:\\Users\\GC\\Anaconda3\\envs\\ark\\lib\\site-packages\\ipykernel_launcher.py:10: UserWarning: Update your `Conv2D` call to the Keras 2 API: `Conv2D(64, (4, 4), activation=\"relu\", input_shape=(4, 4, 307..., padding=\"same\")`\n",
      "  # Remove the CWD from sys.path while we load stuff.\n",
      "C:\\Users\\GC\\Anaconda3\\envs\\ark\\lib\\site-packages\\ipykernel_launcher.py:15: UserWarning: Update your `Conv2D` call to the Keras 2 API: `Conv2D(8, (4, 4), activation=\"relu\", padding=\"same\")`\n",
      "  from ipykernel import kernelapp as app\n"
     ]
    },
    {
     "name": "stdout",
     "output_type": "stream",
     "text": [
      "\n",
      "\n"
     ]
    },
    {
     "name": "stderr",
     "output_type": "stream",
     "text": [
      "C:\\Users\\GC\\Anaconda3\\envs\\ark\\lib\\site-packages\\ipykernel_launcher.py:10: UserWarning: Update your `Conv2D` call to the Keras 2 API: `Conv2D(64, (4, 4), activation=\"relu\", input_shape=(4, 4, 307..., padding=\"same\")`\n",
      "  # Remove the CWD from sys.path while we load stuff.\n",
      "C:\\Users\\GC\\Anaconda3\\envs\\ark\\lib\\site-packages\\ipykernel_launcher.py:15: UserWarning: Update your `Conv2D` call to the Keras 2 API: `Conv2D(8, (4, 4), activation=\"relu\", padding=\"same\")`\n",
      "  from ipykernel import kernelapp as app\n"
     ]
    },
    {
     "name": "stdout",
     "output_type": "stream",
     "text": [
      "\n",
      "\n"
     ]
    },
    {
     "name": "stderr",
     "output_type": "stream",
     "text": [
      "C:\\Users\\GC\\Anaconda3\\envs\\ark\\lib\\site-packages\\ipykernel_launcher.py:10: UserWarning: Update your `Conv2D` call to the Keras 2 API: `Conv2D(64, (4, 4), activation=\"relu\", input_shape=(4, 4, 307..., padding=\"same\")`\n",
      "  # Remove the CWD from sys.path while we load stuff.\n",
      "C:\\Users\\GC\\Anaconda3\\envs\\ark\\lib\\site-packages\\ipykernel_launcher.py:15: UserWarning: Update your `Conv2D` call to the Keras 2 API: `Conv2D(8, (4, 4), activation=\"relu\", padding=\"same\")`\n",
      "  from ipykernel import kernelapp as app\n"
     ]
    },
    {
     "name": "stdout",
     "output_type": "stream",
     "text": [
      "\n",
      "\n"
     ]
    },
    {
     "name": "stderr",
     "output_type": "stream",
     "text": [
      "C:\\Users\\GC\\Anaconda3\\envs\\ark\\lib\\site-packages\\ipykernel_launcher.py:10: UserWarning: Update your `Conv2D` call to the Keras 2 API: `Conv2D(64, (4, 4), activation=\"relu\", input_shape=(4, 4, 307..., padding=\"same\")`\n",
      "  # Remove the CWD from sys.path while we load stuff.\n",
      "C:\\Users\\GC\\Anaconda3\\envs\\ark\\lib\\site-packages\\ipykernel_launcher.py:15: UserWarning: Update your `Conv2D` call to the Keras 2 API: `Conv2D(8, (4, 4), activation=\"relu\", padding=\"same\")`\n",
      "  from ipykernel import kernelapp as app\n"
     ]
    },
    {
     "name": "stdout",
     "output_type": "stream",
     "text": [
      "\n",
      "\n"
     ]
    },
    {
     "name": "stderr",
     "output_type": "stream",
     "text": [
      "C:\\Users\\GC\\Anaconda3\\envs\\ark\\lib\\site-packages\\ipykernel_launcher.py:10: UserWarning: Update your `Conv2D` call to the Keras 2 API: `Conv2D(64, (4, 4), activation=\"relu\", input_shape=(4, 4, 307..., padding=\"same\")`\n",
      "  # Remove the CWD from sys.path while we load stuff.\n",
      "C:\\Users\\GC\\Anaconda3\\envs\\ark\\lib\\site-packages\\ipykernel_launcher.py:15: UserWarning: Update your `Conv2D` call to the Keras 2 API: `Conv2D(8, (4, 4), activation=\"relu\", padding=\"same\")`\n",
      "  from ipykernel import kernelapp as app\n"
     ]
    },
    {
     "name": "stdout",
     "output_type": "stream",
     "text": [
      "\n",
      "\n"
     ]
    },
    {
     "name": "stderr",
     "output_type": "stream",
     "text": [
      "C:\\Users\\GC\\Anaconda3\\envs\\ark\\lib\\site-packages\\ipykernel_launcher.py:10: UserWarning: Update your `Conv2D` call to the Keras 2 API: `Conv2D(64, (4, 4), activation=\"relu\", input_shape=(4, 4, 307..., padding=\"same\")`\n",
      "  # Remove the CWD from sys.path while we load stuff.\n",
      "C:\\Users\\GC\\Anaconda3\\envs\\ark\\lib\\site-packages\\ipykernel_launcher.py:15: UserWarning: Update your `Conv2D` call to the Keras 2 API: `Conv2D(8, (4, 4), activation=\"relu\", padding=\"same\")`\n",
      "  from ipykernel import kernelapp as app\n"
     ]
    },
    {
     "name": "stdout",
     "output_type": "stream",
     "text": [
      "\n",
      "\n"
     ]
    },
    {
     "name": "stderr",
     "output_type": "stream",
     "text": [
      "C:\\Users\\GC\\Anaconda3\\envs\\ark\\lib\\site-packages\\ipykernel_launcher.py:10: UserWarning: Update your `Conv2D` call to the Keras 2 API: `Conv2D(64, (4, 4), activation=\"relu\", input_shape=(4, 4, 307..., padding=\"same\")`\n",
      "  # Remove the CWD from sys.path while we load stuff.\n",
      "C:\\Users\\GC\\Anaconda3\\envs\\ark\\lib\\site-packages\\ipykernel_launcher.py:15: UserWarning: Update your `Conv2D` call to the Keras 2 API: `Conv2D(8, (4, 4), activation=\"relu\", padding=\"same\")`\n",
      "  from ipykernel import kernelapp as app\n"
     ]
    },
    {
     "name": "stdout",
     "output_type": "stream",
     "text": [
      "\n",
      "\n"
     ]
    },
    {
     "name": "stderr",
     "output_type": "stream",
     "text": [
      "C:\\Users\\GC\\Anaconda3\\envs\\ark\\lib\\site-packages\\ipykernel_launcher.py:10: UserWarning: Update your `Conv2D` call to the Keras 2 API: `Conv2D(64, (4, 4), activation=\"relu\", input_shape=(4, 4, 307..., padding=\"same\")`\n",
      "  # Remove the CWD from sys.path while we load stuff.\n",
      "C:\\Users\\GC\\Anaconda3\\envs\\ark\\lib\\site-packages\\ipykernel_launcher.py:15: UserWarning: Update your `Conv2D` call to the Keras 2 API: `Conv2D(8, (4, 4), activation=\"relu\", padding=\"same\")`\n",
      "  from ipykernel import kernelapp as app\n"
     ]
    },
    {
     "name": "stdout",
     "output_type": "stream",
     "text": [
      "\n",
      "\n"
     ]
    },
    {
     "name": "stderr",
     "output_type": "stream",
     "text": [
      "C:\\Users\\GC\\Anaconda3\\envs\\ark\\lib\\site-packages\\ipykernel_launcher.py:10: UserWarning: Update your `Conv2D` call to the Keras 2 API: `Conv2D(64, (4, 4), activation=\"relu\", input_shape=(4, 4, 307..., padding=\"same\")`\n",
      "  # Remove the CWD from sys.path while we load stuff.\n",
      "C:\\Users\\GC\\Anaconda3\\envs\\ark\\lib\\site-packages\\ipykernel_launcher.py:15: UserWarning: Update your `Conv2D` call to the Keras 2 API: `Conv2D(8, (4, 4), activation=\"relu\", padding=\"same\")`\n",
      "  from ipykernel import kernelapp as app\n"
     ]
    },
    {
     "name": "stdout",
     "output_type": "stream",
     "text": [
      "\n",
      "\n"
     ]
    },
    {
     "name": "stderr",
     "output_type": "stream",
     "text": [
      "C:\\Users\\GC\\Anaconda3\\envs\\ark\\lib\\site-packages\\ipykernel_launcher.py:10: UserWarning: Update your `Conv2D` call to the Keras 2 API: `Conv2D(64, (4, 4), activation=\"relu\", input_shape=(4, 4, 307..., padding=\"same\")`\n",
      "  # Remove the CWD from sys.path while we load stuff.\n",
      "C:\\Users\\GC\\Anaconda3\\envs\\ark\\lib\\site-packages\\ipykernel_launcher.py:15: UserWarning: Update your `Conv2D` call to the Keras 2 API: `Conv2D(8, (4, 4), activation=\"relu\", padding=\"same\")`\n",
      "  from ipykernel import kernelapp as app\n"
     ]
    },
    {
     "name": "stdout",
     "output_type": "stream",
     "text": [
      "\n",
      "\n"
     ]
    },
    {
     "name": "stderr",
     "output_type": "stream",
     "text": [
      "C:\\Users\\GC\\Anaconda3\\envs\\ark\\lib\\site-packages\\ipykernel_launcher.py:10: UserWarning: Update your `Conv2D` call to the Keras 2 API: `Conv2D(64, (4, 4), activation=\"relu\", input_shape=(4, 4, 307..., padding=\"same\")`\n",
      "  # Remove the CWD from sys.path while we load stuff.\n",
      "C:\\Users\\GC\\Anaconda3\\envs\\ark\\lib\\site-packages\\ipykernel_launcher.py:15: UserWarning: Update your `Conv2D` call to the Keras 2 API: `Conv2D(8, (4, 4), activation=\"relu\", padding=\"same\")`\n",
      "  from ipykernel import kernelapp as app\n"
     ]
    },
    {
     "name": "stdout",
     "output_type": "stream",
     "text": [
      "\n",
      "\n"
     ]
    },
    {
     "name": "stderr",
     "output_type": "stream",
     "text": [
      "C:\\Users\\GC\\Anaconda3\\envs\\ark\\lib\\site-packages\\ipykernel_launcher.py:10: UserWarning: Update your `Conv2D` call to the Keras 2 API: `Conv2D(64, (4, 4), activation=\"relu\", input_shape=(4, 4, 307..., padding=\"same\")`\n",
      "  # Remove the CWD from sys.path while we load stuff.\n",
      "C:\\Users\\GC\\Anaconda3\\envs\\ark\\lib\\site-packages\\ipykernel_launcher.py:15: UserWarning: Update your `Conv2D` call to the Keras 2 API: `Conv2D(8, (4, 4), activation=\"relu\", padding=\"same\")`\n",
      "  from ipykernel import kernelapp as app\n"
     ]
    },
    {
     "name": "stdout",
     "output_type": "stream",
     "text": [
      "\n",
      "\n"
     ]
    },
    {
     "name": "stderr",
     "output_type": "stream",
     "text": [
      "C:\\Users\\GC\\Anaconda3\\envs\\ark\\lib\\site-packages\\ipykernel_launcher.py:10: UserWarning: Update your `Conv2D` call to the Keras 2 API: `Conv2D(64, (4, 4), activation=\"relu\", input_shape=(4, 4, 307..., padding=\"same\")`\n",
      "  # Remove the CWD from sys.path while we load stuff.\n",
      "C:\\Users\\GC\\Anaconda3\\envs\\ark\\lib\\site-packages\\ipykernel_launcher.py:15: UserWarning: Update your `Conv2D` call to the Keras 2 API: `Conv2D(8, (4, 4), activation=\"relu\", padding=\"same\")`\n",
      "  from ipykernel import kernelapp as app\n"
     ]
    },
    {
     "name": "stdout",
     "output_type": "stream",
     "text": [
      "\n",
      "\n"
     ]
    },
    {
     "name": "stderr",
     "output_type": "stream",
     "text": [
      "C:\\Users\\GC\\Anaconda3\\envs\\ark\\lib\\site-packages\\ipykernel_launcher.py:10: UserWarning: Update your `Conv2D` call to the Keras 2 API: `Conv2D(64, (4, 4), activation=\"relu\", input_shape=(4, 4, 307..., padding=\"same\")`\n",
      "  # Remove the CWD from sys.path while we load stuff.\n",
      "C:\\Users\\GC\\Anaconda3\\envs\\ark\\lib\\site-packages\\ipykernel_launcher.py:15: UserWarning: Update your `Conv2D` call to the Keras 2 API: `Conv2D(8, (4, 4), activation=\"relu\", padding=\"same\")`\n",
      "  from ipykernel import kernelapp as app\n"
     ]
    },
    {
     "name": "stdout",
     "output_type": "stream",
     "text": [
      "\n",
      "\n"
     ]
    },
    {
     "name": "stderr",
     "output_type": "stream",
     "text": [
      "C:\\Users\\GC\\Anaconda3\\envs\\ark\\lib\\site-packages\\ipykernel_launcher.py:10: UserWarning: Update your `Conv2D` call to the Keras 2 API: `Conv2D(64, (4, 4), activation=\"relu\", input_shape=(4, 4, 307..., padding=\"same\")`\n",
      "  # Remove the CWD from sys.path while we load stuff.\n",
      "C:\\Users\\GC\\Anaconda3\\envs\\ark\\lib\\site-packages\\ipykernel_launcher.py:15: UserWarning: Update your `Conv2D` call to the Keras 2 API: `Conv2D(8, (4, 4), activation=\"relu\", padding=\"same\")`\n",
      "  from ipykernel import kernelapp as app\n"
     ]
    },
    {
     "name": "stdout",
     "output_type": "stream",
     "text": [
      "\n",
      "\n"
     ]
    },
    {
     "name": "stderr",
     "output_type": "stream",
     "text": [
      "C:\\Users\\GC\\Anaconda3\\envs\\ark\\lib\\site-packages\\ipykernel_launcher.py:10: UserWarning: Update your `Conv2D` call to the Keras 2 API: `Conv2D(64, (4, 4), activation=\"relu\", input_shape=(4, 4, 307..., padding=\"same\")`\n",
      "  # Remove the CWD from sys.path while we load stuff.\n",
      "C:\\Users\\GC\\Anaconda3\\envs\\ark\\lib\\site-packages\\ipykernel_launcher.py:15: UserWarning: Update your `Conv2D` call to the Keras 2 API: `Conv2D(8, (4, 4), activation=\"relu\", padding=\"same\")`\n",
      "  from ipykernel import kernelapp as app\n"
     ]
    },
    {
     "name": "stdout",
     "output_type": "stream",
     "text": [
      "\n",
      "\n"
     ]
    },
    {
     "name": "stderr",
     "output_type": "stream",
     "text": [
      "C:\\Users\\GC\\Anaconda3\\envs\\ark\\lib\\site-packages\\ipykernel_launcher.py:10: UserWarning: Update your `Conv2D` call to the Keras 2 API: `Conv2D(64, (4, 4), activation=\"relu\", input_shape=(4, 4, 307..., padding=\"same\")`\n",
      "  # Remove the CWD from sys.path while we load stuff.\n",
      "C:\\Users\\GC\\Anaconda3\\envs\\ark\\lib\\site-packages\\ipykernel_launcher.py:15: UserWarning: Update your `Conv2D` call to the Keras 2 API: `Conv2D(8, (4, 4), activation=\"relu\", padding=\"same\")`\n",
      "  from ipykernel import kernelapp as app\n"
     ]
    },
    {
     "name": "stdout",
     "output_type": "stream",
     "text": [
      "\n",
      "\n"
     ]
    },
    {
     "name": "stderr",
     "output_type": "stream",
     "text": [
      "C:\\Users\\GC\\Anaconda3\\envs\\ark\\lib\\site-packages\\ipykernel_launcher.py:10: UserWarning: Update your `Conv2D` call to the Keras 2 API: `Conv2D(64, (4, 4), activation=\"relu\", input_shape=(4, 4, 307..., padding=\"same\")`\n",
      "  # Remove the CWD from sys.path while we load stuff.\n",
      "C:\\Users\\GC\\Anaconda3\\envs\\ark\\lib\\site-packages\\ipykernel_launcher.py:15: UserWarning: Update your `Conv2D` call to the Keras 2 API: `Conv2D(8, (4, 4), activation=\"relu\", padding=\"same\")`\n",
      "  from ipykernel import kernelapp as app\n"
     ]
    },
    {
     "name": "stdout",
     "output_type": "stream",
     "text": [
      "\n",
      "\n"
     ]
    },
    {
     "name": "stderr",
     "output_type": "stream",
     "text": [
      "C:\\Users\\GC\\Anaconda3\\envs\\ark\\lib\\site-packages\\ipykernel_launcher.py:10: UserWarning: Update your `Conv2D` call to the Keras 2 API: `Conv2D(64, (4, 4), activation=\"relu\", input_shape=(4, 4, 307..., padding=\"same\")`\n",
      "  # Remove the CWD from sys.path while we load stuff.\n",
      "C:\\Users\\GC\\Anaconda3\\envs\\ark\\lib\\site-packages\\ipykernel_launcher.py:15: UserWarning: Update your `Conv2D` call to the Keras 2 API: `Conv2D(8, (4, 4), activation=\"relu\", padding=\"same\")`\n",
      "  from ipykernel import kernelapp as app\n"
     ]
    },
    {
     "name": "stdout",
     "output_type": "stream",
     "text": [
      "\n",
      "\n"
     ]
    },
    {
     "name": "stderr",
     "output_type": "stream",
     "text": [
      "C:\\Users\\GC\\Anaconda3\\envs\\ark\\lib\\site-packages\\ipykernel_launcher.py:10: UserWarning: Update your `Conv2D` call to the Keras 2 API: `Conv2D(64, (4, 4), activation=\"relu\", input_shape=(4, 4, 307..., padding=\"same\")`\n",
      "  # Remove the CWD from sys.path while we load stuff.\n",
      "C:\\Users\\GC\\Anaconda3\\envs\\ark\\lib\\site-packages\\ipykernel_launcher.py:15: UserWarning: Update your `Conv2D` call to the Keras 2 API: `Conv2D(8, (4, 4), activation=\"relu\", padding=\"same\")`\n",
      "  from ipykernel import kernelapp as app\n"
     ]
    },
    {
     "name": "stdout",
     "output_type": "stream",
     "text": [
      "\n",
      "\n"
     ]
    },
    {
     "name": "stderr",
     "output_type": "stream",
     "text": [
      "C:\\Users\\GC\\Anaconda3\\envs\\ark\\lib\\site-packages\\ipykernel_launcher.py:10: UserWarning: Update your `Conv2D` call to the Keras 2 API: `Conv2D(64, (4, 4), activation=\"relu\", input_shape=(4, 4, 307..., padding=\"same\")`\n",
      "  # Remove the CWD from sys.path while we load stuff.\n",
      "C:\\Users\\GC\\Anaconda3\\envs\\ark\\lib\\site-packages\\ipykernel_launcher.py:15: UserWarning: Update your `Conv2D` call to the Keras 2 API: `Conv2D(8, (4, 4), activation=\"relu\", padding=\"same\")`\n",
      "  from ipykernel import kernelapp as app\n"
     ]
    },
    {
     "name": "stdout",
     "output_type": "stream",
     "text": [
      "\n",
      "\n"
     ]
    },
    {
     "name": "stderr",
     "output_type": "stream",
     "text": [
      "C:\\Users\\GC\\Anaconda3\\envs\\ark\\lib\\site-packages\\ipykernel_launcher.py:10: UserWarning: Update your `Conv2D` call to the Keras 2 API: `Conv2D(64, (4, 4), activation=\"relu\", input_shape=(4, 4, 307..., padding=\"same\")`\n",
      "  # Remove the CWD from sys.path while we load stuff.\n",
      "C:\\Users\\GC\\Anaconda3\\envs\\ark\\lib\\site-packages\\ipykernel_launcher.py:15: UserWarning: Update your `Conv2D` call to the Keras 2 API: `Conv2D(8, (4, 4), activation=\"relu\", padding=\"same\")`\n",
      "  from ipykernel import kernelapp as app\n"
     ]
    },
    {
     "name": "stdout",
     "output_type": "stream",
     "text": [
      "\n",
      "\n"
     ]
    },
    {
     "name": "stderr",
     "output_type": "stream",
     "text": [
      "C:\\Users\\GC\\Anaconda3\\envs\\ark\\lib\\site-packages\\ipykernel_launcher.py:10: UserWarning: Update your `Conv2D` call to the Keras 2 API: `Conv2D(64, (4, 4), activation=\"relu\", input_shape=(4, 4, 307..., padding=\"same\")`\n",
      "  # Remove the CWD from sys.path while we load stuff.\n",
      "C:\\Users\\GC\\Anaconda3\\envs\\ark\\lib\\site-packages\\ipykernel_launcher.py:15: UserWarning: Update your `Conv2D` call to the Keras 2 API: `Conv2D(8, (4, 4), activation=\"relu\", padding=\"same\")`\n",
      "  from ipykernel import kernelapp as app\n"
     ]
    },
    {
     "name": "stdout",
     "output_type": "stream",
     "text": [
      "\n",
      "\n"
     ]
    },
    {
     "name": "stderr",
     "output_type": "stream",
     "text": [
      "C:\\Users\\GC\\Anaconda3\\envs\\ark\\lib\\site-packages\\ipykernel_launcher.py:10: UserWarning: Update your `Conv2D` call to the Keras 2 API: `Conv2D(64, (4, 4), activation=\"relu\", input_shape=(4, 4, 307..., padding=\"same\")`\n",
      "  # Remove the CWD from sys.path while we load stuff.\n",
      "C:\\Users\\GC\\Anaconda3\\envs\\ark\\lib\\site-packages\\ipykernel_launcher.py:15: UserWarning: Update your `Conv2D` call to the Keras 2 API: `Conv2D(8, (4, 4), activation=\"relu\", padding=\"same\")`\n",
      "  from ipykernel import kernelapp as app\n"
     ]
    },
    {
     "name": "stdout",
     "output_type": "stream",
     "text": [
      "\n",
      "\n"
     ]
    },
    {
     "name": "stderr",
     "output_type": "stream",
     "text": [
      "C:\\Users\\GC\\Anaconda3\\envs\\ark\\lib\\site-packages\\ipykernel_launcher.py:10: UserWarning: Update your `Conv2D` call to the Keras 2 API: `Conv2D(64, (4, 4), activation=\"relu\", input_shape=(4, 4, 307..., padding=\"same\")`\n",
      "  # Remove the CWD from sys.path while we load stuff.\n",
      "C:\\Users\\GC\\Anaconda3\\envs\\ark\\lib\\site-packages\\ipykernel_launcher.py:15: UserWarning: Update your `Conv2D` call to the Keras 2 API: `Conv2D(8, (4, 4), activation=\"relu\", padding=\"same\")`\n",
      "  from ipykernel import kernelapp as app\n"
     ]
    },
    {
     "name": "stdout",
     "output_type": "stream",
     "text": [
      "\n",
      "\n"
     ]
    },
    {
     "name": "stderr",
     "output_type": "stream",
     "text": [
      "C:\\Users\\GC\\Anaconda3\\envs\\ark\\lib\\site-packages\\ipykernel_launcher.py:10: UserWarning: Update your `Conv2D` call to the Keras 2 API: `Conv2D(64, (4, 4), activation=\"relu\", input_shape=(4, 4, 307..., padding=\"same\")`\n",
      "  # Remove the CWD from sys.path while we load stuff.\n",
      "C:\\Users\\GC\\Anaconda3\\envs\\ark\\lib\\site-packages\\ipykernel_launcher.py:15: UserWarning: Update your `Conv2D` call to the Keras 2 API: `Conv2D(8, (4, 4), activation=\"relu\", padding=\"same\")`\n",
      "  from ipykernel import kernelapp as app\n"
     ]
    },
    {
     "name": "stdout",
     "output_type": "stream",
     "text": [
      "\n",
      "\n"
     ]
    },
    {
     "name": "stderr",
     "output_type": "stream",
     "text": [
      "C:\\Users\\GC\\Anaconda3\\envs\\ark\\lib\\site-packages\\ipykernel_launcher.py:10: UserWarning: Update your `Conv2D` call to the Keras 2 API: `Conv2D(64, (4, 4), activation=\"relu\", input_shape=(4, 4, 307..., padding=\"same\")`\n",
      "  # Remove the CWD from sys.path while we load stuff.\n",
      "C:\\Users\\GC\\Anaconda3\\envs\\ark\\lib\\site-packages\\ipykernel_launcher.py:15: UserWarning: Update your `Conv2D` call to the Keras 2 API: `Conv2D(8, (4, 4), activation=\"relu\", padding=\"same\")`\n",
      "  from ipykernel import kernelapp as app\n"
     ]
    },
    {
     "name": "stdout",
     "output_type": "stream",
     "text": [
      "\n",
      "\n"
     ]
    },
    {
     "name": "stderr",
     "output_type": "stream",
     "text": [
      "C:\\Users\\GC\\Anaconda3\\envs\\ark\\lib\\site-packages\\ipykernel_launcher.py:10: UserWarning: Update your `Conv2D` call to the Keras 2 API: `Conv2D(64, (4, 4), activation=\"relu\", input_shape=(4, 4, 307..., padding=\"same\")`\n",
      "  # Remove the CWD from sys.path while we load stuff.\n",
      "C:\\Users\\GC\\Anaconda3\\envs\\ark\\lib\\site-packages\\ipykernel_launcher.py:15: UserWarning: Update your `Conv2D` call to the Keras 2 API: `Conv2D(8, (4, 4), activation=\"relu\", padding=\"same\")`\n",
      "  from ipykernel import kernelapp as app\n"
     ]
    },
    {
     "name": "stdout",
     "output_type": "stream",
     "text": [
      "\n",
      "\n"
     ]
    },
    {
     "name": "stderr",
     "output_type": "stream",
     "text": [
      "C:\\Users\\GC\\Anaconda3\\envs\\ark\\lib\\site-packages\\ipykernel_launcher.py:10: UserWarning: Update your `Conv2D` call to the Keras 2 API: `Conv2D(64, (4, 4), activation=\"relu\", input_shape=(4, 4, 307..., padding=\"same\")`\n",
      "  # Remove the CWD from sys.path while we load stuff.\n",
      "C:\\Users\\GC\\Anaconda3\\envs\\ark\\lib\\site-packages\\ipykernel_launcher.py:15: UserWarning: Update your `Conv2D` call to the Keras 2 API: `Conv2D(8, (4, 4), activation=\"relu\", padding=\"same\")`\n",
      "  from ipykernel import kernelapp as app\n"
     ]
    },
    {
     "name": "stdout",
     "output_type": "stream",
     "text": [
      "\n",
      "\n"
     ]
    },
    {
     "name": "stderr",
     "output_type": "stream",
     "text": [
      "C:\\Users\\GC\\Anaconda3\\envs\\ark\\lib\\site-packages\\ipykernel_launcher.py:10: UserWarning: Update your `Conv2D` call to the Keras 2 API: `Conv2D(64, (4, 4), activation=\"relu\", input_shape=(4, 4, 307..., padding=\"same\")`\n",
      "  # Remove the CWD from sys.path while we load stuff.\n",
      "C:\\Users\\GC\\Anaconda3\\envs\\ark\\lib\\site-packages\\ipykernel_launcher.py:15: UserWarning: Update your `Conv2D` call to the Keras 2 API: `Conv2D(8, (4, 4), activation=\"relu\", padding=\"same\")`\n",
      "  from ipykernel import kernelapp as app\n"
     ]
    },
    {
     "name": "stdout",
     "output_type": "stream",
     "text": [
      "\n",
      "\n"
     ]
    },
    {
     "name": "stderr",
     "output_type": "stream",
     "text": [
      "C:\\Users\\GC\\Anaconda3\\envs\\ark\\lib\\site-packages\\ipykernel_launcher.py:10: UserWarning: Update your `Conv2D` call to the Keras 2 API: `Conv2D(64, (4, 4), activation=\"relu\", input_shape=(4, 4, 307..., padding=\"same\")`\n",
      "  # Remove the CWD from sys.path while we load stuff.\n",
      "C:\\Users\\GC\\Anaconda3\\envs\\ark\\lib\\site-packages\\ipykernel_launcher.py:15: UserWarning: Update your `Conv2D` call to the Keras 2 API: `Conv2D(8, (4, 4), activation=\"relu\", padding=\"same\")`\n",
      "  from ipykernel import kernelapp as app\n"
     ]
    },
    {
     "name": "stdout",
     "output_type": "stream",
     "text": [
      "\n",
      "\n"
     ]
    },
    {
     "name": "stderr",
     "output_type": "stream",
     "text": [
      "C:\\Users\\GC\\Anaconda3\\envs\\ark\\lib\\site-packages\\ipykernel_launcher.py:10: UserWarning: Update your `Conv2D` call to the Keras 2 API: `Conv2D(64, (4, 4), activation=\"relu\", input_shape=(4, 4, 307..., padding=\"same\")`\n",
      "  # Remove the CWD from sys.path while we load stuff.\n",
      "C:\\Users\\GC\\Anaconda3\\envs\\ark\\lib\\site-packages\\ipykernel_launcher.py:15: UserWarning: Update your `Conv2D` call to the Keras 2 API: `Conv2D(8, (4, 4), activation=\"relu\", padding=\"same\")`\n",
      "  from ipykernel import kernelapp as app\n"
     ]
    },
    {
     "name": "stdout",
     "output_type": "stream",
     "text": [
      "\n",
      "\n"
     ]
    },
    {
     "name": "stderr",
     "output_type": "stream",
     "text": [
      "C:\\Users\\GC\\Anaconda3\\envs\\ark\\lib\\site-packages\\ipykernel_launcher.py:10: UserWarning: Update your `Conv2D` call to the Keras 2 API: `Conv2D(64, (4, 4), activation=\"relu\", input_shape=(4, 4, 307..., padding=\"same\")`\n",
      "  # Remove the CWD from sys.path while we load stuff.\n",
      "C:\\Users\\GC\\Anaconda3\\envs\\ark\\lib\\site-packages\\ipykernel_launcher.py:15: UserWarning: Update your `Conv2D` call to the Keras 2 API: `Conv2D(8, (4, 4), activation=\"relu\", padding=\"same\")`\n",
      "  from ipykernel import kernelapp as app\n"
     ]
    },
    {
     "name": "stdout",
     "output_type": "stream",
     "text": [
      "\n",
      "\n"
     ]
    },
    {
     "name": "stderr",
     "output_type": "stream",
     "text": [
      "C:\\Users\\GC\\Anaconda3\\envs\\ark\\lib\\site-packages\\ipykernel_launcher.py:10: UserWarning: Update your `Conv2D` call to the Keras 2 API: `Conv2D(64, (4, 4), activation=\"relu\", input_shape=(4, 4, 307..., padding=\"same\")`\n",
      "  # Remove the CWD from sys.path while we load stuff.\n",
      "C:\\Users\\GC\\Anaconda3\\envs\\ark\\lib\\site-packages\\ipykernel_launcher.py:15: UserWarning: Update your `Conv2D` call to the Keras 2 API: `Conv2D(8, (4, 4), activation=\"relu\", padding=\"same\")`\n",
      "  from ipykernel import kernelapp as app\n"
     ]
    },
    {
     "name": "stdout",
     "output_type": "stream",
     "text": [
      "\n",
      "\n"
     ]
    },
    {
     "name": "stderr",
     "output_type": "stream",
     "text": [
      "C:\\Users\\GC\\Anaconda3\\envs\\ark\\lib\\site-packages\\ipykernel_launcher.py:10: UserWarning: Update your `Conv2D` call to the Keras 2 API: `Conv2D(64, (4, 4), activation=\"relu\", input_shape=(4, 4, 307..., padding=\"same\")`\n",
      "  # Remove the CWD from sys.path while we load stuff.\n",
      "C:\\Users\\GC\\Anaconda3\\envs\\ark\\lib\\site-packages\\ipykernel_launcher.py:15: UserWarning: Update your `Conv2D` call to the Keras 2 API: `Conv2D(8, (4, 4), activation=\"relu\", padding=\"same\")`\n",
      "  from ipykernel import kernelapp as app\n"
     ]
    },
    {
     "name": "stdout",
     "output_type": "stream",
     "text": [
      "\n",
      "\n"
     ]
    },
    {
     "name": "stderr",
     "output_type": "stream",
     "text": [
      "C:\\Users\\GC\\Anaconda3\\envs\\ark\\lib\\site-packages\\ipykernel_launcher.py:10: UserWarning: Update your `Conv2D` call to the Keras 2 API: `Conv2D(64, (4, 4), activation=\"relu\", input_shape=(4, 4, 307..., padding=\"same\")`\n",
      "  # Remove the CWD from sys.path while we load stuff.\n",
      "C:\\Users\\GC\\Anaconda3\\envs\\ark\\lib\\site-packages\\ipykernel_launcher.py:15: UserWarning: Update your `Conv2D` call to the Keras 2 API: `Conv2D(8, (4, 4), activation=\"relu\", padding=\"same\")`\n",
      "  from ipykernel import kernelapp as app\n"
     ]
    },
    {
     "name": "stdout",
     "output_type": "stream",
     "text": [
      "\n",
      "\n"
     ]
    },
    {
     "name": "stderr",
     "output_type": "stream",
     "text": [
      "C:\\Users\\GC\\Anaconda3\\envs\\ark\\lib\\site-packages\\ipykernel_launcher.py:10: UserWarning: Update your `Conv2D` call to the Keras 2 API: `Conv2D(64, (4, 4), activation=\"relu\", input_shape=(4, 4, 307..., padding=\"same\")`\n",
      "  # Remove the CWD from sys.path while we load stuff.\n",
      "C:\\Users\\GC\\Anaconda3\\envs\\ark\\lib\\site-packages\\ipykernel_launcher.py:15: UserWarning: Update your `Conv2D` call to the Keras 2 API: `Conv2D(8, (4, 4), activation=\"relu\", padding=\"same\")`\n",
      "  from ipykernel import kernelapp as app\n"
     ]
    },
    {
     "name": "stdout",
     "output_type": "stream",
     "text": [
      "\n",
      "\n",
      "0.97 (+/- 0.07%)\n",
      "0.90 (+/- 0.22%)\n",
      "0.99 (+/- 0.10%)\n"
     ]
    }
   ],
   "source": [
    "accuracy_scores = []\n",
    "sensitivity_scores = []\n",
    "specificity_scores = []\n",
    "\n",
    "import keras.backend.tensorflow_backend as Keras_GPU\n",
    "from sklearn.model_selection import KFold\n",
    "from keras.optimizers import Adam\n",
    "opt = Adam(lr=0.00001)\n",
    "for i in range(10):\n",
    "    kfold = KFold(n_splits=10, shuffle=True, random_state=i)\n",
    "    for train, test in kfold.split(all_dataframe, y):\n",
    "        K.clear_session()\n",
    "        \n",
    "        X_train = index_to_list(all_dataframe, train)\n",
    "        y_train = y[train]\n",
    "        X_test = index_to_list(all_dataframe, test)\n",
    "        y_test = y[test]\n",
    "\n",
    "\n",
    "        X_train = eeg_band_power_seperate(X_train)\n",
    "        X_test = eeg_band_power_seperate(X_test)\n",
    "        \n",
    "        X_train = X_train[1:]\n",
    "        X_test = X_test[1:]\n",
    "        \n",
    "        X_train_shape = X_train.shape\n",
    "        X_test_shape = X_test.shape\n",
    "        \n",
    "        scaler = Normalizer()\n",
    "        X_train = X_train.reshape(X_train_shape[0]*X_train_shape[1]*X_train_shape[2],30720).T\n",
    "        X_test = X_test.reshape(X_test_shape[0]*X_test_shape[1]*X_test_shape[2],30720).T\n",
    "\n",
    "        X_train = scaler.fit_transform(X_train)\n",
    "        X_test = scaler.transform(X_test)\n",
    "        \n",
    "        X_train = X_train.T.reshape(X_train_shape[0],X_train_shape[1],X_train_shape[2],30720)\n",
    "        X_test = X_test.T.reshape(X_test_shape[0],X_test_shape[1],X_test_shape[2],30720)\n",
    "\n",
    "\n",
    "        model = conv2d_model()\n",
    "\n",
    "\n",
    "        model.compile(optimizer='Adam',\n",
    "                      loss='binary_crossentropy',\n",
    "                      metrics=['accuracy', sensitivity, specificity])\n",
    "\n",
    "        model.fit(X_train, y_train, epochs=40,batch_size=256, verbose=0)\n",
    "\n",
    "        scores = model.evaluate(X_test, y_test, verbose=0)\n",
    "\n",
    "        #print(\"%s: %.2f%%\" % (model.metrics_names[1], scores[1]*100))\n",
    "        #print(\"%s: %.2f%%\" % (model.metrics_names[2], scores[2]*100))\n",
    "        #print(\"%s: %.2f%%\" % (model.metrics_names[3], scores[3]*100))\n",
    "\n",
    "        print(\"\\n\")\n",
    "        accuracy_scores.append(scores[1])\n",
    "        sensitivity_scores.append(scores[2])\n",
    "        specificity_scores.append(scores[3])\n",
    "\n",
    "    \n",
    "print(\"%.2f (+/- %.2f%%)\" % (np.mean(accuracy_scores), np.std(accuracy_scores)))\n",
    "print(\"%.2f (+/- %.2f%%)\" % (np.mean(sensitivity_scores), np.std(sensitivity_scores)))\n",
    "print(\"%.2f (+/- %.2f%%)\" % (np.mean(specificity_scores), np.std(specificity_scores)))\n",
    "\n",
    "    \n",
    "    \n",
    "    \n",
    "    \n",
    "    "
   ]
  },
  {
   "cell_type": "code",
   "execution_count": 53,
   "metadata": {},
   "outputs": [
    {
     "name": "stdout",
     "output_type": "stream",
     "text": [
      "0.9680 (+/- 0.07%)\n",
      "0.9038 (+/- 0.22%)\n",
      "0.9900 (+/- 0.10%)\n"
     ]
    }
   ],
   "source": [
    "print(\"%.4f (+/- %.2f%%)\" % (np.mean(accuracy_scores), np.std(accuracy_scores)))\n",
    "print(\"%.4f (+/- %.2f%%)\" % (np.mean(sensitivity_scores), np.std(sensitivity_scores)))\n",
    "print(\"%.4f (+/- %.2f%%)\" % (np.mean(specificity_scores), np.std(specificity_scores)))\n"
   ]
  },
  {
   "cell_type": "code",
   "execution_count": null,
   "metadata": {},
   "outputs": [],
   "source": []
  }
 ],
 "metadata": {
  "kernelspec": {
   "display_name": "Python 3",
   "language": "python",
   "name": "python3"
  },
  "language_info": {
   "codemirror_mode": {
    "name": "ipython",
    "version": 3
   },
   "file_extension": ".py",
   "mimetype": "text/x-python",
   "name": "python",
   "nbconvert_exporter": "python",
   "pygments_lexer": "ipython3",
   "version": "3.7.3"
  },
  "pycharm": {
   "stem_cell": {
    "cell_type": "raw",
    "metadata": {
     "collapsed": false
    },
    "source": []
   }
  }
 },
 "nbformat": 4,
 "nbformat_minor": 4
}
